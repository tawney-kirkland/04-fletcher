{
 "cells": [
  {
   "cell_type": "code",
   "execution_count": 86,
   "metadata": {},
   "outputs": [],
   "source": [
    "import pandas as pd\n",
    "from pandas import option_context\n",
    "import numpy as np\n",
    "\n",
    "import nltk\n",
    "from nltk.corpus import stopwords\n",
    "\n",
    "import re\n",
    "import string\n",
    "\n",
    "from sklearn.model_selection import train_test_split\n",
    "from sklearn.feature_extraction.text import CountVectorizer \n",
    "from sklearn.metrics import confusion_matrix, accuracy_score, classification_report\n",
    "from sklearn.ensemble import RandomForestClassifier\n",
    "\n",
    "import xgboost as xgb\n",
    "from xgboost import XGBClassifier\n",
    "\n",
    "import matplotlib.pyplot as plt\n",
    "import seaborn as sns\n",
    "%matplotlib inline"
   ]
  },
  {
   "cell_type": "code",
   "execution_count": 2,
   "metadata": {},
   "outputs": [],
   "source": [
    "df = pd.read_csv('04-data/training_base.csv')"
   ]
  },
  {
   "cell_type": "code",
   "execution_count": 3,
   "metadata": {},
   "outputs": [
    {
     "data": {
      "text/plain": [
       "(3576, 10)"
      ]
     },
     "execution_count": 3,
     "metadata": {},
     "output_type": "execute_result"
    }
   ],
   "source": [
    "df.shape"
   ]
  },
  {
   "cell_type": "code",
   "execution_count": 4,
   "metadata": {},
   "outputs": [],
   "source": [
    "def remove_space(text):\n",
    "    text = text.strip()\n",
    "    text = re.sub(\"\\s\\s+\", \" \", text)\n",
    "    return text\n",
    "    \n",
    "df['tweet_compound'] = df.tweet_compound.map(remove_space)\n",
    "df['tweet'] = df.tweet.map(remove_space)"
   ]
  },
  {
   "cell_type": "code",
   "execution_count": 5,
   "metadata": {},
   "outputs": [],
   "source": [
    "df.to_csv('04-data/training_base_new.csv')"
   ]
  },
  {
   "cell_type": "code",
   "execution_count": 6,
   "metadata": {},
   "outputs": [],
   "source": [
    "df1 = pd.read_csv('04-data/training_base_new.csv')"
   ]
  },
  {
   "cell_type": "code",
   "execution_count": 7,
   "metadata": {},
   "outputs": [],
   "source": [
    "train, test = train_test_split(df1, test_size = 0.2, random_state=10)"
   ]
  },
  {
   "cell_type": "code",
   "execution_count": 8,
   "metadata": {},
   "outputs": [
    {
     "data": {
      "text/html": [
       "<div>\n",
       "<style scoped>\n",
       "    .dataframe tbody tr th:only-of-type {\n",
       "        vertical-align: middle;\n",
       "    }\n",
       "\n",
       "    .dataframe tbody tr th {\n",
       "        vertical-align: top;\n",
       "    }\n",
       "\n",
       "    .dataframe thead th {\n",
       "        text-align: right;\n",
       "    }\n",
       "</style>\n",
       "<table border=\"1\" class=\"dataframe\">\n",
       "  <thead>\n",
       "    <tr style=\"text-align: right;\">\n",
       "      <th></th>\n",
       "      <th>Unnamed: 0</th>\n",
       "      <th>Unnamed: 0.1</th>\n",
       "      <th>username</th>\n",
       "      <th>tweet</th>\n",
       "      <th>tweet_compound</th>\n",
       "      <th>topic</th>\n",
       "      <th>neg</th>\n",
       "      <th>neu</th>\n",
       "      <th>pos</th>\n",
       "      <th>compound</th>\n",
       "    </tr>\n",
       "    <tr>\n",
       "      <th>intent</th>\n",
       "      <th></th>\n",
       "      <th></th>\n",
       "      <th></th>\n",
       "      <th></th>\n",
       "      <th></th>\n",
       "      <th></th>\n",
       "      <th></th>\n",
       "      <th></th>\n",
       "      <th></th>\n",
       "      <th></th>\n",
       "    </tr>\n",
       "  </thead>\n",
       "  <tbody>\n",
       "    <tr>\n",
       "      <th>0</th>\n",
       "      <td>1111</td>\n",
       "      <td>1111</td>\n",
       "      <td>1111</td>\n",
       "      <td>1111</td>\n",
       "      <td>1111</td>\n",
       "      <td>1111</td>\n",
       "      <td>1111</td>\n",
       "      <td>1111</td>\n",
       "      <td>1111</td>\n",
       "      <td>1111</td>\n",
       "    </tr>\n",
       "    <tr>\n",
       "      <th>2</th>\n",
       "      <td>1280</td>\n",
       "      <td>1280</td>\n",
       "      <td>1280</td>\n",
       "      <td>1280</td>\n",
       "      <td>1280</td>\n",
       "      <td>1280</td>\n",
       "      <td>1280</td>\n",
       "      <td>1280</td>\n",
       "      <td>1280</td>\n",
       "      <td>1280</td>\n",
       "    </tr>\n",
       "    <tr>\n",
       "      <th>3</th>\n",
       "      <td>182</td>\n",
       "      <td>182</td>\n",
       "      <td>182</td>\n",
       "      <td>182</td>\n",
       "      <td>182</td>\n",
       "      <td>182</td>\n",
       "      <td>182</td>\n",
       "      <td>182</td>\n",
       "      <td>182</td>\n",
       "      <td>182</td>\n",
       "    </tr>\n",
       "    <tr>\n",
       "      <th>4</th>\n",
       "      <td>287</td>\n",
       "      <td>287</td>\n",
       "      <td>287</td>\n",
       "      <td>287</td>\n",
       "      <td>287</td>\n",
       "      <td>287</td>\n",
       "      <td>287</td>\n",
       "      <td>287</td>\n",
       "      <td>287</td>\n",
       "      <td>287</td>\n",
       "    </tr>\n",
       "  </tbody>\n",
       "</table>\n",
       "</div>"
      ],
      "text/plain": [
       "        Unnamed: 0  Unnamed: 0.1  username  tweet  tweet_compound  topic  \\\n",
       "intent                                                                     \n",
       "0             1111          1111      1111   1111            1111   1111   \n",
       "2             1280          1280      1280   1280            1280   1280   \n",
       "3              182           182       182    182             182    182   \n",
       "4              287           287       287    287             287    287   \n",
       "\n",
       "         neg   neu   pos  compound  \n",
       "intent                              \n",
       "0       1111  1111  1111      1111  \n",
       "2       1280  1280  1280      1280  \n",
       "3        182   182   182       182  \n",
       "4        287   287   287       287  "
      ]
     },
     "execution_count": 8,
     "metadata": {},
     "output_type": "execute_result"
    }
   ],
   "source": [
    "train.groupby('intent').count()"
   ]
  },
  {
   "cell_type": "code",
   "execution_count": 9,
   "metadata": {},
   "outputs": [],
   "source": [
    "stop = stopwords.words('english')"
   ]
  },
  {
   "cell_type": "markdown",
   "metadata": {},
   "source": [
    "# Intent analysis"
   ]
  },
  {
   "cell_type": "markdown",
   "metadata": {},
   "source": [
    "## With XGBoost\n",
    "### No tuning"
   ]
  },
  {
   "cell_type": "code",
   "execution_count": 22,
   "metadata": {},
   "outputs": [],
   "source": [
    "X_tr3 = train['tweet']\n",
    "y_tr3 = train[['intent']]"
   ]
  },
  {
   "cell_type": "code",
   "execution_count": 23,
   "metadata": {},
   "outputs": [],
   "source": [
    "# creating bag of words model \n",
    "cv3 = CountVectorizer(stop_words = stop,\n",
    "                      max_features=880) \n",
    "  \n",
    "X3 = cv3.fit_transform(train['tweet']).toarray() \n",
    "y3 = y_tr3.iloc[:, 0].values \n",
    "\n",
    "# fitting XGB to the training set \n",
    "gbm3 = xgb.XGBClassifier(max_depth=5,\n",
    "                         learning_rate = 0.05,\n",
    "                         objective = 'multi:softmax',\n",
    "                         num_class = 4)"
   ]
  },
  {
   "cell_type": "code",
   "execution_count": 24,
   "metadata": {
    "scrolled": false
   },
   "outputs": [
    {
     "data": {
      "text/plain": [
       "XGBClassifier(base_score=0.5, booster='gbtree', colsample_bylevel=1,\n",
       "              colsample_bynode=1, colsample_bytree=1, gamma=0, gpu_id=-1,\n",
       "              importance_type='gain', interaction_constraints='',\n",
       "              learning_rate=0.05, max_delta_step=0, max_depth=5,\n",
       "              min_child_weight=1, missing=nan, monotone_constraints='()',\n",
       "              n_estimators=100, n_jobs=0, num_class=4, num_parallel_tree=1,\n",
       "              objective='multi:softprob', random_state=0, reg_alpha=0,\n",
       "              reg_lambda=1, scale_pos_weight=None, subsample=1,\n",
       "              tree_method='exact', validate_parameters=1, verbosity=None)"
      ]
     },
     "execution_count": 24,
     "metadata": {},
     "output_type": "execute_result"
    }
   ],
   "source": [
    "gbm3.fit(X3,y3)"
   ]
  },
  {
   "cell_type": "code",
   "execution_count": 25,
   "metadata": {
    "scrolled": true
   },
   "outputs": [],
   "source": [
    "test_gbm3 = test.copy()\n",
    "X_test3 = test['tweet']\n",
    "X_t3_cv = cv3.fit_transform(X_test3).toarray() \n",
    "y_pred3 = gbm3.predict(X_t3_cv)\n",
    "gbm_pred3 = [round(value) for value in y_pred3]\n",
    "test_gbm3['pred'] =  gbm_pred3"
   ]
  },
  {
   "cell_type": "code",
   "execution_count": 26,
   "metadata": {
    "scrolled": true
   },
   "outputs": [
    {
     "name": "stdout",
     "output_type": "stream",
     "text": [
      "Accuracy: 49.02%\n"
     ]
    }
   ],
   "source": [
    "accuracy3 = accuracy_score(test['intent'], gbm_pred3)\n",
    "print(\"Accuracy: %.2f%%\" % (accuracy3 * 100.0))"
   ]
  },
  {
   "cell_type": "code",
   "execution_count": 27,
   "metadata": {
    "scrolled": false
   },
   "outputs": [
    {
     "data": {
      "text/plain": [
       "array([[ 91, 150,   5,  18],\n",
       "       [ 69, 257,   3,  12],\n",
       "       [ 11,  31,   2,   1],\n",
       "       [  8,  57,   0,   1]])"
      ]
     },
     "execution_count": 27,
     "metadata": {},
     "output_type": "execute_result"
    }
   ],
   "source": [
    "confusion_matrix(test['intent'], test_gbm3['pred'])"
   ]
  },
  {
   "cell_type": "code",
   "execution_count": 28,
   "metadata": {
    "scrolled": true
   },
   "outputs": [
    {
     "name": "stdout",
     "output_type": "stream",
     "text": [
      "              precision    recall  f1-score   support\n",
      "\n",
      "           0       0.51      0.34      0.41       264\n",
      "           2       0.52      0.75      0.61       341\n",
      "           3       0.20      0.04      0.07        45\n",
      "           4       0.03      0.02      0.02        66\n",
      "\n",
      "    accuracy                           0.49       716\n",
      "   macro avg       0.31      0.29      0.28       716\n",
      "weighted avg       0.45      0.49      0.45       716\n",
      "\n"
     ]
    }
   ],
   "source": [
    "print(classification_report(test['intent'], test_gbm3['pred']))"
   ]
  },
  {
   "cell_type": "code",
   "execution_count": 29,
   "metadata": {},
   "outputs": [
    {
     "data": {
      "text/html": [
       "<div>\n",
       "<style scoped>\n",
       "    .dataframe tbody tr th:only-of-type {\n",
       "        vertical-align: middle;\n",
       "    }\n",
       "\n",
       "    .dataframe tbody tr th {\n",
       "        vertical-align: top;\n",
       "    }\n",
       "\n",
       "    .dataframe thead th {\n",
       "        text-align: right;\n",
       "    }\n",
       "</style>\n",
       "<table border=\"1\" class=\"dataframe\">\n",
       "  <thead>\n",
       "    <tr style=\"text-align: right;\">\n",
       "      <th></th>\n",
       "      <th>Unnamed: 0</th>\n",
       "      <th>Unnamed: 0.1</th>\n",
       "      <th>username</th>\n",
       "      <th>tweet</th>\n",
       "      <th>tweet_compound</th>\n",
       "      <th>intent</th>\n",
       "      <th>topic</th>\n",
       "      <th>neg</th>\n",
       "      <th>neu</th>\n",
       "      <th>pos</th>\n",
       "      <th>compound</th>\n",
       "    </tr>\n",
       "    <tr>\n",
       "      <th>pred</th>\n",
       "      <th></th>\n",
       "      <th></th>\n",
       "      <th></th>\n",
       "      <th></th>\n",
       "      <th></th>\n",
       "      <th></th>\n",
       "      <th></th>\n",
       "      <th></th>\n",
       "      <th></th>\n",
       "      <th></th>\n",
       "      <th></th>\n",
       "    </tr>\n",
       "  </thead>\n",
       "  <tbody>\n",
       "    <tr>\n",
       "      <th>0</th>\n",
       "      <td>179</td>\n",
       "      <td>179</td>\n",
       "      <td>179</td>\n",
       "      <td>179</td>\n",
       "      <td>179</td>\n",
       "      <td>179</td>\n",
       "      <td>179</td>\n",
       "      <td>179</td>\n",
       "      <td>179</td>\n",
       "      <td>179</td>\n",
       "      <td>179</td>\n",
       "    </tr>\n",
       "    <tr>\n",
       "      <th>2</th>\n",
       "      <td>495</td>\n",
       "      <td>495</td>\n",
       "      <td>495</td>\n",
       "      <td>495</td>\n",
       "      <td>495</td>\n",
       "      <td>495</td>\n",
       "      <td>495</td>\n",
       "      <td>495</td>\n",
       "      <td>495</td>\n",
       "      <td>495</td>\n",
       "      <td>495</td>\n",
       "    </tr>\n",
       "    <tr>\n",
       "      <th>3</th>\n",
       "      <td>10</td>\n",
       "      <td>10</td>\n",
       "      <td>10</td>\n",
       "      <td>10</td>\n",
       "      <td>10</td>\n",
       "      <td>10</td>\n",
       "      <td>10</td>\n",
       "      <td>10</td>\n",
       "      <td>10</td>\n",
       "      <td>10</td>\n",
       "      <td>10</td>\n",
       "    </tr>\n",
       "    <tr>\n",
       "      <th>4</th>\n",
       "      <td>32</td>\n",
       "      <td>32</td>\n",
       "      <td>32</td>\n",
       "      <td>32</td>\n",
       "      <td>32</td>\n",
       "      <td>32</td>\n",
       "      <td>32</td>\n",
       "      <td>32</td>\n",
       "      <td>32</td>\n",
       "      <td>32</td>\n",
       "      <td>32</td>\n",
       "    </tr>\n",
       "  </tbody>\n",
       "</table>\n",
       "</div>"
      ],
      "text/plain": [
       "      Unnamed: 0  Unnamed: 0.1  username  tweet  tweet_compound  intent  \\\n",
       "pred                                                                      \n",
       "0            179           179       179    179             179     179   \n",
       "2            495           495       495    495             495     495   \n",
       "3             10            10        10     10              10      10   \n",
       "4             32            32        32     32              32      32   \n",
       "\n",
       "      topic  neg  neu  pos  compound  \n",
       "pred                                  \n",
       "0       179  179  179  179       179  \n",
       "2       495  495  495  495       495  \n",
       "3        10   10   10   10        10  \n",
       "4        32   32   32   32        32  "
      ]
     },
     "execution_count": 29,
     "metadata": {},
     "output_type": "execute_result"
    }
   ],
   "source": [
    "test_gbm3.groupby('pred').count()"
   ]
  },
  {
   "cell_type": "markdown",
   "metadata": {},
   "source": [
    "## Tuned parameters"
   ]
  },
  {
   "cell_type": "code",
   "execution_count": 30,
   "metadata": {},
   "outputs": [],
   "source": [
    "X_tr4 = train['tweet']\n",
    "y_tr4 = train[['intent']]"
   ]
  },
  {
   "cell_type": "code",
   "execution_count": 31,
   "metadata": {},
   "outputs": [],
   "source": [
    "# creating bag of words model \n",
    "cv4 = CountVectorizer(stop_words = stop,\n",
    "                      max_features=880) \n",
    "  \n",
    "X4 = cv4.fit_transform(X_tr4).toarray() \n",
    "y4 = y_tr4.iloc[:, 0].values \n",
    "\n",
    "# fitting XGB to the training set \n",
    "gbm4 = xgb.XGBClassifier(max_depth = 7,\n",
    "                         learning_rate = 0.05,\n",
    "                         subsample= 0.9,\n",
    "                         colsample_bytree = 0.8,\n",
    "                         objective= 'multi:softmax',\n",
    "                         num_class = 4)"
   ]
  },
  {
   "cell_type": "code",
   "execution_count": 32,
   "metadata": {
    "scrolled": false
   },
   "outputs": [
    {
     "data": {
      "text/plain": [
       "XGBClassifier(base_score=0.5, booster='gbtree', colsample_bylevel=1,\n",
       "              colsample_bynode=1, colsample_bytree=0.8, gamma=0, gpu_id=-1,\n",
       "              importance_type='gain', interaction_constraints='',\n",
       "              learning_rate=0.05, max_delta_step=0, max_depth=7,\n",
       "              min_child_weight=1, missing=nan, monotone_constraints='()',\n",
       "              n_estimators=100, n_jobs=0, num_class=4, num_parallel_tree=1,\n",
       "              objective='multi:softprob', random_state=0, reg_alpha=0,\n",
       "              reg_lambda=1, scale_pos_weight=None, subsample=0.9,\n",
       "              tree_method='exact', validate_parameters=1, verbosity=None)"
      ]
     },
     "execution_count": 32,
     "metadata": {},
     "output_type": "execute_result"
    }
   ],
   "source": [
    "gbm4.fit(X4,y4)"
   ]
  },
  {
   "cell_type": "code",
   "execution_count": 33,
   "metadata": {
    "scrolled": true
   },
   "outputs": [],
   "source": [
    "test_gbm4 = test.copy()\n",
    "X_test4 = test_gbm4['tweet']\n",
    "X_t4_cv = cv4.fit_transform(X_test4).toarray() \n",
    "y_pred4 = gbm4.predict(X_t4_cv)\n",
    "gbm_pred4 = [round(value) for value in y_pred4]\n",
    "test_gbm4['pred'] =  gbm_pred4"
   ]
  },
  {
   "cell_type": "code",
   "execution_count": 34,
   "metadata": {
    "scrolled": true
   },
   "outputs": [
    {
     "name": "stdout",
     "output_type": "stream",
     "text": [
      "Accuracy: 50.00%\n"
     ]
    }
   ],
   "source": [
    "accuracy4 = accuracy_score(test['intent'], gbm_pred4)\n",
    "print(\"Accuracy: %.2f%%\" % (accuracy4 * 100.0))"
   ]
  },
  {
   "cell_type": "code",
   "execution_count": 76,
   "metadata": {
    "scrolled": false
   },
   "outputs": [
    {
     "data": {
      "text/plain": [
       "array([[106, 132,   5,  21],\n",
       "       [ 67, 248,   4,  22],\n",
       "       [ 10,  29,   3,   3],\n",
       "       [ 13,  52,   0,   1]])"
      ]
     },
     "execution_count": 76,
     "metadata": {},
     "output_type": "execute_result"
    }
   ],
   "source": [
    "conf = confusion_matrix(test['intent'], test_gbm4['pred'])\n",
    "conf"
   ]
  },
  {
   "cell_type": "markdown",
   "metadata": {},
   "source": [
    "Strong results given the number of labels"
   ]
  },
  {
   "cell_type": "code",
   "execution_count": 63,
   "metadata": {},
   "outputs": [],
   "source": [
    "cl_names = ['Complaint', 'Query', 'Compliment', 'Other']"
   ]
  },
  {
   "cell_type": "code",
   "execution_count": 36,
   "metadata": {
    "scrolled": true
   },
   "outputs": [
    {
     "name": "stdout",
     "output_type": "stream",
     "text": [
      "              precision    recall  f1-score   support\n",
      "\n",
      "           0       0.54      0.40      0.46       264\n",
      "           2       0.54      0.73      0.62       341\n",
      "           3       0.25      0.07      0.11        45\n",
      "           4       0.02      0.02      0.02        66\n",
      "\n",
      "    accuracy                           0.50       716\n",
      "   macro avg       0.34      0.30      0.30       716\n",
      "weighted avg       0.47      0.50      0.47       716\n",
      "\n"
     ]
    }
   ],
   "source": [
    "print(classification_report(test['intent'], test_gbm4['pred']))"
   ]
  },
  {
   "cell_type": "code",
   "execution_count": 84,
   "metadata": {},
   "outputs": [],
   "source": [
    "def print_confusion_matrix(confusion_matrix, class_names, figsize = (10,8), fontsize=14):\n",
    "    \"\"\"Prints a confusion matrix, as returned by sklearn.metrics.confusion_matrix, as a heatmap.\n",
    "    \n",
    "    Arguments\n",
    "    ---------\n",
    "    confusion_matrix: numpy.ndarray\n",
    "        The numpy.ndarray object returned from a call to sklearn.metrics.confusion_matrix. \n",
    "        Similarly constructed ndarrays can also be used.\n",
    "    class_names: list\n",
    "        An ordered list of class names, in the order they index the given confusion matrix.\n",
    "    figsize: tuple\n",
    "        A 2-long tuple, the first value determining the horizontal size of the ouputted figure,\n",
    "        the second determining the vertical size. Defaults to (10,7).\n",
    "    fontsize: int\n",
    "        Font size for axes labels. Defaults to 14.\n",
    "        \n",
    "    Returns\n",
    "    -------\n",
    "    matplotlib.figure.Figure\n",
    "        The resulting confusion matrix figure\n",
    "    \"\"\"\n",
    "    df_cm = pd.DataFrame(confusion_matrix, index=class_names, columns=class_names, )\n",
    "    fig = plt.figure(figsize=figsize)\n",
    "    try:\n",
    "        heatmap = sns.heatmap(df_cm/np.sum(df_cm), annot=True, fmt=\".1%\",cmap='Blues')\n",
    "    except ValueError:\n",
    "        raise ValueError(\"Confusion matrix values must be integers.\")\n",
    "    heatmap.yaxis.set_ticklabels(heatmap.yaxis.get_ticklabels(), rotation=0, ha='right', fontsize=fontsize)\n",
    "    heatmap.xaxis.set_ticklabels(heatmap.xaxis.get_ticklabels(), rotation=45, ha='right', fontsize=fontsize)\n",
    "    plt.ylabel('True label')\n",
    "    plt.xlabel('Predicted label')\n",
    "    #plt.savefig(\"cm_xgb.svg\")\n",
    "    return fig\n"
   ]
  },
  {
   "cell_type": "code",
   "execution_count": 87,
   "metadata": {},
   "outputs": [
    {
     "data": {
      "image/png": "[encoded data removed]",
      "text/plain": [
       "<Figure size 720x504 with 2 Axes>"
      ]
     },
     "execution_count": 87,
     "metadata": {},
     "output_type": "execute_result"
    },
    {
     "data": {
      "image/png": "[encoded data removed]",
      "text/plain": [
       "<Figure size 720x504 with 2 Axes>"
      ]
     },
     "metadata": {
      "needs_background": "light"
     },
     "output_type": "display_data"
    }
   ],
   "source": [
    "print_confusion_matrix(conf, cl_names)"
   ]
  },
  {
   "cell_type": "code",
   "execution_count": 37,
   "metadata": {},
   "outputs": [],
   "source": [
    "import pickle\n",
    "# save the model\n",
    "filename1 = 'intentxgb_model.sav'\n",
    "pickle.dump(gbm4, open(filename1, 'wb'))"
   ]
  },
  {
   "cell_type": "markdown",
   "metadata": {},
   "source": [
    "### XGB with ROS"
   ]
  },
  {
   "cell_type": "code",
   "execution_count": 38,
   "metadata": {},
   "outputs": [],
   "source": [
    "## RF with Oversampling\n",
    "# Now add some random oversampling of the minority classes\n",
    "from imblearn.over_sampling import RandomOverSampler\n",
    "from imblearn.under_sampling import RandomUnderSampler\n",
    "from imblearn.pipeline import Pipeline"
   ]
  },
  {
   "cell_type": "code",
   "execution_count": 39,
   "metadata": {},
   "outputs": [],
   "source": [
    "# define resampling\n",
    "strategyo = {3:500, 4:500}\n",
    "strategyu = {0:500, 2:500}\n",
    "over = RandomOverSampler(sampling_strategy=strategyo)\n",
    "under = RandomUnderSampler(sampling_strategy=strategyu)\n",
    "# define pipeline\n",
    "pipeline = Pipeline(steps=[('o', over), ('u', under)])"
   ]
  },
  {
   "cell_type": "code",
   "execution_count": 40,
   "metadata": {},
   "outputs": [],
   "source": [
    "# fit and apply the pipeline\n",
    "X_resampled, y_resampled = pipeline.fit_resample(train[['tweet']], train['intent'])"
   ]
  },
  {
   "cell_type": "code",
   "execution_count": 41,
   "metadata": {},
   "outputs": [
    {
     "data": {
      "text/plain": [
       "4    500\n",
       "3    500\n",
       "2    500\n",
       "0    500\n",
       "Name: intent, dtype: int64"
      ]
     },
     "execution_count": 41,
     "metadata": {},
     "output_type": "execute_result"
    }
   ],
   "source": [
    "y_resampled.value_counts()"
   ]
  },
  {
   "cell_type": "code",
   "execution_count": 42,
   "metadata": {},
   "outputs": [],
   "source": [
    "X_resampled_ser = X_resampled['tweet']"
   ]
  },
  {
   "cell_type": "code",
   "execution_count": 43,
   "metadata": {},
   "outputs": [],
   "source": [
    "# creating bag of words model \n",
    "cv6 = CountVectorizer(stop_words = stop,\n",
    "                      max_features=880) \n",
    "  \n",
    "X6 = cv6.fit_transform(X_resampled_ser).toarray() \n",
    "y6 = y_resampled.to_numpy()"
   ]
  },
  {
   "cell_type": "code",
   "execution_count": 44,
   "metadata": {},
   "outputs": [
    {
     "data": {
      "text/plain": [
       "XGBClassifier(base_score=0.5, booster='gbtree', colsample_bylevel=1,\n",
       "              colsample_bynode=1, colsample_bytree=0.8, gamma=0, gpu_id=-1,\n",
       "              importance_type='gain', interaction_constraints='',\n",
       "              learning_rate=0.05, max_delta_step=0, max_depth=7,\n",
       "              min_child_weight=1, missing=nan, monotone_constraints='()',\n",
       "              n_estimators=100, n_jobs=0, num_class=4, num_parallel_tree=1,\n",
       "              objective='multi:softprob', random_state=0, reg_alpha=0,\n",
       "              reg_lambda=1, scale_pos_weight=None, subsample=0.9,\n",
       "              tree_method='exact', validate_parameters=1, verbosity=None)"
      ]
     },
     "execution_count": 44,
     "metadata": {},
     "output_type": "execute_result"
    }
   ],
   "source": [
    "# fitting XGB to the training set \n",
    "gbm6 = xgb.XGBClassifier(max_depth = 7,\n",
    "                         learning_rate = 0.05,\n",
    "                         subsample= 0.9,\n",
    "                         colsample_bytree = 0.8,\n",
    "                         objective= 'multi:softmax',\n",
    "                         num_class = 4)\n",
    "\n",
    "gbm6.fit(X6,y6)"
   ]
  },
  {
   "cell_type": "code",
   "execution_count": 45,
   "metadata": {},
   "outputs": [],
   "source": [
    "test_gbm6 = test.copy()\n",
    "X_test6 = test_gbm4['tweet']\n",
    "X_t6_cv = cv6.fit_transform(X_test6).toarray() \n",
    "y_pred6 = gbm6.predict(X_t6_cv)\n",
    "gbm_pred6 = [round(value) for value in y_pred6]\n",
    "test_gbm6['pred'] =  gbm_pred6"
   ]
  },
  {
   "cell_type": "code",
   "execution_count": 46,
   "metadata": {
    "scrolled": true
   },
   "outputs": [
    {
     "name": "stdout",
     "output_type": "stream",
     "text": [
      "Accuracy: 15.08%\n"
     ]
    }
   ],
   "source": [
    "accuracy6 = accuracy_score(test['intent'], gbm_pred6)\n",
    "print(\"Accuracy: %.2f%%\" % (accuracy6 * 100.0))"
   ]
  },
  {
   "cell_type": "code",
   "execution_count": 47,
   "metadata": {
    "scrolled": false
   },
   "outputs": [
    {
     "data": {
      "text/plain": [
       "array([[ 41,  11,  24, 188],\n",
       "       [ 24,  10,  22, 285],\n",
       "       [  2,   0,   3,  40],\n",
       "       [  2,   3,   7,  54]])"
      ]
     },
     "execution_count": 47,
     "metadata": {},
     "output_type": "execute_result"
    }
   ],
   "source": [
    "confusion_matrix(test['intent'], test_gbm6['pred'])"
   ]
  },
  {
   "cell_type": "code",
   "execution_count": 48,
   "metadata": {
    "scrolled": true
   },
   "outputs": [
    {
     "name": "stdout",
     "output_type": "stream",
     "text": [
      "              precision    recall  f1-score   support\n",
      "\n",
      "           0       0.59      0.16      0.25       264\n",
      "           2       0.42      0.03      0.05       341\n",
      "           3       0.05      0.07      0.06        45\n",
      "           4       0.10      0.82      0.17        66\n",
      "\n",
      "    accuracy                           0.15       716\n",
      "   macro avg       0.29      0.27      0.13       716\n",
      "weighted avg       0.43      0.15      0.14       716\n",
      "\n"
     ]
    }
   ],
   "source": [
    "print(classification_report(test['intent'], test_gbm6['pred']))"
   ]
  },
  {
   "cell_type": "markdown",
   "metadata": {},
   "source": [
    "Balancing classes improved prediction of the Other class but negatively effected prediction on the other 3 classes"
   ]
  },
  {
   "cell_type": "markdown",
   "metadata": {},
   "source": [
    "## Random forest"
   ]
  },
  {
   "cell_type": "code",
   "execution_count": 49,
   "metadata": {},
   "outputs": [],
   "source": [
    "#Create a Gaussian Classifier\n",
    "clf = RandomForestClassifier(n_estimators=100)\n",
    "\n",
    "#Train the model using the training sets y_pred=clf.predict(X_test)\n",
    "clf.fit(X4,y4)\n",
    "\n",
    "X_test4_rf = cv4.fit_transform(test['tweet']).toarray() \n",
    "y_pred4_rf = clf.predict(X_test4_rf)"
   ]
  },
  {
   "cell_type": "code",
   "execution_count": 50,
   "metadata": {
    "scrolled": true
   },
   "outputs": [
    {
     "name": "stdout",
     "output_type": "stream",
     "text": [
      "Accuracy: 0.4175977653631285\n"
     ]
    }
   ],
   "source": [
    "print(\"Accuracy:\",accuracy_score(test['intent'], y_pred4_rf))"
   ]
  },
  {
   "cell_type": "code",
   "execution_count": 51,
   "metadata": {
    "scrolled": true
   },
   "outputs": [
    {
     "data": {
      "text/plain": [
       "array([[122,  84,  15,  43],\n",
       "       [123, 151,  10,  57],\n",
       "       [ 18,  16,   6,   5],\n",
       "       [ 13,  29,   4,  20]])"
      ]
     },
     "execution_count": 51,
     "metadata": {},
     "output_type": "execute_result"
    }
   ],
   "source": [
    "confusion_matrix(test['intent'], y_pred4_rf)"
   ]
  },
  {
   "cell_type": "code",
   "execution_count": 52,
   "metadata": {
    "scrolled": true
   },
   "outputs": [
    {
     "name": "stdout",
     "output_type": "stream",
     "text": [
      "              precision    recall  f1-score   support\n",
      "\n",
      "           0       0.44      0.46      0.45       264\n",
      "           2       0.54      0.44      0.49       341\n",
      "           3       0.17      0.13      0.15        45\n",
      "           4       0.16      0.30      0.21        66\n",
      "\n",
      "    accuracy                           0.42       716\n",
      "   macro avg       0.33      0.34      0.32       716\n",
      "weighted avg       0.45      0.42      0.43       716\n",
      "\n"
     ]
    }
   ],
   "source": [
    "print(classification_report(test['intent'], y_pred4_rf))"
   ]
  },
  {
   "cell_type": "markdown",
   "metadata": {},
   "source": [
    "Better than previous models in terms of predicting class 3, which is important. However, worse performance overall"
   ]
  },
  {
   "cell_type": "code",
   "execution_count": 53,
   "metadata": {},
   "outputs": [
    {
     "data": {
      "text/plain": [
       "Counter({0: 1280, 2: 1280, 3: 1280, 4: 1280})"
      ]
     },
     "execution_count": 53,
     "metadata": {},
     "output_type": "execute_result"
    }
   ],
   "source": [
    "## RF with Oversampling\n",
    "# Now add some random oversampling of the minority classes\n",
    "from imblearn.over_sampling import RandomOverSampler\n",
    "ros = RandomOverSampler(random_state=0)\n",
    "X_resampled, y_resampled = ros.fit_sample(train[['tweet']], train['intent'])\n",
    "\n",
    "from collections import Counter\n",
    "# Yay, balanced classes!\n",
    "Counter(y_resampled)"
   ]
  },
  {
   "cell_type": "code",
   "execution_count": 54,
   "metadata": {},
   "outputs": [],
   "source": [
    "X_resampled_ser = X_resampled['tweet']"
   ]
  },
  {
   "cell_type": "code",
   "execution_count": 56,
   "metadata": {},
   "outputs": [],
   "source": [
    "# creating bag of words model \n",
    "cv6 = CountVectorizer(stop_words = stop,\n",
    "                      max_features=880) \n",
    "  \n",
    "X6 = cv6.fit_transform(X_resampled_ser).toarray() \n",
    "y6 = y_resampled.to_numpy()"
   ]
  },
  {
   "cell_type": "code",
   "execution_count": 57,
   "metadata": {},
   "outputs": [],
   "source": [
    "#Create a Gaussian Classifier\n",
    "clf6 = RandomForestClassifier(n_estimators=100)\n",
    "\n",
    "#Train the model using the training sets y_pred=clf.predict(X_test)\n",
    "clf6.fit(X6,y6)\n",
    "\n",
    "X_test6_rf = cv6.fit_transform(test['tweet']).toarray() \n",
    "y_pred6_rf = clf6.predict(X_test6_rf)"
   ]
  },
  {
   "cell_type": "code",
   "execution_count": 58,
   "metadata": {},
   "outputs": [
    {
     "name": "stdout",
     "output_type": "stream",
     "text": [
      "Accuracy: 0.30027932960893855\n"
     ]
    }
   ],
   "source": [
    "print(\"Accuracy:\",accuracy_score(test['intent'], y_pred6_rf))"
   ]
  },
  {
   "cell_type": "code",
   "execution_count": 59,
   "metadata": {},
   "outputs": [
    {
     "data": {
      "text/plain": [
       "array([[ 99,  56,  40,  69],\n",
       "       [114,  87,  68,  72],\n",
       "       [ 13,  17,   7,   8],\n",
       "       [ 15,  17,  12,  22]])"
      ]
     },
     "execution_count": 59,
     "metadata": {},
     "output_type": "execute_result"
    }
   ],
   "source": [
    "confusion_matrix(test['intent'], y_pred6_rf)"
   ]
  },
  {
   "cell_type": "code",
   "execution_count": 60,
   "metadata": {},
   "outputs": [
    {
     "name": "stdout",
     "output_type": "stream",
     "text": [
      "              precision    recall  f1-score   support\n",
      "\n",
      "           0       0.41      0.38      0.39       264\n",
      "           2       0.49      0.26      0.34       341\n",
      "           3       0.06      0.16      0.08        45\n",
      "           4       0.13      0.33      0.19        66\n",
      "\n",
      "    accuracy                           0.30       716\n",
      "   macro avg       0.27      0.28      0.25       716\n",
      "weighted avg       0.40      0.30      0.33       716\n",
      "\n"
     ]
    }
   ],
   "source": [
    "print(classification_report(test['intent'], y_pred6_rf))"
   ]
  }
 ],
 "metadata": {
  "kernelspec": {
   "display_name": "Python 3",
   "language": "python",
   "name": "python3"
  },
  "language_info": {
   "codemirror_mode": {
    "name": "ipython",
    "version": 3
   },
   "file_extension": ".py",
   "mimetype": "text/x-python",
   "name": "python",
   "nbconvert_exporter": "python",
   "pygments_lexer": "ipython3",
   "version": "3.8.5"
  }
 },
 "nbformat": 4,
 "nbformat_minor": 4
}
