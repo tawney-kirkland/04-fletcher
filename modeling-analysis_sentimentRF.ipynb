{
 "cells": [
  {
   "cell_type": "code",
   "execution_count": 33,
   "metadata": {},
   "outputs": [],
   "source": [
    "import pandas as pd\n",
    "from pandas import option_context\n",
    "import numpy as np\n",
    "import re\n",
    "\n",
    "from sklearn.model_selection import train_test_split\n",
    "from sklearn.feature_extraction.text import CountVectorizer, TfidfVectorizer\n",
    "from sklearn.decomposition import NMF\n",
    "from sklearn.metrics import roc_auc_score, confusion_matrix, accuracy_score,classification_report\n",
    "\n",
    "import nltk\n",
    "from nltk.corpus import stopwords\n",
    "from nltk.tokenize import MWETokenizer\n",
    "from nltk.tokenize import word_tokenize\n",
    "from nltk.tag import pos_tag\n",
    "from nltk.stem import WordNetLemmatizer \n",
    "\n",
    "from vaderSentiment.vaderSentiment import SentimentIntensityAnalyzer \n",
    "\n",
    "from collections import Counter\n",
    "\n",
    "from textblob import TextBlob\n",
    "import pickle"
   ]
  },
  {
   "cell_type": "code",
   "execution_count": 15,
   "metadata": {},
   "outputs": [],
   "source": [
    "stop = stopwords.words('english')"
   ]
  },
  {
   "cell_type": "markdown",
   "metadata": {},
   "source": [
    "## Sentiment analysis with random forrest"
   ]
  },
  {
   "cell_type": "code",
   "execution_count": 16,
   "metadata": {},
   "outputs": [],
   "source": [
    "df = pd.read_csv('training_base_sent.csv')\n",
    "df.dropna(inplace=True)"
   ]
  },
  {
   "cell_type": "code",
   "execution_count": 17,
   "metadata": {},
   "outputs": [],
   "source": [
    "def remove_space(text):\n",
    "    text = text.strip()\n",
    "    text = re.sub(\"\\s\\s+\", \" \", text)\n",
    "    return text\n",
    "    \n",
    "df['tweet_compound'] = df.tweet_compound.map(remove_space)\n",
    "df['tweet'] = df.tweet.map(remove_space)"
   ]
  },
  {
   "cell_type": "code",
   "execution_count": 18,
   "metadata": {},
   "outputs": [],
   "source": [
    "df['vader'] = 0\n",
    "df.loc[(df['compound'] > 0.1),'vader'] = 1\n",
    "df.loc[(df['compound'] < -0.1),'vader'] = -1"
   ]
  },
  {
   "cell_type": "code",
   "execution_count": 19,
   "metadata": {},
   "outputs": [
    {
     "data": {
      "text/html": [
       "<div>\n",
       "<style scoped>\n",
       "    .dataframe tbody tr th:only-of-type {\n",
       "        vertical-align: middle;\n",
       "    }\n",
       "\n",
       "    .dataframe tbody tr th {\n",
       "        vertical-align: top;\n",
       "    }\n",
       "\n",
       "    .dataframe thead th {\n",
       "        text-align: right;\n",
       "    }\n",
       "</style>\n",
       "<table border=\"1\" class=\"dataframe\">\n",
       "  <thead>\n",
       "    <tr style=\"text-align: right;\">\n",
       "      <th></th>\n",
       "      <th>Unnamed: 0</th>\n",
       "      <th>username</th>\n",
       "      <th>tweet</th>\n",
       "      <th>tweet_compound</th>\n",
       "      <th>sentiment</th>\n",
       "      <th>intent</th>\n",
       "      <th>topic</th>\n",
       "      <th>neg</th>\n",
       "      <th>neu</th>\n",
       "      <th>pos</th>\n",
       "      <th>compound</th>\n",
       "      <th>vader</th>\n",
       "    </tr>\n",
       "  </thead>\n",
       "  <tbody>\n",
       "    <tr>\n",
       "      <th>0</th>\n",
       "      <td>89389</td>\n",
       "      <td>mstothard</td>\n",
       "      <td>can it sustain its evergrowing costs and gener...</td>\n",
       "      <td>can it sustain its evergrowing costs and gener...</td>\n",
       "      <td>0</td>\n",
       "      <td>4</td>\n",
       "      <td>2</td>\n",
       "      <td>0.000</td>\n",
       "      <td>0.880</td>\n",
       "      <td>0.120</td>\n",
       "      <td>0.7430</td>\n",
       "      <td>1</td>\n",
       "    </tr>\n",
       "    <tr>\n",
       "      <th>1</th>\n",
       "      <td>65049</td>\n",
       "      <td>saadishtiaq</td>\n",
       "      <td>is premium and metal account subscription base...</td>\n",
       "      <td>is premium and metalaccount subscription based...</td>\n",
       "      <td>0</td>\n",
       "      <td>2</td>\n",
       "      <td>2</td>\n",
       "      <td>0.000</td>\n",
       "      <td>1.000</td>\n",
       "      <td>0.000</td>\n",
       "      <td>0.0000</td>\n",
       "      <td>0</td>\n",
       "    </tr>\n",
       "    <tr>\n",
       "      <th>2</th>\n",
       "      <td>82191</td>\n",
       "      <td>loadthepony</td>\n",
       "      <td>cant access my account this morning and hours ...</td>\n",
       "      <td>cant access my account this morning and hours ...</td>\n",
       "      <td>-1</td>\n",
       "      <td>1</td>\n",
       "      <td>0</td>\n",
       "      <td>0.137</td>\n",
       "      <td>0.777</td>\n",
       "      <td>0.086</td>\n",
       "      <td>-0.2789</td>\n",
       "      <td>-1</td>\n",
       "    </tr>\n",
       "    <tr>\n",
       "      <th>3</th>\n",
       "      <td>59055</td>\n",
       "      <td>magicroundabout</td>\n",
       "      <td>im guessing that you did not read the tsandcs ...</td>\n",
       "      <td>im guessing that you did not read the tsandcs ...</td>\n",
       "      <td>0</td>\n",
       "      <td>4</td>\n",
       "      <td>4</td>\n",
       "      <td>0.000</td>\n",
       "      <td>0.871</td>\n",
       "      <td>0.129</td>\n",
       "      <td>0.4497</td>\n",
       "      <td>1</td>\n",
       "    </tr>\n",
       "    <tr>\n",
       "      <th>4</th>\n",
       "      <td>75253</td>\n",
       "      <td>erickpinos</td>\n",
       "      <td>in light of the currency crisis the global pop...</td>\n",
       "      <td>in light of the currency crisis the global pop...</td>\n",
       "      <td>0</td>\n",
       "      <td>3</td>\n",
       "      <td>2</td>\n",
       "      <td>0.141</td>\n",
       "      <td>0.756</td>\n",
       "      <td>0.103</td>\n",
       "      <td>-0.2732</td>\n",
       "      <td>-1</td>\n",
       "    </tr>\n",
       "    <tr>\n",
       "      <th>...</th>\n",
       "      <td>...</td>\n",
       "      <td>...</td>\n",
       "      <td>...</td>\n",
       "      <td>...</td>\n",
       "      <td>...</td>\n",
       "      <td>...</td>\n",
       "      <td>...</td>\n",
       "      <td>...</td>\n",
       "      <td>...</td>\n",
       "      <td>...</td>\n",
       "      <td>...</td>\n",
       "      <td>...</td>\n",
       "    </tr>\n",
       "    <tr>\n",
       "      <th>3564</th>\n",
       "      <td>39327</td>\n",
       "      <td>merveartar11</td>\n",
       "      <td>couldnt change my number and nobody helped</td>\n",
       "      <td>couldnt change my number and nobody helped</td>\n",
       "      <td>-1</td>\n",
       "      <td>0</td>\n",
       "      <td>1</td>\n",
       "      <td>0.169</td>\n",
       "      <td>0.831</td>\n",
       "      <td>0.000</td>\n",
       "      <td>-0.0572</td>\n",
       "      <td>0</td>\n",
       "    </tr>\n",
       "    <tr>\n",
       "      <th>3565</th>\n",
       "      <td>10748</td>\n",
       "      <td>sportschool</td>\n",
       "      <td>done shall i provide my details per dm</td>\n",
       "      <td>done shall i provide my details per dm</td>\n",
       "      <td>0</td>\n",
       "      <td>4</td>\n",
       "      <td>1</td>\n",
       "      <td>0.000</td>\n",
       "      <td>1.000</td>\n",
       "      <td>0.000</td>\n",
       "      <td>0.0000</td>\n",
       "      <td>0</td>\n",
       "    </tr>\n",
       "    <tr>\n",
       "      <th>3566</th>\n",
       "      <td>9863</td>\n",
       "      <td>whatkatidoes</td>\n",
       "      <td>i still dont have the card i ordered i paid on...</td>\n",
       "      <td>i still dont have the card i ordered i paid on...</td>\n",
       "      <td>-1</td>\n",
       "      <td>0</td>\n",
       "      <td>4</td>\n",
       "      <td>0.099</td>\n",
       "      <td>0.793</td>\n",
       "      <td>0.108</td>\n",
       "      <td>-0.1779</td>\n",
       "      <td>-1</td>\n",
       "    </tr>\n",
       "    <tr>\n",
       "      <th>3567</th>\n",
       "      <td>52723</td>\n",
       "      <td>mmis2000</td>\n",
       "      <td>happy to raise them here thank you</td>\n",
       "      <td>happy to raise them here thank you</td>\n",
       "      <td>1</td>\n",
       "      <td>3</td>\n",
       "      <td>2</td>\n",
       "      <td>0.000</td>\n",
       "      <td>0.446</td>\n",
       "      <td>0.554</td>\n",
       "      <td>0.7351</td>\n",
       "      <td>1</td>\n",
       "    </tr>\n",
       "    <tr>\n",
       "      <th>3568</th>\n",
       "      <td>86650</td>\n",
       "      <td>raosumukh</td>\n",
       "      <td>hey buddy any update regarding your order shipped</td>\n",
       "      <td>hey buddy any update regarding your order shipped</td>\n",
       "      <td>0</td>\n",
       "      <td>4</td>\n",
       "      <td>1</td>\n",
       "      <td>0.000</td>\n",
       "      <td>1.000</td>\n",
       "      <td>0.000</td>\n",
       "      <td>0.0000</td>\n",
       "      <td>0</td>\n",
       "    </tr>\n",
       "  </tbody>\n",
       "</table>\n",
       "<p>3569 rows × 12 columns</p>\n",
       "</div>"
      ],
      "text/plain": [
       "      Unnamed: 0         username  \\\n",
       "0          89389        mstothard   \n",
       "1          65049      saadishtiaq   \n",
       "2          82191      loadthepony   \n",
       "3          59055  magicroundabout   \n",
       "4          75253       erickpinos   \n",
       "...          ...              ...   \n",
       "3564       39327     merveartar11   \n",
       "3565       10748      sportschool   \n",
       "3566        9863     whatkatidoes   \n",
       "3567       52723         mmis2000   \n",
       "3568       86650        raosumukh   \n",
       "\n",
       "                                                  tweet  \\\n",
       "0     can it sustain its evergrowing costs and gener...   \n",
       "1     is premium and metal account subscription base...   \n",
       "2     cant access my account this morning and hours ...   \n",
       "3     im guessing that you did not read the tsandcs ...   \n",
       "4     in light of the currency crisis the global pop...   \n",
       "...                                                 ...   \n",
       "3564         couldnt change my number and nobody helped   \n",
       "3565             done shall i provide my details per dm   \n",
       "3566  i still dont have the card i ordered i paid on...   \n",
       "3567                 happy to raise them here thank you   \n",
       "3568  hey buddy any update regarding your order shipped   \n",
       "\n",
       "                                         tweet_compound  sentiment  intent  \\\n",
       "0     can it sustain its evergrowing costs and gener...          0       4   \n",
       "1     is premium and metalaccount subscription based...          0       2   \n",
       "2     cant access my account this morning and hours ...         -1       1   \n",
       "3     im guessing that you did not read the tsandcs ...          0       4   \n",
       "4     in light of the currency crisis the global pop...          0       3   \n",
       "...                                                 ...        ...     ...   \n",
       "3564         couldnt change my number and nobody helped         -1       0   \n",
       "3565             done shall i provide my details per dm          0       4   \n",
       "3566  i still dont have the card i ordered i paid on...         -1       0   \n",
       "3567                 happy to raise them here thank you          1       3   \n",
       "3568  hey buddy any update regarding your order shipped          0       4   \n",
       "\n",
       "      topic    neg    neu    pos  compound  vader  \n",
       "0         2  0.000  0.880  0.120    0.7430      1  \n",
       "1         2  0.000  1.000  0.000    0.0000      0  \n",
       "2         0  0.137  0.777  0.086   -0.2789     -1  \n",
       "3         4  0.000  0.871  0.129    0.4497      1  \n",
       "4         2  0.141  0.756  0.103   -0.2732     -1  \n",
       "...     ...    ...    ...    ...       ...    ...  \n",
       "3564      1  0.169  0.831  0.000   -0.0572      0  \n",
       "3565      1  0.000  1.000  0.000    0.0000      0  \n",
       "3566      4  0.099  0.793  0.108   -0.1779     -1  \n",
       "3567      2  0.000  0.446  0.554    0.7351      1  \n",
       "3568      1  0.000  1.000  0.000    0.0000      0  \n",
       "\n",
       "[3569 rows x 12 columns]"
      ]
     },
     "execution_count": 19,
     "metadata": {},
     "output_type": "execute_result"
    }
   ],
   "source": [
    "df"
   ]
  },
  {
   "cell_type": "code",
   "execution_count": 20,
   "metadata": {},
   "outputs": [],
   "source": [
    "tr, test = train_test_split(df,test_size = 0.2,random_state = 10)"
   ]
  },
  {
   "cell_type": "code",
   "execution_count": 27,
   "metadata": {
    "scrolled": false
   },
   "outputs": [
    {
     "data": {
      "text/html": [
       "<div>\n",
       "<style scoped>\n",
       "    .dataframe tbody tr th:only-of-type {\n",
       "        vertical-align: middle;\n",
       "    }\n",
       "\n",
       "    .dataframe tbody tr th {\n",
       "        vertical-align: top;\n",
       "    }\n",
       "\n",
       "    .dataframe thead th {\n",
       "        text-align: right;\n",
       "    }\n",
       "</style>\n",
       "<table border=\"1\" class=\"dataframe\">\n",
       "  <thead>\n",
       "    <tr style=\"text-align: right;\">\n",
       "      <th></th>\n",
       "      <th>Unnamed: 0</th>\n",
       "      <th>username</th>\n",
       "      <th>tweet</th>\n",
       "      <th>tweet_compound</th>\n",
       "      <th>sentiment</th>\n",
       "      <th>intent</th>\n",
       "      <th>topic</th>\n",
       "      <th>neg</th>\n",
       "      <th>neu</th>\n",
       "      <th>pos</th>\n",
       "      <th>compound</th>\n",
       "    </tr>\n",
       "    <tr>\n",
       "      <th>vader</th>\n",
       "      <th></th>\n",
       "      <th></th>\n",
       "      <th></th>\n",
       "      <th></th>\n",
       "      <th></th>\n",
       "      <th></th>\n",
       "      <th></th>\n",
       "      <th></th>\n",
       "      <th></th>\n",
       "      <th></th>\n",
       "      <th></th>\n",
       "    </tr>\n",
       "  </thead>\n",
       "  <tbody>\n",
       "    <tr>\n",
       "      <th>-1</th>\n",
       "      <td>830</td>\n",
       "      <td>830</td>\n",
       "      <td>830</td>\n",
       "      <td>830</td>\n",
       "      <td>830</td>\n",
       "      <td>830</td>\n",
       "      <td>830</td>\n",
       "      <td>830</td>\n",
       "      <td>830</td>\n",
       "      <td>830</td>\n",
       "      <td>830</td>\n",
       "    </tr>\n",
       "    <tr>\n",
       "      <th>0</th>\n",
       "      <td>830</td>\n",
       "      <td>830</td>\n",
       "      <td>830</td>\n",
       "      <td>830</td>\n",
       "      <td>830</td>\n",
       "      <td>830</td>\n",
       "      <td>830</td>\n",
       "      <td>830</td>\n",
       "      <td>830</td>\n",
       "      <td>830</td>\n",
       "      <td>830</td>\n",
       "    </tr>\n",
       "    <tr>\n",
       "      <th>1</th>\n",
       "      <td>1195</td>\n",
       "      <td>1195</td>\n",
       "      <td>1195</td>\n",
       "      <td>1195</td>\n",
       "      <td>1195</td>\n",
       "      <td>1195</td>\n",
       "      <td>1195</td>\n",
       "      <td>1195</td>\n",
       "      <td>1195</td>\n",
       "      <td>1195</td>\n",
       "      <td>1195</td>\n",
       "    </tr>\n",
       "  </tbody>\n",
       "</table>\n",
       "</div>"
      ],
      "text/plain": [
       "       Unnamed: 0  username  tweet  tweet_compound  sentiment  intent  topic  \\\n",
       "vader                                                                          \n",
       "-1            830       830    830             830        830     830    830   \n",
       " 0            830       830    830             830        830     830    830   \n",
       " 1           1195      1195   1195            1195       1195    1195   1195   \n",
       "\n",
       "        neg   neu   pos  compound  \n",
       "vader                              \n",
       "-1      830   830   830       830  \n",
       " 0      830   830   830       830  \n",
       " 1     1195  1195  1195      1195  "
      ]
     },
     "execution_count": 27,
     "metadata": {},
     "output_type": "execute_result"
    }
   ],
   "source": [
    "tr.groupby('vader').count()"
   ]
  },
  {
   "cell_type": "code",
   "execution_count": 22,
   "metadata": {},
   "outputs": [],
   "source": [
    "# creating bag of words model \n",
    "cv = CountVectorizer(max_features=1000) \n",
    "  \n",
    "X = cv.fit_transform(tr['tweet']).toarray() \n",
    "y = tr[['sentiment']].iloc[:, 0].values "
   ]
  },
  {
   "cell_type": "code",
   "execution_count": 23,
   "metadata": {},
   "outputs": [],
   "source": [
    "from sklearn.ensemble import RandomForestClassifier\n",
    "\n",
    "#Create a Gaussian Classifier\n",
    "clf = RandomForestClassifier(n_estimators=100)\n",
    "\n",
    "#Train the model using the training sets y_pred=clf.predict(X_test)\n",
    "clf.fit(X,y)\n",
    "\n",
    "X_test = cv.fit_transform(test['tweet']).toarray() \n",
    "y_pred=clf.predict(X_test)"
   ]
  },
  {
   "cell_type": "code",
   "execution_count": 24,
   "metadata": {},
   "outputs": [
    {
     "name": "stdout",
     "output_type": "stream",
     "text": [
      "Accuracy: 0.4943977591036415\n"
     ]
    }
   ],
   "source": [
    "from sklearn import metrics\n",
    "\n",
    "print(\"Accuracy:\",metrics.accuracy_score(test['sentiment'], y_pred))"
   ]
  },
  {
   "cell_type": "code",
   "execution_count": 25,
   "metadata": {
    "scrolled": true
   },
   "outputs": [
    {
     "data": {
      "text/plain": [
       "array([[198, 148,  13],\n",
       "       [ 95, 148,  17],\n",
       "       [ 35,  53,   7]])"
      ]
     },
     "execution_count": 25,
     "metadata": {},
     "output_type": "execute_result"
    }
   ],
   "source": [
    "confusion_matrix(test['sentiment'], y_pred)"
   ]
  },
  {
   "cell_type": "code",
   "execution_count": 26,
   "metadata": {
    "scrolled": false
   },
   "outputs": [
    {
     "name": "stdout",
     "output_type": "stream",
     "text": [
      "              precision    recall  f1-score   support\n",
      "\n",
      "          -1       0.60      0.55      0.58       359\n",
      "           0       0.42      0.57      0.49       260\n",
      "           1       0.19      0.07      0.11        95\n",
      "\n",
      "    accuracy                           0.49       714\n",
      "   macro avg       0.41      0.40      0.39       714\n",
      "weighted avg       0.48      0.49      0.48       714\n",
      "\n"
     ]
    }
   ],
   "source": [
    "print(classification_report(test['sentiment'], y_pred))"
   ]
  },
  {
   "cell_type": "code",
   "execution_count": 34,
   "metadata": {},
   "outputs": [],
   "source": [
    "# save the model to disk\n",
    "filename = 'sentimentRF_model.sav'\n",
    "pickle.dump(clf, open(filename, 'wb'))"
   ]
  },
  {
   "cell_type": "markdown",
   "metadata": {},
   "source": [
    "## Vader"
   ]
  },
  {
   "cell_type": "code",
   "execution_count": 28,
   "metadata": {},
   "outputs": [],
   "source": [
    "#Create a Gaussian Classifier\n",
    "clf2 = RandomForestClassifier(n_estimators=100)\n",
    "\n",
    "#Train the model using the training sets y_pred=clf.predict(X_test)\n",
    "clf2.fit(X,y)\n",
    "\n",
    "X_test2 = cv.fit_transform(test['tweet']).toarray() \n",
    "y_pred2=clf2.predict(X_test)"
   ]
  },
  {
   "cell_type": "code",
   "execution_count": 29,
   "metadata": {},
   "outputs": [
    {
     "name": "stdout",
     "output_type": "stream",
     "text": [
      "Accuracy: 0.4943977591036415\n"
     ]
    }
   ],
   "source": [
    "from sklearn import metrics\n",
    "\n",
    "print(\"Accuracy:\",metrics.accuracy_score(test['sentiment'], y_pred2))"
   ]
  },
  {
   "cell_type": "code",
   "execution_count": 30,
   "metadata": {
    "scrolled": true
   },
   "outputs": [
    {
     "data": {
      "text/plain": [
       "array([[211, 134,  14],\n",
       "       [102, 138,  20],\n",
       "       [ 51,  40,   4]])"
      ]
     },
     "execution_count": 30,
     "metadata": {},
     "output_type": "execute_result"
    }
   ],
   "source": [
    "confusion_matrix(test['sentiment'], y_pred2)"
   ]
  },
  {
   "cell_type": "code",
   "execution_count": 31,
   "metadata": {
    "scrolled": true
   },
   "outputs": [
    {
     "name": "stdout",
     "output_type": "stream",
     "text": [
      "              precision    recall  f1-score   support\n",
      "\n",
      "          -1       0.58      0.59      0.58       359\n",
      "           0       0.44      0.53      0.48       260\n",
      "           1       0.11      0.04      0.06        95\n",
      "\n",
      "    accuracy                           0.49       714\n",
      "   macro avg       0.38      0.39      0.38       714\n",
      "weighted avg       0.47      0.49      0.48       714\n",
      "\n"
     ]
    }
   ],
   "source": [
    "print(classification_report(test['sentiment'], y_pred2))"
   ]
  },
  {
   "cell_type": "code",
   "execution_count": null,
   "metadata": {},
   "outputs": [],
   "source": []
  }
 ],
 "metadata": {
  "kernelspec": {
   "display_name": "Python 3",
   "language": "python",
   "name": "python3"
  },
  "language_info": {
   "codemirror_mode": {
    "name": "ipython",
    "version": 3
   },
   "file_extension": ".py",
   "mimetype": "text/x-python",
   "name": "python",
   "nbconvert_exporter": "python",
   "pygments_lexer": "ipython3",
   "version": "3.8.5"
  }
 },
 "nbformat": 4,
 "nbformat_minor": 4
}
