{
 "cells": [
  {
   "cell_type": "code",
   "execution_count": 1,
   "metadata": {},
   "outputs": [],
   "source": [
    "import pandas as pd\n",
    "from pandas import option_context\n",
    "from sklearn.utils import class_weight\n",
    "import numpy as np\n",
    "\n",
    "import nltk\n",
    "from nltk.tokenize import word_tokenize\n",
    "from nltk.tokenize import RegexpTokenizer\n",
    "from nltk.corpus import stopwords\n",
    "\n",
    "import re\n",
    "import string\n",
    "\n",
    "from sklearn.model_selection import train_test_split\n",
    "from sklearn.feature_extraction.text import CountVectorizer \n",
    "from sklearn.decomposition import NMF\n",
    "\n",
    "from nltk.corpus import stopwords\n",
    "from nltk.tokenize import MWETokenizer\n",
    "\n",
    "from vaderSentiment.vaderSentiment import SentimentIntensityAnalyzer \n",
    "\n",
    "import xgboost as xgb\n",
    "from sklearn.model_selection import cross_val_score\n",
    "from sklearn.metrics import accuracy_score\n",
    "from sklearn.metrics import mean_absolute_error\n",
    "\n",
    "from numpy import mean\n",
    "from sklearn.datasets import make_classification\n",
    "from sklearn.model_selection import cross_val_score\n",
    "from sklearn.model_selection import RepeatedStratifiedKFold\n",
    "from sklearn.model_selection import GridSearchCV\n",
    "from xgboost import XGBClassifier"
   ]
  },
  {
   "cell_type": "code",
   "execution_count": 4,
   "metadata": {},
   "outputs": [],
   "source": [
    "stop = stopwords.words('english')\n",
    "stop.extend(['hi', 'hey', 'hello','ha', 'followed','wa','dm','dont','cant','wont','get','still','like','need',\n",
    "            'someone','people','im','ive','month','week','day','could','give','want','please','pls','since','one',\n",
    "             'back','thanks','thank','take','doesnt','does', 'might', 'must','lock','access','sent','closed','use',\n",
    "            'u','contact','new','email','time','message','tried','answer','waiting','reason','going',\n",
    "            'work','agent','bank','card','trying','even','every'])"
   ]
  },
  {
   "cell_type": "code",
   "execution_count": 5,
   "metadata": {},
   "outputs": [],
   "source": [
    "# # Extend for most common English adverbs\n",
    "\n",
    "stop.extend(['up','so','out','just','now','how','then','more','also','here',\n",
    "            'well','only','very','even','back','there','down','still','in',\n",
    "            'as','to','when','never','really','most','on','why','about','over',\n",
    "            'again','where','right','off','always','today','all','far','long',\n",
    "            'away','yet','often','ever','however','almost','later','much',\n",
    "            'once','least','ago','together','around','already','enough','both',\n",
    "            'maybe','actually','probably','home','of course','perhaps','little',\n",
    "            'else','sometimes','finally','less','better','early','especially',\n",
    "            'either','quite','simply','nearly','soon','certainly','quickly',\n",
    "            'no','recently','before','usually','thus','exactly','hard',\n",
    "            'particularly','pretty','forward','ok','okay','clearly','indeed',\n",
    "            'rather','that','tonight','close','suddenly','best','instead',\n",
    "            'ahead','fast','alone','eventually','directly'])\n",
    "\n",
    "# # Extend for most common irregular verbs (except pay,lose,send,buy,spend)\n",
    "\n",
    "stop.extend(['say','make','go','take','come','see','know','get','got','give',\n",
    "            'find','think','tell','become','show','leave','feel','put','bring',\n",
    "            'begin','keep','hold','write','stand','hear','let','mean','set','meet',\n",
    "            'run','sit','speak','lie','lead','read','grow','fall',\n",
    "            'build','understand','draw','break','cut','rise','drive','wear',\n",
    "            'choose'])\n",
    "\n",
    "# ## Extend for prepositions\n",
    "stop.extend(['without','among'])"
   ]
  },
  {
   "cell_type": "markdown",
   "metadata": {},
   "source": [
    "## Load data"
   ]
  },
  {
   "cell_type": "code",
   "execution_count": 6,
   "metadata": {},
   "outputs": [],
   "source": [
    "df_intent = pd.read_csv('training_base copy.csv')\n",
    "df_intent.dropna(inplace=True)"
   ]
  },
  {
   "cell_type": "code",
   "execution_count": 7,
   "metadata": {},
   "outputs": [
    {
     "data": {
      "text/plain": [
       "(3388,)"
      ]
     },
     "execution_count": 7,
     "metadata": {},
     "output_type": "execute_result"
    }
   ],
   "source": [
    "X_tr = df_intent['tweet']\n",
    "X_tr.shape"
   ]
  },
  {
   "cell_type": "code",
   "execution_count": 8,
   "metadata": {},
   "outputs": [],
   "source": [
    "y_tr = df_intent[['intent']]"
   ]
  },
  {
   "cell_type": "code",
   "execution_count": 10,
   "metadata": {},
   "outputs": [],
   "source": [
    "def remove_space(text):\n",
    "    text = text.strip()\n",
    "    text = re.sub(\"\\s\\s+\", \" \", text)\n",
    "    return text"
   ]
  },
  {
   "cell_type": "code",
   "execution_count": 11,
   "metadata": {},
   "outputs": [
    {
     "data": {
      "text/plain": [
       "(200, 13)"
      ]
     },
     "execution_count": 11,
     "metadata": {},
     "output_type": "execute_result"
    }
   ],
   "source": [
    "df_test = pd.read_csv('test_preds8_xgb_preds.csv')\n",
    "df_test['tweet_compound'] = df_test.tweet_compound.map(remove_space)\n",
    "df_test['tweet'] = df_test.tweet.map(remove_space)\n",
    "df_test.shape"
   ]
  },
  {
   "cell_type": "code",
   "execution_count": 18,
   "metadata": {},
   "outputs": [],
   "source": [
    "y_test = df_test[['intent']]"
   ]
  },
  {
   "cell_type": "markdown",
   "metadata": {},
   "source": [
    "## Baseline"
   ]
  },
  {
   "cell_type": "markdown",
   "metadata": {},
   "source": [
    "## With XGBoost"
   ]
  },
  {
   "cell_type": "code",
   "execution_count": 22,
   "metadata": {},
   "outputs": [
    {
     "name": "stderr",
     "output_type": "stream",
     "text": [
      "/Users/tawneykirkland/opt/anaconda3/lib/python3.8/site-packages/sklearn/feature_extraction/text.py:383: UserWarning: Your stop_words may be inconsistent with your preprocessing. Tokenizing the stop words generated tokens ['course'] not in stop_words.\n",
      "  warnings.warn('Your stop_words may be inconsistent with '\n"
     ]
    }
   ],
   "source": [
    "# creating bag of words model \n",
    "cv = CountVectorizer(stop_words = stop,\n",
    "                      max_features=880) \n",
    "  \n",
    "X = cv.fit_transform(X_tr).toarray() \n",
    "y = y_tr.iloc[:, 0].values \n",
    "\n",
    "# fitting XGB to the training set \n",
    "gbm = xgb.XGBClassifier()"
   ]
  },
  {
   "cell_type": "code",
   "execution_count": 23,
   "metadata": {
    "scrolled": false
   },
   "outputs": [
    {
     "data": {
      "text/plain": [
       "XGBClassifier(base_score=0.5, booster='gbtree', colsample_bylevel=1,\n",
       "              colsample_bynode=1, colsample_bytree=1, gamma=0, gpu_id=-1,\n",
       "              importance_type='gain', interaction_constraints='',\n",
       "              learning_rate=0.300000012, max_delta_step=0, max_depth=6,\n",
       "              min_child_weight=1, missing=nan, monotone_constraints='()',\n",
       "              n_estimators=100, n_jobs=0, num_parallel_tree=1,\n",
       "              objective='multi:softprob', random_state=0, reg_alpha=0,\n",
       "              reg_lambda=1, scale_pos_weight=None, subsample=1,\n",
       "              tree_method='exact', validate_parameters=1, verbosity=None)"
      ]
     },
     "execution_count": 23,
     "metadata": {},
     "output_type": "execute_result"
    }
   ],
   "source": [
    "gbm.fit(X,y)"
   ]
  },
  {
   "cell_type": "code",
   "execution_count": 24,
   "metadata": {},
   "outputs": [],
   "source": [
    "df_test_t = df_test['tweet']\n",
    "X_t = cv.fit_transform(df_test_t).toarray() \n",
    "y_pred = gbm.predict(X_t)\n",
    "gbm_pred = [round(value) for value in y_pred]"
   ]
  },
  {
   "cell_type": "code",
   "execution_count": 25,
   "metadata": {
    "scrolled": true
   },
   "outputs": [
    {
     "name": "stdout",
     "output_type": "stream",
     "text": [
      "Accuracy: 32.00%\n"
     ]
    }
   ],
   "source": [
    "accuracy = accuracy_score(df_test['intent'], gbm_pred)\n",
    "print(\"Accuracy: %.2f%%\" % (accuracy * 100.0))"
   ]
  },
  {
   "cell_type": "code",
   "execution_count": 26,
   "metadata": {
    "scrolled": true
   },
   "outputs": [
    {
     "data": {
      "text/html": [
       "<div>\n",
       "<style scoped>\n",
       "    .dataframe tbody tr th:only-of-type {\n",
       "        vertical-align: middle;\n",
       "    }\n",
       "\n",
       "    .dataframe tbody tr th {\n",
       "        vertical-align: top;\n",
       "    }\n",
       "\n",
       "    .dataframe thead th {\n",
       "        text-align: right;\n",
       "    }\n",
       "</style>\n",
       "<table border=\"1\" class=\"dataframe\">\n",
       "  <thead>\n",
       "    <tr style=\"text-align: right;\">\n",
       "      <th></th>\n",
       "      <th>Unnamed: 0</th>\n",
       "      <th>Unnamed: 0.1</th>\n",
       "      <th>Unnamed: 0.1.1</th>\n",
       "      <th>username</th>\n",
       "      <th>tweet</th>\n",
       "      <th>tweet_compound</th>\n",
       "      <th>intent</th>\n",
       "      <th>topic</th>\n",
       "      <th>neg</th>\n",
       "      <th>neu</th>\n",
       "      <th>pos</th>\n",
       "      <th>compound</th>\n",
       "    </tr>\n",
       "    <tr>\n",
       "      <th>gbm_pred</th>\n",
       "      <th></th>\n",
       "      <th></th>\n",
       "      <th></th>\n",
       "      <th></th>\n",
       "      <th></th>\n",
       "      <th></th>\n",
       "      <th></th>\n",
       "      <th></th>\n",
       "      <th></th>\n",
       "      <th></th>\n",
       "      <th></th>\n",
       "      <th></th>\n",
       "    </tr>\n",
       "  </thead>\n",
       "  <tbody>\n",
       "    <tr>\n",
       "      <th>0</th>\n",
       "      <td>77</td>\n",
       "      <td>77</td>\n",
       "      <td>77</td>\n",
       "      <td>77</td>\n",
       "      <td>77</td>\n",
       "      <td>77</td>\n",
       "      <td>77</td>\n",
       "      <td>77</td>\n",
       "      <td>77</td>\n",
       "      <td>77</td>\n",
       "      <td>77</td>\n",
       "      <td>77</td>\n",
       "    </tr>\n",
       "    <tr>\n",
       "      <th>2</th>\n",
       "      <td>66</td>\n",
       "      <td>66</td>\n",
       "      <td>66</td>\n",
       "      <td>66</td>\n",
       "      <td>66</td>\n",
       "      <td>66</td>\n",
       "      <td>66</td>\n",
       "      <td>66</td>\n",
       "      <td>66</td>\n",
       "      <td>66</td>\n",
       "      <td>66</td>\n",
       "      <td>66</td>\n",
       "    </tr>\n",
       "    <tr>\n",
       "      <th>3</th>\n",
       "      <td>12</td>\n",
       "      <td>12</td>\n",
       "      <td>12</td>\n",
       "      <td>12</td>\n",
       "      <td>12</td>\n",
       "      <td>12</td>\n",
       "      <td>12</td>\n",
       "      <td>12</td>\n",
       "      <td>12</td>\n",
       "      <td>12</td>\n",
       "      <td>12</td>\n",
       "      <td>12</td>\n",
       "    </tr>\n",
       "    <tr>\n",
       "      <th>4</th>\n",
       "      <td>39</td>\n",
       "      <td>39</td>\n",
       "      <td>39</td>\n",
       "      <td>39</td>\n",
       "      <td>39</td>\n",
       "      <td>39</td>\n",
       "      <td>39</td>\n",
       "      <td>39</td>\n",
       "      <td>39</td>\n",
       "      <td>39</td>\n",
       "      <td>39</td>\n",
       "      <td>39</td>\n",
       "    </tr>\n",
       "    <tr>\n",
       "      <th>5</th>\n",
       "      <td>6</td>\n",
       "      <td>6</td>\n",
       "      <td>6</td>\n",
       "      <td>6</td>\n",
       "      <td>6</td>\n",
       "      <td>6</td>\n",
       "      <td>6</td>\n",
       "      <td>6</td>\n",
       "      <td>6</td>\n",
       "      <td>6</td>\n",
       "      <td>6</td>\n",
       "      <td>6</td>\n",
       "    </tr>\n",
       "  </tbody>\n",
       "</table>\n",
       "</div>"
      ],
      "text/plain": [
       "          Unnamed: 0  Unnamed: 0.1  Unnamed: 0.1.1  username  tweet  \\\n",
       "gbm_pred                                                              \n",
       "0                 77            77              77        77     77   \n",
       "2                 66            66              66        66     66   \n",
       "3                 12            12              12        12     12   \n",
       "4                 39            39              39        39     39   \n",
       "5                  6             6               6         6      6   \n",
       "\n",
       "          tweet_compound  intent  topic  neg  neu  pos  compound  \n",
       "gbm_pred                                                          \n",
       "0                     77      77     77   77   77   77        77  \n",
       "2                     66      66     66   66   66   66        66  \n",
       "3                     12      12     12   12   12   12        12  \n",
       "4                     39      39     39   39   39   39        39  \n",
       "5                      6       6      6    6    6    6         6  "
      ]
     },
     "execution_count": 26,
     "metadata": {},
     "output_type": "execute_result"
    }
   ],
   "source": [
    "df_test['gbm_pred'] =  gbm_pred\n",
    "df_test.groupby('gbm_pred').count()"
   ]
  },
  {
   "cell_type": "markdown",
   "metadata": {},
   "source": [
    "### Gridsearch"
   ]
  },
  {
   "cell_type": "code",
   "execution_count": 39,
   "metadata": {},
   "outputs": [],
   "source": [
    "dtrain = xgb.DMatrix(X, label=y)\n",
    "dtest = xgb.DMatrix(X_t, label=df_test['intent'])"
   ]
  },
  {
   "cell_type": "code",
   "execution_count": 40,
   "metadata": {},
   "outputs": [],
   "source": [
    "params = {\n",
    "    # Parameters that I will tune; currently set to default\n",
    "    'max_depth':6,\n",
    "    'min_child_weight': 1,\n",
    "    'eta':.3,\n",
    "    'subsample': 1,\n",
    "    'colsample_bytree': 1,\n",
    "    # Other parameters\n",
    "    'objective':'multi:softmax',\n",
    "    'num_class' : 6\n",
    "}"
   ]
  },
  {
   "cell_type": "code",
   "execution_count": 43,
   "metadata": {},
   "outputs": [],
   "source": [
    "params['eval_metric'] = \"merror\" # #(wrong cases)/#(all cases)\n",
    "num_boost_round = 999"
   ]
  },
  {
   "cell_type": "code",
   "execution_count": 45,
   "metadata": {},
   "outputs": [
    {
     "name": "stdout",
     "output_type": "stream",
     "text": [
      "[0]\tTest-merror:0.64500\n",
      "Will train until Test-merror hasn't improved in 10 rounds.\n",
      "[1]\tTest-merror:0.64500\n",
      "[2]\tTest-merror:0.63000\n",
      "[3]\tTest-merror:0.62500\n",
      "[4]\tTest-merror:0.61500\n",
      "[5]\tTest-merror:0.63000\n",
      "[6]\tTest-merror:0.63500\n",
      "[7]\tTest-merror:0.63500\n",
      "[8]\tTest-merror:0.63500\n",
      "[9]\tTest-merror:0.63000\n",
      "[10]\tTest-merror:0.63000\n",
      "[11]\tTest-merror:0.62000\n",
      "[12]\tTest-merror:0.63000\n",
      "[13]\tTest-merror:0.65000\n",
      "[14]\tTest-merror:0.64000\n",
      "Stopping. Best iteration:\n",
      "[4]\tTest-merror:0.61500\n",
      "\n",
      "Best merror: 0.61 with 5 rounds\n"
     ]
    }
   ],
   "source": [
    "model = xgb.train(\n",
    "    params,\n",
    "    dtrain,\n",
    "    num_boost_round=num_boost_round,\n",
    "    evals=[(dtest, \"Test\")],\n",
    "    early_stopping_rounds=10\n",
    ")\n",
    "\n",
    "print(\"Best merror: {:.2f} with {} rounds\".format(\n",
    "                 model.best_score,\n",
    "                 model.best_iteration+1))"
   ]
  },
  {
   "cell_type": "markdown",
   "metadata": {},
   "source": [
    "#### With cross validation"
   ]
  },
  {
   "cell_type": "code",
   "execution_count": 46,
   "metadata": {},
   "outputs": [
    {
     "data": {
      "text/html": [
       "<div>\n",
       "<style scoped>\n",
       "    .dataframe tbody tr th:only-of-type {\n",
       "        vertical-align: middle;\n",
       "    }\n",
       "\n",
       "    .dataframe tbody tr th {\n",
       "        vertical-align: top;\n",
       "    }\n",
       "\n",
       "    .dataframe thead th {\n",
       "        text-align: right;\n",
       "    }\n",
       "</style>\n",
       "<table border=\"1\" class=\"dataframe\">\n",
       "  <thead>\n",
       "    <tr style=\"text-align: right;\">\n",
       "      <th></th>\n",
       "      <th>train-merror-mean</th>\n",
       "      <th>train-merror-std</th>\n",
       "      <th>test-merror-mean</th>\n",
       "      <th>test-merror-std</th>\n",
       "    </tr>\n",
       "  </thead>\n",
       "  <tbody>\n",
       "    <tr>\n",
       "      <th>0</th>\n",
       "      <td>0.443845</td>\n",
       "      <td>0.003623</td>\n",
       "      <td>0.482000</td>\n",
       "      <td>0.014395</td>\n",
       "    </tr>\n",
       "    <tr>\n",
       "      <th>1</th>\n",
       "      <td>0.427612</td>\n",
       "      <td>0.006441</td>\n",
       "      <td>0.473737</td>\n",
       "      <td>0.013811</td>\n",
       "    </tr>\n",
       "    <tr>\n",
       "      <th>2</th>\n",
       "      <td>0.419864</td>\n",
       "      <td>0.004645</td>\n",
       "      <td>0.471080</td>\n",
       "      <td>0.013087</td>\n",
       "    </tr>\n",
       "    <tr>\n",
       "      <th>3</th>\n",
       "      <td>0.410714</td>\n",
       "      <td>0.002408</td>\n",
       "      <td>0.465176</td>\n",
       "      <td>0.014068</td>\n",
       "    </tr>\n",
       "    <tr>\n",
       "      <th>4</th>\n",
       "      <td>0.402450</td>\n",
       "      <td>0.002259</td>\n",
       "      <td>0.464882</td>\n",
       "      <td>0.014084</td>\n",
       "    </tr>\n",
       "    <tr>\n",
       "      <th>...</th>\n",
       "      <td>...</td>\n",
       "      <td>...</td>\n",
       "      <td>...</td>\n",
       "      <td>...</td>\n",
       "    </tr>\n",
       "    <tr>\n",
       "      <th>85</th>\n",
       "      <td>0.216647</td>\n",
       "      <td>0.006546</td>\n",
       "      <td>0.412054</td>\n",
       "      <td>0.021328</td>\n",
       "    </tr>\n",
       "    <tr>\n",
       "      <th>86</th>\n",
       "      <td>0.215540</td>\n",
       "      <td>0.006222</td>\n",
       "      <td>0.411464</td>\n",
       "      <td>0.022861</td>\n",
       "    </tr>\n",
       "    <tr>\n",
       "      <th>87</th>\n",
       "      <td>0.214950</td>\n",
       "      <td>0.005885</td>\n",
       "      <td>0.411170</td>\n",
       "      <td>0.023478</td>\n",
       "    </tr>\n",
       "    <tr>\n",
       "      <th>88</th>\n",
       "      <td>0.213991</td>\n",
       "      <td>0.005754</td>\n",
       "      <td>0.411761</td>\n",
       "      <td>0.025834</td>\n",
       "    </tr>\n",
       "    <tr>\n",
       "      <th>89</th>\n",
       "      <td>0.212884</td>\n",
       "      <td>0.005622</td>\n",
       "      <td>0.410874</td>\n",
       "      <td>0.024562</td>\n",
       "    </tr>\n",
       "  </tbody>\n",
       "</table>\n",
       "<p>90 rows × 4 columns</p>\n",
       "</div>"
      ],
      "text/plain": [
       "    train-merror-mean  train-merror-std  test-merror-mean  test-merror-std\n",
       "0            0.443845          0.003623          0.482000         0.014395\n",
       "1            0.427612          0.006441          0.473737         0.013811\n",
       "2            0.419864          0.004645          0.471080         0.013087\n",
       "3            0.410714          0.002408          0.465176         0.014068\n",
       "4            0.402450          0.002259          0.464882         0.014084\n",
       "..                ...               ...               ...              ...\n",
       "85           0.216647          0.006546          0.412054         0.021328\n",
       "86           0.215540          0.006222          0.411464         0.022861\n",
       "87           0.214950          0.005885          0.411170         0.023478\n",
       "88           0.213991          0.005754          0.411761         0.025834\n",
       "89           0.212884          0.005622          0.410874         0.024562\n",
       "\n",
       "[90 rows x 4 columns]"
      ]
     },
     "execution_count": 46,
     "metadata": {},
     "output_type": "execute_result"
    }
   ],
   "source": [
    "cv_results = xgb.cv(\n",
    "    params,\n",
    "    dtrain,\n",
    "    num_boost_round=num_boost_round,\n",
    "    seed=42,\n",
    "    nfold=5,\n",
    "    metrics={'merror'},\n",
    "    early_stopping_rounds=10\n",
    ")\n",
    "cv_results"
   ]
  },
  {
   "cell_type": "code",
   "execution_count": 47,
   "metadata": {},
   "outputs": [
    {
     "data": {
      "text/plain": [
       "0.4108742"
      ]
     },
     "execution_count": 47,
     "metadata": {},
     "output_type": "execute_result"
    }
   ],
   "source": [
    "cv_results['test-merror-mean'].min()"
   ]
  },
  {
   "cell_type": "markdown",
   "metadata": {},
   "source": [
    "Best merror score across CV was 0.41 "
   ]
  },
  {
   "cell_type": "markdown",
   "metadata": {},
   "source": [
    "### Tuning max_depth and min_child_weight"
   ]
  },
  {
   "cell_type": "code",
   "execution_count": 48,
   "metadata": {},
   "outputs": [],
   "source": [
    "gridsearch_params = [\n",
    "    (max_depth, min_child_weight)\n",
    "    for max_depth in range(4,12)\n",
    "    for min_child_weight in range(4,10)\n",
    "]"
   ]
  },
  {
   "cell_type": "code",
   "execution_count": 49,
   "metadata": {},
   "outputs": [
    {
     "name": "stdout",
     "output_type": "stream",
     "text": [
      "CV with max_depth=4, min_child_weight=4\n",
      "\tMERROR 0.43271059999999995 for 55 rounds\n",
      "CV with max_depth=4, min_child_weight=5\n",
      "\tMERROR 0.42887140000000007 for 72 rounds\n",
      "CV with max_depth=4, min_child_weight=6\n",
      "\tMERROR 0.4344816000000001 for 68 rounds\n",
      "CV with max_depth=4, min_child_weight=7\n",
      "\tMERROR 0.44304 for 51 rounds\n",
      "CV with max_depth=4, min_child_weight=8\n",
      "\tMERROR 0.45514279999999996 for 19 rounds\n",
      "CV with max_depth=4, min_child_weight=9\n",
      "\tMERROR 0.4510126 for 49 rounds\n",
      "CV with max_depth=5, min_child_weight=4\n",
      "\tMERROR 0.42710480000000006 for 70 rounds\n",
      "CV with max_depth=5, min_child_weight=5\n",
      "\tMERROR 0.42621760000000003 for 66 rounds\n",
      "CV with max_depth=5, min_child_weight=6\n",
      "\tMERROR 0.4383176 for 38 rounds\n",
      "CV with max_depth=5, min_child_weight=7\n",
      "\tMERROR 0.44540500000000005 for 23 rounds\n",
      "CV with max_depth=5, min_child_weight=8\n",
      "\tMERROR 0.4433366 for 30 rounds\n",
      "CV with max_depth=5, min_child_weight=9\n",
      "\tMERROR 0.4498316 for 26 rounds\n",
      "CV with max_depth=6, min_child_weight=4\n",
      "\tMERROR 0.4235588 for 55 rounds\n",
      "CV with max_depth=6, min_child_weight=5\n",
      "\tMERROR 0.42768880000000004 for 44 rounds\n",
      "CV with max_depth=6, min_child_weight=6\n",
      "\tMERROR 0.4341844 for 46 rounds\n",
      "CV with max_depth=6, min_child_weight=7\n",
      "\tMERROR 0.44510740000000004 for 25 rounds\n",
      "CV with max_depth=6, min_child_weight=8\n",
      "\tMERROR 0.4462878 for 26 rounds\n",
      "CV with max_depth=6, min_child_weight=9\n",
      "\tMERROR 0.45042119999999997 for 23 rounds\n",
      "CV with max_depth=7, min_child_weight=4\n",
      "\tMERROR 0.4256258 for 35 rounds\n",
      "CV with max_depth=7, min_child_weight=5\n",
      "\tMERROR 0.42857960000000006 for 36 rounds\n",
      "CV with max_depth=7, min_child_weight=6\n",
      "\tMERROR 0.43418719999999994 for 37 rounds\n",
      "CV with max_depth=7, min_child_weight=7\n",
      "\tMERROR 0.4421556 for 36 rounds\n",
      "CV with max_depth=7, min_child_weight=8\n",
      "\tMERROR 0.44540159999999995 for 33 rounds\n",
      "CV with max_depth=7, min_child_weight=9\n",
      "\tMERROR 0.44983019999999996 for 32 rounds\n",
      "CV with max_depth=8, min_child_weight=4\n",
      "\tMERROR 0.4271008 for 44 rounds\n",
      "CV with max_depth=8, min_child_weight=5\n",
      "\tMERROR 0.4297584 for 37 rounds\n",
      "CV with max_depth=8, min_child_weight=6\n",
      "\tMERROR 0.43212199999999995 for 31 rounds\n",
      "CV with max_depth=8, min_child_weight=7\n",
      "\tMERROR 0.4395016 for 51 rounds\n",
      "CV with max_depth=8, min_child_weight=8\n",
      "\tMERROR 0.4471748 for 17 rounds\n",
      "CV with max_depth=8, min_child_weight=9\n",
      "\tMERROR 0.45012740000000007 for 13 rounds\n",
      "CV with max_depth=9, min_child_weight=4\n",
      "\tMERROR 0.42562560000000005 for 45 rounds\n",
      "CV with max_depth=9, min_child_weight=5\n",
      "\tMERROR 0.42710039999999994 for 26 rounds\n",
      "CV with max_depth=9, min_child_weight=6\n",
      "\tMERROR 0.4327126 for 27 rounds\n",
      "CV with max_depth=9, min_child_weight=7\n",
      "\tMERROR 0.4406822 for 30 rounds\n",
      "CV with max_depth=9, min_child_weight=8\n",
      "\tMERROR 0.44481380000000004 for 25 rounds\n",
      "CV with max_depth=9, min_child_weight=9\n",
      "\tMERROR 0.44805799999999996 for 30 rounds\n",
      "CV with max_depth=10, min_child_weight=4\n",
      "\tMERROR 0.4241466 for 35 rounds\n",
      "CV with max_depth=10, min_child_weight=5\n",
      "\tMERROR 0.42651019999999995 for 30 rounds\n",
      "CV with max_depth=10, min_child_weight=6\n",
      "\tMERROR 0.43271059999999995 for 36 rounds\n",
      "CV with max_depth=10, min_child_weight=7\n",
      "\tMERROR 0.4421552 for 21 rounds\n",
      "CV with max_depth=10, min_child_weight=8\n",
      "\tMERROR 0.445697 for 24 rounds\n",
      "CV with max_depth=10, min_child_weight=9\n",
      "\tMERROR 0.4489462000000001 for 14 rounds\n",
      "CV with max_depth=11, min_child_weight=4\n",
      "\tMERROR 0.4229678 for 44 rounds\n",
      "CV with max_depth=11, min_child_weight=5\n",
      "\tMERROR 0.42621359999999997 for 24 rounds\n",
      "CV with max_depth=11, min_child_weight=6\n",
      "\tMERROR 0.43507179999999995 for 21 rounds\n",
      "CV with max_depth=11, min_child_weight=7\n",
      "\tMERROR 0.4406828 for 21 rounds\n",
      "CV with max_depth=11, min_child_weight=8\n",
      "\tMERROR 0.445106 for 23 rounds\n",
      "CV with max_depth=11, min_child_weight=9\n",
      "\tMERROR 0.4489446 for 12 rounds\n",
      "Best params: 11, 4, MERROR: 0.4229678\n"
     ]
    }
   ],
   "source": [
    "# Define initial best params and MAE\n",
    "min_merror = float(\"Inf\")\n",
    "best_params = None\n",
    "\n",
    "for max_depth, min_child_weight in gridsearch_params:\n",
    "    print(\"CV with max_depth={}, min_child_weight={}\".format(\n",
    "                             max_depth,\n",
    "                             min_child_weight))\n",
    "    # Update our parameters\n",
    "    params['max_depth'] = max_depth\n",
    "    params['min_child_weight'] = min_child_weight\n",
    "    \n",
    "    # Run CV\n",
    "    cv_results = xgb.cv(\n",
    "        params,\n",
    "        dtrain,\n",
    "        num_boost_round=num_boost_round,\n",
    "        seed=42,\n",
    "        nfold=5,\n",
    "        metrics={'merror'},\n",
    "        early_stopping_rounds=10\n",
    "    )\n",
    "    # Update best merror\n",
    "    mean_merror = cv_results['test-merror-mean'].min()\n",
    "    boost_rounds = cv_results['test-merror-mean'].argmin()\n",
    "    print(\"\\tMERROR {} for {} rounds\".format(mean_merror, boost_rounds))\n",
    "    if mean_merror < min_merror:\n",
    "        min_merror = mean_merror\n",
    "        best_params = (max_depth,min_child_weight)\n",
    "print(\"Best params: {}, {}, MERROR: {}\".format(best_params[0], best_params[1], min_merror))"
   ]
  },
  {
   "cell_type": "code",
   "execution_count": 54,
   "metadata": {},
   "outputs": [],
   "source": [
    "params['max_depth'] = 11\n",
    "params['min_child_weight'] = 4"
   ]
  },
  {
   "cell_type": "markdown",
   "metadata": {},
   "source": [
    "## Tuning subsample and colsample_bytree"
   ]
  },
  {
   "cell_type": "code",
   "execution_count": 55,
   "metadata": {},
   "outputs": [],
   "source": [
    "gridsearch_params2 = [\n",
    "    (subsample, colsample)\n",
    "    for subsample in [i/10. for i in range(7,11)]\n",
    "    for colsample in [i/10. for i in range(7,11)]\n",
    "]"
   ]
  },
  {
   "cell_type": "code",
   "execution_count": 56,
   "metadata": {},
   "outputs": [
    {
     "name": "stdout",
     "output_type": "stream",
     "text": [
      "CV with subsample=1.0, colsample=1.0\n",
      "\tMERROR 0.4229678 for 44 rounds\n",
      "CV with subsample=1.0, colsample=0.9\n",
      "\tMERROR 0.42444260000000006 for 27 rounds\n",
      "CV with subsample=1.0, colsample=0.8\n",
      "\tMERROR 0.42474059999999997 for 34 rounds\n",
      "CV with subsample=1.0, colsample=0.7\n",
      "\tMERROR 0.4291650000000001 for 29 rounds\n",
      "CV with subsample=0.9, colsample=1.0\n",
      "\tMERROR 0.42385399999999995 for 29 rounds\n",
      "CV with subsample=0.9, colsample=0.9\n",
      "\tMERROR 0.4253278 for 38 rounds\n",
      "CV with subsample=0.9, colsample=0.8\n",
      "\tMERROR 0.4220804 for 37 rounds\n",
      "CV with subsample=0.9, colsample=0.7\n",
      "\tMERROR 0.4268054 for 33 rounds\n",
      "CV with subsample=0.8, colsample=1.0\n",
      "\tMERROR 0.425034 for 22 rounds\n",
      "CV with subsample=0.8, colsample=0.9\n",
      "\tMERROR 0.42621460000000005 for 37 rounds\n",
      "CV with subsample=0.8, colsample=0.8\n",
      "\tMERROR 0.4303446 for 23 rounds\n",
      "CV with subsample=0.8, colsample=0.7\n",
      "\tMERROR 0.4312322 for 22 rounds\n",
      "CV with subsample=0.7, colsample=1.0\n",
      "\tMERROR 0.42975900000000006 for 26 rounds\n",
      "CV with subsample=0.7, colsample=0.9\n",
      "\tMERROR 0.4300542 for 29 rounds\n",
      "CV with subsample=0.7, colsample=0.8\n",
      "\tMERROR 0.43094099999999996 for 17 rounds\n",
      "CV with subsample=0.7, colsample=0.7\n",
      "\tMERROR 0.425922 for 32 rounds\n",
      "Best params: 0.9, 0.8, MERROR: 0.4220804\n"
     ]
    }
   ],
   "source": [
    "min_merror = float(\"Inf\")\n",
    "best_params = None\n",
    "\n",
    "# We start by the largest values and go down to the smallest\n",
    "for subsample, colsample in reversed(gridsearch_params2):\n",
    "    print(\"CV with subsample={}, colsample={}\".format(\n",
    "                             subsample,\n",
    "                             colsample))\n",
    "    \n",
    "    # We update our parameters\n",
    "    params['subsample'] = subsample\n",
    "    params['colsample_bytree'] = colsample\n",
    "    \n",
    "    # Run CV\n",
    "    cv_results = xgb.cv(\n",
    "        params,\n",
    "        dtrain,\n",
    "        num_boost_round=num_boost_round,\n",
    "        seed=42,\n",
    "        nfold=5,\n",
    "        metrics={'merror'},\n",
    "        early_stopping_rounds=10\n",
    "    )\n",
    "    # Update best score\n",
    "    mean_merror = cv_results['test-merror-mean'].min()\n",
    "    boost_rounds = cv_results['test-merror-mean'].argmin()\n",
    "    print(\"\\tMERROR {} for {} rounds\".format(mean_merror, boost_rounds))\n",
    "    if mean_merror < min_merror:\n",
    "        min_merror = mean_merror\n",
    "        best_params = (subsample,colsample)\n",
    "print(\"Best params: {}, {}, MERROR: {}\".format(best_params[0], best_params[1], min_merror))\n"
   ]
  },
  {
   "cell_type": "code",
   "execution_count": 57,
   "metadata": {},
   "outputs": [],
   "source": [
    "params['subsample'] = .9\n",
    "params['colsample_bytree'] = 0.8"
   ]
  },
  {
   "cell_type": "markdown",
   "metadata": {},
   "source": [
    "## Turning learning_rate"
   ]
  },
  {
   "cell_type": "code",
   "execution_count": 68,
   "metadata": {
    "scrolled": true
   },
   "outputs": [
    {
     "name": "stdout",
     "output_type": "stream",
     "text": [
      "CPU times: user 3 µs, sys: 1 µs, total: 4 µs\n",
      "Wall time: 6.91 µs\n",
      "CV with eta=0.3\n",
      "\tMERROR 0.4220804 for 37 rounds\n",
      "\n",
      "CV with eta=0.2\n",
      "\tMERROR 0.4306432 for 59 rounds\n",
      "\n",
      "CV with eta=0.1\n",
      "\tMERROR 0.453078 for 3 rounds\n",
      "\n",
      "CV with eta=0.05\n",
      "\tMERROR 0.45661779999999996 for 5 rounds\n",
      "\n",
      "CV with eta=0.01\n",
      "\tMERROR 0.4589798 for 3 rounds\n",
      "\n",
      "CV with eta=0.005\n",
      "\tMERROR 0.4616358 for 3 rounds\n",
      "\n",
      "Best params: 0.3, MERROR: 0.4220804\n"
     ]
    }
   ],
   "source": [
    "%time\n",
    "\n",
    "min_merror = float(\"Inf\")\n",
    "best_params = None\n",
    "\n",
    "for eta in [.3, .2, .1, .05, .01, .005]:\n",
    "    print(\"CV with eta={}\".format(eta))\n",
    "    \n",
    "    # We update our parameters\n",
    "    params['eta'] = eta\n",
    "    \n",
    "    # Run CV\n",
    "    cv_results = xgb.cv(\n",
    "        params,\n",
    "        dtrain,\n",
    "        num_boost_round=num_boost_round,\n",
    "        seed=42,\n",
    "        nfold=5,\n",
    "        metrics={'merror'},\n",
    "        early_stopping_rounds=10\n",
    "    )\n",
    "    \n",
    "    # Update best score\n",
    "    mean_merror = cv_results['test-merror-mean'].min()\n",
    "    boost_rounds = cv_results['test-merror-mean'].argmin()\n",
    "    print(\"\\tMERROR {} for {} rounds\\n\".format(mean_merror, boost_rounds))\n",
    "    if mean_merror < min_merror:\n",
    "        min_merror = mean_merror\n",
    "        best_params = eta\n",
    "print(\"Best params: {}, MERROR: {}\".format(best_params, min_merror))"
   ]
  },
  {
   "cell_type": "code",
   "execution_count": 69,
   "metadata": {},
   "outputs": [],
   "source": [
    "params['eta'] = .3"
   ]
  },
  {
   "cell_type": "code",
   "execution_count": 70,
   "metadata": {},
   "outputs": [
    {
     "data": {
      "text/plain": [
       "{'max_depth': 11,\n",
       " 'min_child_weight': 4,\n",
       " 'eta': 0.3,\n",
       " 'subsample': 0.9,\n",
       " 'colsample_bytree': 0.8,\n",
       " 'objective': 'multi:softmax',\n",
       " 'num_class': 6,\n",
       " 'eval_metric': 'merror'}"
      ]
     },
     "execution_count": 70,
     "metadata": {},
     "output_type": "execute_result"
    }
   ],
   "source": [
    "params"
   ]
  },
  {
   "cell_type": "markdown",
   "metadata": {},
   "source": [
    "## Testing"
   ]
  },
  {
   "cell_type": "code",
   "execution_count": 71,
   "metadata": {},
   "outputs": [
    {
     "name": "stdout",
     "output_type": "stream",
     "text": [
      "[0]\tTest-merror:0.67500\n",
      "Will train until Test-merror hasn't improved in 10 rounds.\n",
      "[1]\tTest-merror:0.65000\n",
      "[2]\tTest-merror:0.64000\n",
      "[3]\tTest-merror:0.64000\n",
      "[4]\tTest-merror:0.63500\n",
      "[5]\tTest-merror:0.63000\n",
      "[6]\tTest-merror:0.65000\n",
      "[7]\tTest-merror:0.65000\n",
      "[8]\tTest-merror:0.66500\n",
      "[9]\tTest-merror:0.67000\n",
      "[10]\tTest-merror:0.68000\n",
      "[11]\tTest-merror:0.66000\n",
      "[12]\tTest-merror:0.65500\n",
      "[13]\tTest-merror:0.66000\n",
      "[14]\tTest-merror:0.65000\n",
      "[15]\tTest-merror:0.65500\n",
      "Stopping. Best iteration:\n",
      "[5]\tTest-merror:0.63000\n",
      "\n"
     ]
    }
   ],
   "source": [
    "model = xgb.train(\n",
    "    params,\n",
    "    dtrain,\n",
    "    num_boost_round=num_boost_round,\n",
    "    evals=[(dtest, \"Test\")],\n",
    "    early_stopping_rounds=10\n",
    ")"
   ]
  },
  {
   "cell_type": "code",
   "execution_count": 72,
   "metadata": {},
   "outputs": [
    {
     "name": "stdout",
     "output_type": "stream",
     "text": [
      "[0]\tTest-merror:0.67500\n",
      "[1]\tTest-merror:0.65000\n",
      "[2]\tTest-merror:0.64000\n",
      "[3]\tTest-merror:0.64000\n",
      "[4]\tTest-merror:0.63500\n",
      "[5]\tTest-merror:0.63000\n"
     ]
    }
   ],
   "source": [
    "num_boost_round = model.best_iteration + 1\n",
    "best_model = xgb.train(\n",
    "    params,\n",
    "    dtrain,\n",
    "    num_boost_round=num_boost_round,\n",
    "    evals=[(dtest, \"Test\")]\n",
    ")"
   ]
  },
  {
   "cell_type": "code",
   "execution_count": 73,
   "metadata": {},
   "outputs": [],
   "source": [
    "best_model.save_model(\"my_model.model\")"
   ]
  },
  {
   "cell_type": "code",
   "execution_count": null,
   "metadata": {},
   "outputs": [],
   "source": [
    "# loaded_model = xgb.Booster()\n",
    "# loaded_model.load_model(\"my_model.model\")"
   ]
  }
 ],
 "metadata": {
  "kernelspec": {
   "display_name": "Python 3",
   "language": "python",
   "name": "python3"
  },
  "language_info": {
   "codemirror_mode": {
    "name": "ipython",
    "version": 3
   },
   "file_extension": ".py",
   "mimetype": "text/x-python",
   "name": "python",
   "nbconvert_exporter": "python",
   "pygments_lexer": "ipython3",
   "version": "3.8.5"
  }
 },
 "nbformat": 4,
 "nbformat_minor": 4
}
