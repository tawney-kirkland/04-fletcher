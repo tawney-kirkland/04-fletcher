{
 "cells": [
  {
   "cell_type": "code",
   "execution_count": 154,
   "metadata": {},
   "outputs": [],
   "source": [
    "import pandas as pd\n",
    "from pandas import option_context\n",
    "import numpy as np\n",
    "\n",
    "from sklearn.model_selection import train_test_split\n",
    "from sklearn.feature_extraction.text import CountVectorizer \n",
    "from sklearn.decomposition import NMF\n",
    "\n",
    "from nltk.corpus import stopwords\n",
    "from nltk.tokenize import MWETokenizer\n",
    "\n",
    "from vaderSentiment.vaderSentiment import SentimentIntensityAnalyzer "
   ]
  },
  {
   "cell_type": "markdown",
   "metadata": {},
   "source": [
    "## This is the main notebook for topic modeling and sentiment analysis"
   ]
  },
  {
   "cell_type": "code",
   "execution_count": 155,
   "metadata": {},
   "outputs": [
    {
     "data": {
      "text/plain": [
       "(87271, 24)"
      ]
     },
     "execution_count": 155,
     "metadata": {},
     "output_type": "execute_result"
    }
   ],
   "source": [
    "df = pd.read_csv('train.csv')\n",
    "df.shape"
   ]
  },
  {
   "cell_type": "code",
   "execution_count": 156,
   "metadata": {},
   "outputs": [],
   "source": [
    "x_train, x_val = train_test_split(df,test_size=.20, random_state=10)"
   ]
  },
  {
   "cell_type": "code",
   "execution_count": 157,
   "metadata": {},
   "outputs": [],
   "source": [
    "df_analysis = x_train[['username','tweet']].copy()\n",
    "df_analysis.reset_index(drop=True,inplace=True)"
   ]
  },
  {
   "cell_type": "code",
   "execution_count": 158,
   "metadata": {},
   "outputs": [],
   "source": [
    "import nltk\n",
    "from nltk.tokenize import word_tokenize\n",
    "\n",
    "df_analysis['tokens'] = df_analysis.tweet.apply(nltk.word_tokenize)"
   ]
  },
  {
   "cell_type": "markdown",
   "metadata": {},
   "source": [
    "### Topic modeling"
   ]
  },
  {
   "cell_type": "code",
   "execution_count": 104,
   "metadata": {},
   "outputs": [],
   "source": [
    "stop = stopwords.words('english')\n",
    "stop.extend(['ive', 'im', 'itd', 'youre', 'hi', 'hello', 'hey', 'eg', 'l', 'h','w','v','u',\n",
    "             'please','get','dont','still'])"
   ]
  },
  {
   "cell_type": "code",
   "execution_count": 190,
   "metadata": {
    "scrolled": true
   },
   "outputs": [
    {
     "data": {
      "text/plain": [
       "(69816, 25982)"
      ]
     },
     "execution_count": 190,
     "metadata": {},
     "output_type": "execute_result"
    }
   ],
   "source": [
    "vectorizer = CountVectorizer(stop_words = stop)\n",
    "doc_word = vectorizer.fit_transform(df_analysis.tweet)\n",
    "doc_word.shape"
   ]
  },
  {
   "cell_type": "code",
   "execution_count": 171,
   "metadata": {},
   "outputs": [
    {
     "data": {
      "text/plain": [
       "(69816, 3)"
      ]
     },
     "execution_count": 171,
     "metadata": {},
     "output_type": "execute_result"
    }
   ],
   "source": [
    "nmf_model = NMF(3)\n",
    "doc_topic = nmf_model.fit_transform(doc_word)\n",
    "doc_topic.shape"
   ]
  },
  {
   "cell_type": "code",
   "execution_count": 172,
   "metadata": {},
   "outputs": [
    {
     "data": {
      "text/plain": [
       "(3, 25982)"
      ]
     },
     "execution_count": 172,
     "metadata": {},
     "output_type": "execute_result"
    }
   ],
   "source": [
    "topic_word = nmf_model.components_\n",
    "topic_word.shape"
   ]
  },
  {
   "cell_type": "code",
   "execution_count": 173,
   "metadata": {},
   "outputs": [
    {
     "data": {
      "text/plain": [
       "[['account', 'blocked', 'locked', 'help', 'money', 'access'],\n",
       " ['app', 'cant', 'help', 'chat', 'access', 'phone'],\n",
       " ['revolut', 'money', 'card', 'bank', 'back', 'use']]"
      ]
     },
     "execution_count": 173,
     "metadata": {},
     "output_type": "execute_result"
    }
   ],
   "source": [
    "words = vectorizer.get_feature_names()\n",
    "t = nmf_model.components_.argsort(axis=1)[:,-1:-7:-1]\n",
    "topic_words = [[words[e] for e in l] for l in t]\n",
    "topic_words"
   ]
  },
  {
   "cell_type": "markdown",
   "metadata": {},
   "source": [
    "- Component 1 (topic 1) seems to be about account queries\n",
    "- Component 2 (topic 2) seems to be about the app\n",
    "\n",
    "However, important to note a lot of compound words are losing their meaning in this approach. Need to incorporate in pipeline"
   ]
  },
  {
   "cell_type": "code",
   "execution_count": 109,
   "metadata": {},
   "outputs": [
    {
     "data": {
      "text/plain": [
       "array([[2.05675047e-02, 1.49616741e-01, 0.00000000e+00, 1.38512983e-02],\n",
       "       [0.00000000e+00, 1.63341998e-06, 3.11545913e-05, 2.49204712e-05],\n",
       "       [6.98011575e-02, 1.60536991e-01, 1.33782827e-02, 2.03226822e-03],\n",
       "       ...,\n",
       "       [1.41150707e-03, 8.04250739e-02, 0.00000000e+00, 2.77519412e-03],\n",
       "       [4.37085802e-03, 6.00244306e-03, 8.49458754e-03, 8.18883259e-03],\n",
       "       [2.23377548e-03, 9.93072444e-02, 4.46307083e-05, 7.71175894e-03]])"
      ]
     },
     "execution_count": 109,
     "metadata": {},
     "output_type": "execute_result"
    }
   ],
   "source": [
    "doc_topic"
   ]
  },
  {
   "cell_type": "code",
   "execution_count": 110,
   "metadata": {},
   "outputs": [
    {
     "data": {
      "text/plain": [
       "array([1, 2, 1, ..., 1, 2, 1])"
      ]
     },
     "execution_count": 110,
     "metadata": {},
     "output_type": "execute_result"
    }
   ],
   "source": [
    "doc_topic.argmax(axis=1)"
   ]
  },
  {
   "cell_type": "code",
   "execution_count": 111,
   "metadata": {},
   "outputs": [],
   "source": [
    "df_analysis['topic'] = doc_topic.argmax(axis=1)"
   ]
  },
  {
   "cell_type": "code",
   "execution_count": 112,
   "metadata": {
    "scrolled": true
   },
   "outputs": [
    {
     "data": {
      "text/html": [
       "<div>\n",
       "<style scoped>\n",
       "    .dataframe tbody tr th:only-of-type {\n",
       "        vertical-align: middle;\n",
       "    }\n",
       "\n",
       "    .dataframe tbody tr th {\n",
       "        vertical-align: top;\n",
       "    }\n",
       "\n",
       "    .dataframe thead th {\n",
       "        text-align: right;\n",
       "    }\n",
       "</style>\n",
       "<table border=\"1\" class=\"dataframe\">\n",
       "  <thead>\n",
       "    <tr style=\"text-align: right;\">\n",
       "      <th></th>\n",
       "      <th>username</th>\n",
       "      <th>tweet</th>\n",
       "      <th>topic</th>\n",
       "    </tr>\n",
       "  </thead>\n",
       "  <tbody>\n",
       "    <tr>\n",
       "      <th>0</th>\n",
       "      <td>tomaszr16</td>\n",
       "      <td>hello im waiting since   days for support can...</td>\n",
       "      <td>1</td>\n",
       "    </tr>\n",
       "    <tr>\n",
       "      <th>1</th>\n",
       "      <td>andyb1900</td>\n",
       "      <td>how dare you</td>\n",
       "      <td>2</td>\n",
       "    </tr>\n",
       "    <tr>\n",
       "      <th>2</th>\n",
       "      <td>albedairy2</td>\n",
       "      <td>please help  my account wont verify and i can...</td>\n",
       "      <td>1</td>\n",
       "    </tr>\n",
       "    <tr>\n",
       "      <th>3</th>\n",
       "      <td>maniuhija</td>\n",
       "      <td>prentitye month is now where are the rainbow ...</td>\n",
       "      <td>2</td>\n",
       "    </tr>\n",
       "    <tr>\n",
       "      <th>4</th>\n",
       "      <td>darrenc1</td>\n",
       "      <td>is there an issue with the app few of us tryi...</td>\n",
       "      <td>1</td>\n",
       "    </tr>\n",
       "    <tr>\n",
       "      <th>...</th>\n",
       "      <td>...</td>\n",
       "      <td>...</td>\n",
       "      <td>...</td>\n",
       "    </tr>\n",
       "    <tr>\n",
       "      <th>69811</th>\n",
       "      <td>deaconu_claudiu</td>\n",
       "      <td>hello my account is not working and nobody is...</td>\n",
       "      <td>0</td>\n",
       "    </tr>\n",
       "    <tr>\n",
       "      <th>69812</th>\n",
       "      <td>wikitail</td>\n",
       "      <td>is there any customer service available    we...</td>\n",
       "      <td>1</td>\n",
       "    </tr>\n",
       "    <tr>\n",
       "      <th>69813</th>\n",
       "      <td>mrgl1tch</td>\n",
       "      <td>once again i have been lied too and told s...</td>\n",
       "      <td>1</td>\n",
       "    </tr>\n",
       "    <tr>\n",
       "      <th>69814</th>\n",
       "      <td>burteditch</td>\n",
       "      <td>oh and also that you werent allowed to ask me...</td>\n",
       "      <td>2</td>\n",
       "    </tr>\n",
       "    <tr>\n",
       "      <th>69815</th>\n",
       "      <td>nachoo5o</td>\n",
       "      <td>they dont have chat all the time they only w...</td>\n",
       "      <td>1</td>\n",
       "    </tr>\n",
       "  </tbody>\n",
       "</table>\n",
       "<p>69816 rows × 3 columns</p>\n",
       "</div>"
      ],
      "text/plain": [
       "              username                                              tweet  \\\n",
       "0            tomaszr16   hello im waiting since   days for support can...   \n",
       "1            andyb1900                                      how dare you    \n",
       "2           albedairy2   please help  my account wont verify and i can...   \n",
       "3            maniuhija   prentitye month is now where are the rainbow ...   \n",
       "4             darrenc1   is there an issue with the app few of us tryi...   \n",
       "...                ...                                                ...   \n",
       "69811  deaconu_claudiu   hello my account is not working and nobody is...   \n",
       "69812         wikitail   is there any customer service available    we...   \n",
       "69813         mrgl1tch      once again i have been lied too and told s...   \n",
       "69814       burteditch   oh and also that you werent allowed to ask me...   \n",
       "69815         nachoo5o    they dont have chat all the time they only w...   \n",
       "\n",
       "       topic  \n",
       "0          1  \n",
       "1          2  \n",
       "2          1  \n",
       "3          2  \n",
       "4          1  \n",
       "...      ...  \n",
       "69811      0  \n",
       "69812      1  \n",
       "69813      1  \n",
       "69814      2  \n",
       "69815      1  \n",
       "\n",
       "[69816 rows x 3 columns]"
      ]
     },
     "execution_count": 112,
     "metadata": {},
     "output_type": "execute_result"
    }
   ],
   "source": [
    "df_analysis"
   ]
  },
  {
   "cell_type": "markdown",
   "metadata": {},
   "source": [
    "### Sentiment analysis"
   ]
  },
  {
   "cell_type": "code",
   "execution_count": 113,
   "metadata": {},
   "outputs": [],
   "source": [
    "sid_obj = SentimentIntensityAnalyzer()\n",
    "sentiment = []\n",
    "for tweet in df_analysis.tweet:\n",
    "    sentiment.append(sid_obj.polarity_scores(tweet))"
   ]
  },
  {
   "cell_type": "code",
   "execution_count": 114,
   "metadata": {},
   "outputs": [],
   "source": [
    "sentiment_df = pd.DataFrame(sentiment)"
   ]
  },
  {
   "cell_type": "code",
   "execution_count": 115,
   "metadata": {},
   "outputs": [
    {
     "data": {
      "text/html": [
       "<div>\n",
       "<style scoped>\n",
       "    .dataframe tbody tr th:only-of-type {\n",
       "        vertical-align: middle;\n",
       "    }\n",
       "\n",
       "    .dataframe tbody tr th {\n",
       "        vertical-align: top;\n",
       "    }\n",
       "\n",
       "    .dataframe thead th {\n",
       "        text-align: right;\n",
       "    }\n",
       "</style>\n",
       "<table border=\"1\" class=\"dataframe\">\n",
       "  <thead>\n",
       "    <tr style=\"text-align: right;\">\n",
       "      <th></th>\n",
       "      <th>neg</th>\n",
       "      <th>neu</th>\n",
       "      <th>pos</th>\n",
       "      <th>compound</th>\n",
       "    </tr>\n",
       "  </thead>\n",
       "  <tbody>\n",
       "    <tr>\n",
       "      <th>0</th>\n",
       "      <td>0.000</td>\n",
       "      <td>0.893</td>\n",
       "      <td>0.107</td>\n",
       "      <td>0.5859</td>\n",
       "    </tr>\n",
       "    <tr>\n",
       "      <th>1</th>\n",
       "      <td>0.000</td>\n",
       "      <td>1.000</td>\n",
       "      <td>0.000</td>\n",
       "      <td>0.0000</td>\n",
       "    </tr>\n",
       "    <tr>\n",
       "      <th>2</th>\n",
       "      <td>0.092</td>\n",
       "      <td>0.821</td>\n",
       "      <td>0.087</td>\n",
       "      <td>-0.2960</td>\n",
       "    </tr>\n",
       "    <tr>\n",
       "      <th>3</th>\n",
       "      <td>0.000</td>\n",
       "      <td>1.000</td>\n",
       "      <td>0.000</td>\n",
       "      <td>0.0000</td>\n",
       "    </tr>\n",
       "    <tr>\n",
       "      <th>4</th>\n",
       "      <td>0.000</td>\n",
       "      <td>1.000</td>\n",
       "      <td>0.000</td>\n",
       "      <td>0.0000</td>\n",
       "    </tr>\n",
       "    <tr>\n",
       "      <th>...</th>\n",
       "      <td>...</td>\n",
       "      <td>...</td>\n",
       "      <td>...</td>\n",
       "      <td>...</td>\n",
       "    </tr>\n",
       "    <tr>\n",
       "      <th>69811</th>\n",
       "      <td>0.000</td>\n",
       "      <td>0.820</td>\n",
       "      <td>0.180</td>\n",
       "      <td>0.2960</td>\n",
       "    </tr>\n",
       "    <tr>\n",
       "      <th>69812</th>\n",
       "      <td>0.099</td>\n",
       "      <td>0.901</td>\n",
       "      <td>0.000</td>\n",
       "      <td>-0.2960</td>\n",
       "    </tr>\n",
       "    <tr>\n",
       "      <th>69813</th>\n",
       "      <td>0.067</td>\n",
       "      <td>0.933</td>\n",
       "      <td>0.000</td>\n",
       "      <td>-0.2023</td>\n",
       "    </tr>\n",
       "    <tr>\n",
       "      <th>69814</th>\n",
       "      <td>0.223</td>\n",
       "      <td>0.777</td>\n",
       "      <td>0.000</td>\n",
       "      <td>-0.8519</td>\n",
       "    </tr>\n",
       "    <tr>\n",
       "      <th>69815</th>\n",
       "      <td>0.000</td>\n",
       "      <td>0.896</td>\n",
       "      <td>0.104</td>\n",
       "      <td>0.6369</td>\n",
       "    </tr>\n",
       "  </tbody>\n",
       "</table>\n",
       "<p>69816 rows × 4 columns</p>\n",
       "</div>"
      ],
      "text/plain": [
       "         neg    neu    pos  compound\n",
       "0      0.000  0.893  0.107    0.5859\n",
       "1      0.000  1.000  0.000    0.0000\n",
       "2      0.092  0.821  0.087   -0.2960\n",
       "3      0.000  1.000  0.000    0.0000\n",
       "4      0.000  1.000  0.000    0.0000\n",
       "...      ...    ...    ...       ...\n",
       "69811  0.000  0.820  0.180    0.2960\n",
       "69812  0.099  0.901  0.000   -0.2960\n",
       "69813  0.067  0.933  0.000   -0.2023\n",
       "69814  0.223  0.777  0.000   -0.8519\n",
       "69815  0.000  0.896  0.104    0.6369\n",
       "\n",
       "[69816 rows x 4 columns]"
      ]
     },
     "execution_count": 115,
     "metadata": {},
     "output_type": "execute_result"
    }
   ],
   "source": [
    "sentiment_df"
   ]
  },
  {
   "cell_type": "code",
   "execution_count": 116,
   "metadata": {},
   "outputs": [],
   "source": [
    "merged_df = pd.concat([df_analysis, sentiment_df], axis=1)"
   ]
  },
  {
   "cell_type": "code",
   "execution_count": 117,
   "metadata": {},
   "outputs": [
    {
     "data": {
      "text/html": [
       "<div>\n",
       "<style scoped>\n",
       "    .dataframe tbody tr th:only-of-type {\n",
       "        vertical-align: middle;\n",
       "    }\n",
       "\n",
       "    .dataframe tbody tr th {\n",
       "        vertical-align: top;\n",
       "    }\n",
       "\n",
       "    .dataframe thead th {\n",
       "        text-align: right;\n",
       "    }\n",
       "</style>\n",
       "<table border=\"1\" class=\"dataframe\">\n",
       "  <thead>\n",
       "    <tr style=\"text-align: right;\">\n",
       "      <th></th>\n",
       "      <th>username</th>\n",
       "      <th>tweet</th>\n",
       "      <th>topic</th>\n",
       "      <th>neg</th>\n",
       "      <th>neu</th>\n",
       "      <th>pos</th>\n",
       "      <th>compound</th>\n",
       "    </tr>\n",
       "  </thead>\n",
       "  <tbody>\n",
       "    <tr>\n",
       "      <th>0</th>\n",
       "      <td>tomaszr16</td>\n",
       "      <td>hello im waiting since   days for support can...</td>\n",
       "      <td>1</td>\n",
       "      <td>0.000</td>\n",
       "      <td>0.893</td>\n",
       "      <td>0.107</td>\n",
       "      <td>0.5859</td>\n",
       "    </tr>\n",
       "    <tr>\n",
       "      <th>1</th>\n",
       "      <td>andyb1900</td>\n",
       "      <td>how dare you</td>\n",
       "      <td>2</td>\n",
       "      <td>0.000</td>\n",
       "      <td>1.000</td>\n",
       "      <td>0.000</td>\n",
       "      <td>0.0000</td>\n",
       "    </tr>\n",
       "    <tr>\n",
       "      <th>2</th>\n",
       "      <td>albedairy2</td>\n",
       "      <td>please help  my account wont verify and i can...</td>\n",
       "      <td>1</td>\n",
       "      <td>0.092</td>\n",
       "      <td>0.821</td>\n",
       "      <td>0.087</td>\n",
       "      <td>-0.2960</td>\n",
       "    </tr>\n",
       "    <tr>\n",
       "      <th>3</th>\n",
       "      <td>maniuhija</td>\n",
       "      <td>prentitye month is now where are the rainbow ...</td>\n",
       "      <td>2</td>\n",
       "      <td>0.000</td>\n",
       "      <td>1.000</td>\n",
       "      <td>0.000</td>\n",
       "      <td>0.0000</td>\n",
       "    </tr>\n",
       "    <tr>\n",
       "      <th>4</th>\n",
       "      <td>darrenc1</td>\n",
       "      <td>is there an issue with the app few of us tryi...</td>\n",
       "      <td>1</td>\n",
       "      <td>0.000</td>\n",
       "      <td>1.000</td>\n",
       "      <td>0.000</td>\n",
       "      <td>0.0000</td>\n",
       "    </tr>\n",
       "    <tr>\n",
       "      <th>...</th>\n",
       "      <td>...</td>\n",
       "      <td>...</td>\n",
       "      <td>...</td>\n",
       "      <td>...</td>\n",
       "      <td>...</td>\n",
       "      <td>...</td>\n",
       "      <td>...</td>\n",
       "    </tr>\n",
       "    <tr>\n",
       "      <th>69811</th>\n",
       "      <td>deaconu_claudiu</td>\n",
       "      <td>hello my account is not working and nobody is...</td>\n",
       "      <td>0</td>\n",
       "      <td>0.000</td>\n",
       "      <td>0.820</td>\n",
       "      <td>0.180</td>\n",
       "      <td>0.2960</td>\n",
       "    </tr>\n",
       "    <tr>\n",
       "      <th>69812</th>\n",
       "      <td>wikitail</td>\n",
       "      <td>is there any customer service available    we...</td>\n",
       "      <td>1</td>\n",
       "      <td>0.099</td>\n",
       "      <td>0.901</td>\n",
       "      <td>0.000</td>\n",
       "      <td>-0.2960</td>\n",
       "    </tr>\n",
       "    <tr>\n",
       "      <th>69813</th>\n",
       "      <td>mrgl1tch</td>\n",
       "      <td>once again i have been lied too and told s...</td>\n",
       "      <td>1</td>\n",
       "      <td>0.067</td>\n",
       "      <td>0.933</td>\n",
       "      <td>0.000</td>\n",
       "      <td>-0.2023</td>\n",
       "    </tr>\n",
       "    <tr>\n",
       "      <th>69814</th>\n",
       "      <td>burteditch</td>\n",
       "      <td>oh and also that you werent allowed to ask me...</td>\n",
       "      <td>2</td>\n",
       "      <td>0.223</td>\n",
       "      <td>0.777</td>\n",
       "      <td>0.000</td>\n",
       "      <td>-0.8519</td>\n",
       "    </tr>\n",
       "    <tr>\n",
       "      <th>69815</th>\n",
       "      <td>nachoo5o</td>\n",
       "      <td>they dont have chat all the time they only w...</td>\n",
       "      <td>1</td>\n",
       "      <td>0.000</td>\n",
       "      <td>0.896</td>\n",
       "      <td>0.104</td>\n",
       "      <td>0.6369</td>\n",
       "    </tr>\n",
       "  </tbody>\n",
       "</table>\n",
       "<p>69816 rows × 7 columns</p>\n",
       "</div>"
      ],
      "text/plain": [
       "              username                                              tweet  \\\n",
       "0            tomaszr16   hello im waiting since   days for support can...   \n",
       "1            andyb1900                                      how dare you    \n",
       "2           albedairy2   please help  my account wont verify and i can...   \n",
       "3            maniuhija   prentitye month is now where are the rainbow ...   \n",
       "4             darrenc1   is there an issue with the app few of us tryi...   \n",
       "...                ...                                                ...   \n",
       "69811  deaconu_claudiu   hello my account is not working and nobody is...   \n",
       "69812         wikitail   is there any customer service available    we...   \n",
       "69813         mrgl1tch      once again i have been lied too and told s...   \n",
       "69814       burteditch   oh and also that you werent allowed to ask me...   \n",
       "69815         nachoo5o    they dont have chat all the time they only w...   \n",
       "\n",
       "       topic    neg    neu    pos  compound  \n",
       "0          1  0.000  0.893  0.107    0.5859  \n",
       "1          2  0.000  1.000  0.000    0.0000  \n",
       "2          1  0.092  0.821  0.087   -0.2960  \n",
       "3          2  0.000  1.000  0.000    0.0000  \n",
       "4          1  0.000  1.000  0.000    0.0000  \n",
       "...      ...    ...    ...    ...       ...  \n",
       "69811      0  0.000  0.820  0.180    0.2960  \n",
       "69812      1  0.099  0.901  0.000   -0.2960  \n",
       "69813      1  0.067  0.933  0.000   -0.2023  \n",
       "69814      2  0.223  0.777  0.000   -0.8519  \n",
       "69815      1  0.000  0.896  0.104    0.6369  \n",
       "\n",
       "[69816 rows x 7 columns]"
      ]
     },
     "execution_count": 117,
     "metadata": {},
     "output_type": "execute_result"
    }
   ],
   "source": [
    "merged_df"
   ]
  },
  {
   "cell_type": "code",
   "execution_count": 118,
   "metadata": {},
   "outputs": [],
   "source": [
    "topic2_df = merged_df[merged_df['topic'] == 2]"
   ]
  },
  {
   "cell_type": "code",
   "execution_count": 125,
   "metadata": {},
   "outputs": [
    {
     "data": {
      "text/html": [
       "<div>\n",
       "<style scoped>\n",
       "    .dataframe tbody tr th:only-of-type {\n",
       "        vertical-align: middle;\n",
       "    }\n",
       "\n",
       "    .dataframe tbody tr th {\n",
       "        vertical-align: top;\n",
       "    }\n",
       "\n",
       "    .dataframe thead th {\n",
       "        text-align: right;\n",
       "    }\n",
       "</style>\n",
       "<table border=\"1\" class=\"dataframe\">\n",
       "  <thead>\n",
       "    <tr style=\"text-align: right;\">\n",
       "      <th></th>\n",
       "      <th>username</th>\n",
       "      <th>tweet</th>\n",
       "      <th>topic</th>\n",
       "      <th>neg</th>\n",
       "      <th>neu</th>\n",
       "      <th>pos</th>\n",
       "      <th>compound</th>\n",
       "    </tr>\n",
       "  </thead>\n",
       "  <tbody>\n",
       "    <tr>\n",
       "      <th>1</th>\n",
       "      <td>andyb1900</td>\n",
       "      <td>how dare you</td>\n",
       "      <td>2</td>\n",
       "      <td>0.000</td>\n",
       "      <td>1.000</td>\n",
       "      <td>0.000</td>\n",
       "      <td>0.0000</td>\n",
       "    </tr>\n",
       "    <tr>\n",
       "      <th>3</th>\n",
       "      <td>maniuhija</td>\n",
       "      <td>prentitye month is now where are the rainbow cards</td>\n",
       "      <td>2</td>\n",
       "      <td>0.000</td>\n",
       "      <td>1.000</td>\n",
       "      <td>0.000</td>\n",
       "      <td>0.0000</td>\n",
       "    </tr>\n",
       "    <tr>\n",
       "      <th>6</th>\n",
       "      <td>corpusjessa</td>\n",
       "      <td>join    pm club manager to get     new trader bonus      try okex swap      trade   days      buy     crypto      trading fee card deposit          trading tasks  invite frds join group get   doge</td>\n",
       "      <td>2</td>\n",
       "      <td>0.000</td>\n",
       "      <td>0.716</td>\n",
       "      <td>0.284</td>\n",
       "      <td>0.8176</td>\n",
       "    </tr>\n",
       "    <tr>\n",
       "      <th>10</th>\n",
       "      <td>andr3ea_popa</td>\n",
       "      <td>hello yesterday l had my phone hacked by a person that claim to be from revolut they broke into my app and used my hsbc debit and tui credit card to get money in the revolut account then they saentity they need to verify my entityentity i have been robbed of        help</td>\n",
       "      <td>2</td>\n",
       "      <td>0.090</td>\n",
       "      <td>0.773</td>\n",
       "      <td>0.137</td>\n",
       "      <td>0.4215</td>\n",
       "    </tr>\n",
       "    <tr>\n",
       "      <th>17</th>\n",
       "      <td>nikos_katsanos</td>\n",
       "      <td>the last   weeks cannot top up my revolut using a mastercard with  d secure your inapp support is really unhelpful is there a bug with your app</td>\n",
       "      <td>2</td>\n",
       "      <td>0.052</td>\n",
       "      <td>0.782</td>\n",
       "      <td>0.166</td>\n",
       "      <td>0.5435</td>\n",
       "    </tr>\n",
       "    <tr>\n",
       "      <th>...</th>\n",
       "      <td>...</td>\n",
       "      <td>...</td>\n",
       "      <td>...</td>\n",
       "      <td>...</td>\n",
       "      <td>...</td>\n",
       "      <td>...</td>\n",
       "      <td>...</td>\n",
       "    </tr>\n",
       "    <tr>\n",
       "      <th>69797</th>\n",
       "      <td>nikolasrichter1</td>\n",
       "      <td>after opening revolut on my phone a big error appearswe couldnt verify your entityentity but when i try to click on of the options to verify my age another error comes in with you must be   yo to use our service how am i supposed to verify it</td>\n",
       "      <td>2</td>\n",
       "      <td>0.105</td>\n",
       "      <td>0.895</td>\n",
       "      <td>0.000</td>\n",
       "      <td>-0.6597</td>\n",
       "    </tr>\n",
       "    <tr>\n",
       "      <th>69799</th>\n",
       "      <td>bucuri</td>\n",
       "      <td>wtf   really charging     instead of    why why i guess ill just wait   days to see if there will be a refund but this card is not reliable at all after all i will just stop using it</td>\n",
       "      <td>2</td>\n",
       "      <td>0.173</td>\n",
       "      <td>0.827</td>\n",
       "      <td>0.000</td>\n",
       "      <td>-0.7269</td>\n",
       "    </tr>\n",
       "    <tr>\n",
       "      <th>69804</th>\n",
       "      <td>jasonpereira</td>\n",
       "      <td>feel free to jump in and make a pitch</td>\n",
       "      <td>2</td>\n",
       "      <td>0.000</td>\n",
       "      <td>0.708</td>\n",
       "      <td>0.292</td>\n",
       "      <td>0.5106</td>\n",
       "    </tr>\n",
       "    <tr>\n",
       "      <th>69807</th>\n",
       "      <td>z53758152</td>\n",
       "      <td>unlock this guys revolut account his revolut tag  u locked his account without any reason and his waiting now more then one month this is unacceptable so please unlock his account other wise we will close all our accounts on revolut</td>\n",
       "      <td>2</td>\n",
       "      <td>0.064</td>\n",
       "      <td>0.807</td>\n",
       "      <td>0.129</td>\n",
       "      <td>0.4751</td>\n",
       "    </tr>\n",
       "    <tr>\n",
       "      <th>69814</th>\n",
       "      <td>burteditch</td>\n",
       "      <td>oh and also that you werent allowed to ask me for those documents because of gdpr but if i entitynt supply them you would reject the transfer what the actual fuck</td>\n",
       "      <td>2</td>\n",
       "      <td>0.223</td>\n",
       "      <td>0.777</td>\n",
       "      <td>0.000</td>\n",
       "      <td>-0.8519</td>\n",
       "    </tr>\n",
       "  </tbody>\n",
       "</table>\n",
       "<p>15354 rows × 7 columns</p>\n",
       "</div>"
      ],
      "text/plain": [
       "              username  \\\n",
       "1            andyb1900   \n",
       "3            maniuhija   \n",
       "6          corpusjessa   \n",
       "10        andr3ea_popa   \n",
       "17      nikos_katsanos   \n",
       "...                ...   \n",
       "69797  nikolasrichter1   \n",
       "69799           bucuri   \n",
       "69804     jasonpereira   \n",
       "69807        z53758152   \n",
       "69814       burteditch   \n",
       "\n",
       "                                                                                                                                                                                                                                                                                   tweet  \\\n",
       "1                                                                                                                                                                                                                                                                          how dare you    \n",
       "3                                                                                                                                                                                                                                     prentitye month is now where are the rainbow cards   \n",
       "6                                                                                   join    pm club manager to get     new trader bonus      try okex swap      trade   days      buy     crypto      trading fee card deposit          trading tasks  invite frds join group get   doge   \n",
       "10        hello yesterday l had my phone hacked by a person that claim to be from revolut they broke into my app and used my hsbc debit and tui credit card to get money in the revolut account then they saentity they need to verify my entityentity i have been robbed of        help   \n",
       "17                                                                                                                                       the last   weeks cannot top up my revolut using a mastercard with  d secure your inapp support is really unhelpful is there a bug with your app   \n",
       "...                                                                                                                                                                                                                                                                                  ...   \n",
       "69797                                 after opening revolut on my phone a big error appearswe couldnt verify your entityentity but when i try to click on of the options to verify my age another error comes in with you must be   yo to use our service how am i supposed to verify it   \n",
       "69799                                                                                          wtf   really charging     instead of    why why i guess ill just wait   days to see if there will be a refund but this card is not reliable at all after all i will just stop using it      \n",
       "69804                                                                                                                                                                                                                                              feel free to jump in and make a pitch   \n",
       "69807                                           unlock this guys revolut account his revolut tag  u locked his account without any reason and his waiting now more then one month this is unacceptable so please unlock his account other wise we will close all our accounts on revolut   \n",
       "69814                                                                                                               oh and also that you werent allowed to ask me for those documents because of gdpr but if i entitynt supply them you would reject the transfer what the actual fuck     \n",
       "\n",
       "       topic    neg    neu    pos  compound  \n",
       "1          2  0.000  1.000  0.000    0.0000  \n",
       "3          2  0.000  1.000  0.000    0.0000  \n",
       "6          2  0.000  0.716  0.284    0.8176  \n",
       "10         2  0.090  0.773  0.137    0.4215  \n",
       "17         2  0.052  0.782  0.166    0.5435  \n",
       "...      ...    ...    ...    ...       ...  \n",
       "69797      2  0.105  0.895  0.000   -0.6597  \n",
       "69799      2  0.173  0.827  0.000   -0.7269  \n",
       "69804      2  0.000  0.708  0.292    0.5106  \n",
       "69807      2  0.064  0.807  0.129    0.4751  \n",
       "69814      2  0.223  0.777  0.000   -0.8519  \n",
       "\n",
       "[15354 rows x 7 columns]"
      ]
     },
     "metadata": {},
     "output_type": "display_data"
    }
   ],
   "source": [
    "with option_context('display.max_colwidth', 600):\n",
    "    display(topic2_df)"
   ]
  },
  {
   "cell_type": "markdown",
   "metadata": {},
   "source": [
    "### With MWE tokenizer"
   ]
  },
  {
   "cell_type": "code",
   "execution_count": 174,
   "metadata": {},
   "outputs": [],
   "source": [
    "mwe = MWETokenizer([('debit','card'),('business','account'),\n",
    "                    ('savings','account'), ('bank','account'),\n",
    "                    ('doge','coin'), ('challenger','bank'),\n",
    "                    ('business','bank'),('virtual','card')])"
   ]
  },
  {
   "cell_type": "code",
   "execution_count": 185,
   "metadata": {},
   "outputs": [],
   "source": [
    "def mwe_tweet(tweet):\n",
    "    mwe_tok = mwe.tokenize(word_tokenize(tweet))\n",
    "    \n",
    "    return mwe_tok\n",
    "\n",
    "df_analysis['mwe_token'] = df_analysis.tweet.map(mwe_tweet) "
   ]
  },
  {
   "cell_type": "code",
   "execution_count": 187,
   "metadata": {},
   "outputs": [
    {
     "data": {
      "text/html": [
       "<div>\n",
       "<style scoped>\n",
       "    .dataframe tbody tr th:only-of-type {\n",
       "        vertical-align: middle;\n",
       "    }\n",
       "\n",
       "    .dataframe tbody tr th {\n",
       "        vertical-align: top;\n",
       "    }\n",
       "\n",
       "    .dataframe thead th {\n",
       "        text-align: right;\n",
       "    }\n",
       "</style>\n",
       "<table border=\"1\" class=\"dataframe\">\n",
       "  <thead>\n",
       "    <tr style=\"text-align: right;\">\n",
       "      <th></th>\n",
       "      <th>username</th>\n",
       "      <th>tweet</th>\n",
       "      <th>tokens</th>\n",
       "      <th>mwe_token</th>\n",
       "    </tr>\n",
       "  </thead>\n",
       "  <tbody>\n",
       "    <tr>\n",
       "      <th>0</th>\n",
       "      <td>tomaszr16</td>\n",
       "      <td>hello im waiting since   days for support can...</td>\n",
       "      <td>[hello, im, waiting, since, days, for, support...</td>\n",
       "      <td>[hello, im, waiting, since, days, for, support...</td>\n",
       "    </tr>\n",
       "    <tr>\n",
       "      <th>1</th>\n",
       "      <td>andyb1900</td>\n",
       "      <td>how dare you</td>\n",
       "      <td>[how, dare, you]</td>\n",
       "      <td>[how, dare, you]</td>\n",
       "    </tr>\n",
       "    <tr>\n",
       "      <th>2</th>\n",
       "      <td>albedairy2</td>\n",
       "      <td>please help  my account wont verify and i can...</td>\n",
       "      <td>[please, help, my, account, wont, verify, and,...</td>\n",
       "      <td>[please, help, my, account, wont, verify, and,...</td>\n",
       "    </tr>\n",
       "    <tr>\n",
       "      <th>3</th>\n",
       "      <td>maniuhija</td>\n",
       "      <td>prentitye month is now where are the rainbow ...</td>\n",
       "      <td>[prentitye, month, is, now, where, are, the, r...</td>\n",
       "      <td>[prentitye, month, is, now, where, are, the, r...</td>\n",
       "    </tr>\n",
       "    <tr>\n",
       "      <th>4</th>\n",
       "      <td>darrenc1</td>\n",
       "      <td>is there an issue with the app few of us tryi...</td>\n",
       "      <td>[is, there, an, issue, with, the, app, few, of...</td>\n",
       "      <td>[is, there, an, issue, with, the, app, few, of...</td>\n",
       "    </tr>\n",
       "    <tr>\n",
       "      <th>...</th>\n",
       "      <td>...</td>\n",
       "      <td>...</td>\n",
       "      <td>...</td>\n",
       "      <td>...</td>\n",
       "    </tr>\n",
       "    <tr>\n",
       "      <th>69811</th>\n",
       "      <td>deaconu_claudiu</td>\n",
       "      <td>hello my account is not working and nobody is...</td>\n",
       "      <td>[hello, my, account, is, not, working, and, no...</td>\n",
       "      <td>[hello, my, account, is, not, working, and, no...</td>\n",
       "    </tr>\n",
       "    <tr>\n",
       "      <th>69812</th>\n",
       "      <td>wikitail</td>\n",
       "      <td>is there any customer service available    we...</td>\n",
       "      <td>[is, there, any, customer, service, available,...</td>\n",
       "      <td>[is, there, any, customer, service, available,...</td>\n",
       "    </tr>\n",
       "    <tr>\n",
       "      <th>69813</th>\n",
       "      <td>mrgl1tch</td>\n",
       "      <td>once again i have been lied too and told s...</td>\n",
       "      <td>[once, again, i, have, been, lied, too, and, t...</td>\n",
       "      <td>[once, again, i, have, been, lied, too, and, t...</td>\n",
       "    </tr>\n",
       "    <tr>\n",
       "      <th>69814</th>\n",
       "      <td>burteditch</td>\n",
       "      <td>oh and also that you werent allowed to ask me...</td>\n",
       "      <td>[oh, and, also, that, you, werent, allowed, to...</td>\n",
       "      <td>[oh, and, also, that, you, werent, allowed, to...</td>\n",
       "    </tr>\n",
       "    <tr>\n",
       "      <th>69815</th>\n",
       "      <td>nachoo5o</td>\n",
       "      <td>they dont have chat all the time they only w...</td>\n",
       "      <td>[they, dont, have, chat, all, the, time, they,...</td>\n",
       "      <td>[they, dont, have, chat, all, the, time, they,...</td>\n",
       "    </tr>\n",
       "  </tbody>\n",
       "</table>\n",
       "<p>69816 rows × 4 columns</p>\n",
       "</div>"
      ],
      "text/plain": [
       "              username                                              tweet  \\\n",
       "0            tomaszr16   hello im waiting since   days for support can...   \n",
       "1            andyb1900                                      how dare you    \n",
       "2           albedairy2   please help  my account wont verify and i can...   \n",
       "3            maniuhija   prentitye month is now where are the rainbow ...   \n",
       "4             darrenc1   is there an issue with the app few of us tryi...   \n",
       "...                ...                                                ...   \n",
       "69811  deaconu_claudiu   hello my account is not working and nobody is...   \n",
       "69812         wikitail   is there any customer service available    we...   \n",
       "69813         mrgl1tch      once again i have been lied too and told s...   \n",
       "69814       burteditch   oh and also that you werent allowed to ask me...   \n",
       "69815         nachoo5o    they dont have chat all the time they only w...   \n",
       "\n",
       "                                                  tokens  \\\n",
       "0      [hello, im, waiting, since, days, for, support...   \n",
       "1                                       [how, dare, you]   \n",
       "2      [please, help, my, account, wont, verify, and,...   \n",
       "3      [prentitye, month, is, now, where, are, the, r...   \n",
       "4      [is, there, an, issue, with, the, app, few, of...   \n",
       "...                                                  ...   \n",
       "69811  [hello, my, account, is, not, working, and, no...   \n",
       "69812  [is, there, any, customer, service, available,...   \n",
       "69813  [once, again, i, have, been, lied, too, and, t...   \n",
       "69814  [oh, and, also, that, you, werent, allowed, to...   \n",
       "69815  [they, dont, have, chat, all, the, time, they,...   \n",
       "\n",
       "                                               mwe_token  \n",
       "0      [hello, im, waiting, since, days, for, support...  \n",
       "1                                       [how, dare, you]  \n",
       "2      [please, help, my, account, wont, verify, and,...  \n",
       "3      [prentitye, month, is, now, where, are, the, r...  \n",
       "4      [is, there, an, issue, with, the, app, few, of...  \n",
       "...                                                  ...  \n",
       "69811  [hello, my, account, is, not, working, and, no...  \n",
       "69812  [is, there, any, customer, service, available,...  \n",
       "69813  [once, again, i, have, been, lied, too, and, t...  \n",
       "69814  [oh, and, also, that, you, werent, allowed, to...  \n",
       "69815  [they, dont, have, chat, all, the, time, they,...  \n",
       "\n",
       "[69816 rows x 4 columns]"
      ]
     },
     "execution_count": 187,
     "metadata": {},
     "output_type": "execute_result"
    }
   ],
   "source": [
    "df_analysis"
   ]
  },
  {
   "cell_type": "code",
   "execution_count": 192,
   "metadata": {},
   "outputs": [
    {
     "ename": "TypeError",
     "evalue": "expected string or bytes-like object",
     "output_type": "error",
     "traceback": [
      "\u001b[0;31m---------------------------------------------------------------------------\u001b[0m",
      "\u001b[0;31mTypeError\u001b[0m                                 Traceback (most recent call last)",
      "\u001b[0;32m<ipython-input-192-2aa1db6f95b1>\u001b[0m in \u001b[0;36m<module>\u001b[0;34m\u001b[0m\n\u001b[1;32m      1\u001b[0m \u001b[0mvectorizer\u001b[0m \u001b[0;34m=\u001b[0m \u001b[0mCountVectorizer\u001b[0m\u001b[0;34m(\u001b[0m\u001b[0mstop_words\u001b[0m \u001b[0;34m=\u001b[0m \u001b[0mstop\u001b[0m\u001b[0;34m,\u001b[0m\u001b[0mlowercase\u001b[0m\u001b[0;34m=\u001b[0m\u001b[0;32mFalse\u001b[0m\u001b[0;34m,\u001b[0m\u001b[0minput\u001b[0m\u001b[0;34m=\u001b[0m\u001b[0;34m'content'\u001b[0m\u001b[0;34m)\u001b[0m\u001b[0;34m\u001b[0m\u001b[0;34m\u001b[0m\u001b[0m\n\u001b[0;32m----> 2\u001b[0;31m \u001b[0mdoc_word\u001b[0m \u001b[0;34m=\u001b[0m \u001b[0mvectorizer\u001b[0m\u001b[0;34m.\u001b[0m\u001b[0mfit_transform\u001b[0m\u001b[0;34m(\u001b[0m\u001b[0mdf_analysis\u001b[0m\u001b[0;34m.\u001b[0m\u001b[0mmwe_token\u001b[0m\u001b[0;34m)\u001b[0m\u001b[0;34m\u001b[0m\u001b[0;34m\u001b[0m\u001b[0m\n\u001b[0m\u001b[1;32m      3\u001b[0m \u001b[0mdoc_word\u001b[0m\u001b[0;34m.\u001b[0m\u001b[0mshape\u001b[0m\u001b[0;34m\u001b[0m\u001b[0;34m\u001b[0m\u001b[0m\n",
      "\u001b[0;32m~/opt/anaconda3/lib/python3.8/site-packages/sklearn/feature_extraction/text.py\u001b[0m in \u001b[0;36mfit_transform\u001b[0;34m(self, raw_documents, y)\u001b[0m\n\u001b[1;32m   1196\u001b[0m         \u001b[0mmax_features\u001b[0m \u001b[0;34m=\u001b[0m \u001b[0mself\u001b[0m\u001b[0;34m.\u001b[0m\u001b[0mmax_features\u001b[0m\u001b[0;34m\u001b[0m\u001b[0;34m\u001b[0m\u001b[0m\n\u001b[1;32m   1197\u001b[0m \u001b[0;34m\u001b[0m\u001b[0m\n\u001b[0;32m-> 1198\u001b[0;31m         vocabulary, X = self._count_vocab(raw_documents,\n\u001b[0m\u001b[1;32m   1199\u001b[0m                                           self.fixed_vocabulary_)\n\u001b[1;32m   1200\u001b[0m \u001b[0;34m\u001b[0m\u001b[0m\n",
      "\u001b[0;32m~/opt/anaconda3/lib/python3.8/site-packages/sklearn/feature_extraction/text.py\u001b[0m in \u001b[0;36m_count_vocab\u001b[0;34m(self, raw_documents, fixed_vocab)\u001b[0m\n\u001b[1;32m   1108\u001b[0m         \u001b[0;32mfor\u001b[0m \u001b[0mdoc\u001b[0m \u001b[0;32min\u001b[0m \u001b[0mraw_documents\u001b[0m\u001b[0;34m:\u001b[0m\u001b[0;34m\u001b[0m\u001b[0;34m\u001b[0m\u001b[0m\n\u001b[1;32m   1109\u001b[0m             \u001b[0mfeature_counter\u001b[0m \u001b[0;34m=\u001b[0m \u001b[0;34m{\u001b[0m\u001b[0;34m}\u001b[0m\u001b[0;34m\u001b[0m\u001b[0;34m\u001b[0m\u001b[0m\n\u001b[0;32m-> 1110\u001b[0;31m             \u001b[0;32mfor\u001b[0m \u001b[0mfeature\u001b[0m \u001b[0;32min\u001b[0m \u001b[0manalyze\u001b[0m\u001b[0;34m(\u001b[0m\u001b[0mdoc\u001b[0m\u001b[0;34m)\u001b[0m\u001b[0;34m:\u001b[0m\u001b[0;34m\u001b[0m\u001b[0;34m\u001b[0m\u001b[0m\n\u001b[0m\u001b[1;32m   1111\u001b[0m                 \u001b[0;32mtry\u001b[0m\u001b[0;34m:\u001b[0m\u001b[0;34m\u001b[0m\u001b[0;34m\u001b[0m\u001b[0m\n\u001b[1;32m   1112\u001b[0m                     \u001b[0mfeature_idx\u001b[0m \u001b[0;34m=\u001b[0m \u001b[0mvocabulary\u001b[0m\u001b[0;34m[\u001b[0m\u001b[0mfeature\u001b[0m\u001b[0;34m]\u001b[0m\u001b[0;34m\u001b[0m\u001b[0;34m\u001b[0m\u001b[0m\n",
      "\u001b[0;32m~/opt/anaconda3/lib/python3.8/site-packages/sklearn/feature_extraction/text.py\u001b[0m in \u001b[0;36m_analyze\u001b[0;34m(doc, analyzer, tokenizer, ngrams, preprocessor, decoder, stop_words)\u001b[0m\n\u001b[1;32m    104\u001b[0m             \u001b[0mdoc\u001b[0m \u001b[0;34m=\u001b[0m \u001b[0mpreprocessor\u001b[0m\u001b[0;34m(\u001b[0m\u001b[0mdoc\u001b[0m\u001b[0;34m)\u001b[0m\u001b[0;34m\u001b[0m\u001b[0;34m\u001b[0m\u001b[0m\n\u001b[1;32m    105\u001b[0m         \u001b[0;32mif\u001b[0m \u001b[0mtokenizer\u001b[0m \u001b[0;32mis\u001b[0m \u001b[0;32mnot\u001b[0m \u001b[0;32mNone\u001b[0m\u001b[0;34m:\u001b[0m\u001b[0;34m\u001b[0m\u001b[0;34m\u001b[0m\u001b[0m\n\u001b[0;32m--> 106\u001b[0;31m             \u001b[0mdoc\u001b[0m \u001b[0;34m=\u001b[0m \u001b[0mtokenizer\u001b[0m\u001b[0;34m(\u001b[0m\u001b[0mdoc\u001b[0m\u001b[0;34m)\u001b[0m\u001b[0;34m\u001b[0m\u001b[0;34m\u001b[0m\u001b[0m\n\u001b[0m\u001b[1;32m    107\u001b[0m         \u001b[0;32mif\u001b[0m \u001b[0mngrams\u001b[0m \u001b[0;32mis\u001b[0m \u001b[0;32mnot\u001b[0m \u001b[0;32mNone\u001b[0m\u001b[0;34m:\u001b[0m\u001b[0;34m\u001b[0m\u001b[0;34m\u001b[0m\u001b[0m\n\u001b[1;32m    108\u001b[0m             \u001b[0;32mif\u001b[0m \u001b[0mstop_words\u001b[0m \u001b[0;32mis\u001b[0m \u001b[0;32mnot\u001b[0m \u001b[0;32mNone\u001b[0m\u001b[0;34m:\u001b[0m\u001b[0;34m\u001b[0m\u001b[0;34m\u001b[0m\u001b[0m\n",
      "\u001b[0;31mTypeError\u001b[0m: expected string or bytes-like object"
     ]
    }
   ],
   "source": [
    "vectorizer = CountVectorizer(stop_words = stop,lowercase=False)\n",
    "doc_word = vectorizer.fit_transform(df_analysis.mwe_token)\n",
    "doc_word.shape"
   ]
  },
  {
   "cell_type": "code",
   "execution_count": 171,
   "metadata": {},
   "outputs": [
    {
     "data": {
      "text/plain": [
       "(69816, 3)"
      ]
     },
     "execution_count": 171,
     "metadata": {},
     "output_type": "execute_result"
    }
   ],
   "source": [
    "nmf_model = NMF(3)\n",
    "doc_topic = nmf_model.fit_transform(doc_word)\n",
    "doc_topic.shape"
   ]
  },
  {
   "cell_type": "code",
   "execution_count": 172,
   "metadata": {},
   "outputs": [
    {
     "data": {
      "text/plain": [
       "(3, 25982)"
      ]
     },
     "execution_count": 172,
     "metadata": {},
     "output_type": "execute_result"
    }
   ],
   "source": [
    "topic_word = nmf_model.components_\n",
    "topic_word.shape"
   ]
  },
  {
   "cell_type": "code",
   "execution_count": 173,
   "metadata": {},
   "outputs": [
    {
     "data": {
      "text/plain": [
       "[['account', 'blocked', 'locked', 'help', 'money', 'access'],\n",
       " ['app', 'cant', 'help', 'chat', 'access', 'phone'],\n",
       " ['revolut', 'money', 'card', 'bank', 'back', 'use']]"
      ]
     },
     "execution_count": 173,
     "metadata": {},
     "output_type": "execute_result"
    }
   ],
   "source": [
    "words = vectorizer.get_feature_names()\n",
    "t = nmf_model.components_.argsort(axis=1)[:,-1:-7:-1]\n",
    "topic_words = [[words[e] for e in l] for l in t]\n",
    "topic_words"
   ]
  },
  {
   "cell_type": "markdown",
   "metadata": {},
   "source": [
    "- Component 1 (topic 1) seems to be about account queries\n",
    "- Component 2 (topic 2) seems to be about the app"
   ]
  },
  {
   "cell_type": "code",
   "execution_count": 109,
   "metadata": {},
   "outputs": [
    {
     "data": {
      "text/plain": [
       "array([[2.05675047e-02, 1.49616741e-01, 0.00000000e+00, 1.38512983e-02],\n",
       "       [0.00000000e+00, 1.63341998e-06, 3.11545913e-05, 2.49204712e-05],\n",
       "       [6.98011575e-02, 1.60536991e-01, 1.33782827e-02, 2.03226822e-03],\n",
       "       ...,\n",
       "       [1.41150707e-03, 8.04250739e-02, 0.00000000e+00, 2.77519412e-03],\n",
       "       [4.37085802e-03, 6.00244306e-03, 8.49458754e-03, 8.18883259e-03],\n",
       "       [2.23377548e-03, 9.93072444e-02, 4.46307083e-05, 7.71175894e-03]])"
      ]
     },
     "execution_count": 109,
     "metadata": {},
     "output_type": "execute_result"
    }
   ],
   "source": [
    "doc_topic"
   ]
  },
  {
   "cell_type": "code",
   "execution_count": 110,
   "metadata": {},
   "outputs": [
    {
     "data": {
      "text/plain": [
       "array([1, 2, 1, ..., 1, 2, 1])"
      ]
     },
     "execution_count": 110,
     "metadata": {},
     "output_type": "execute_result"
    }
   ],
   "source": [
    "doc_topic.argmax(axis=1)"
   ]
  },
  {
   "cell_type": "code",
   "execution_count": 111,
   "metadata": {},
   "outputs": [],
   "source": [
    "df_analysis['topic'] = doc_topic.argmax(axis=1)"
   ]
  },
  {
   "cell_type": "code",
   "execution_count": null,
   "metadata": {},
   "outputs": [],
   "source": []
  },
  {
   "cell_type": "code",
   "execution_count": null,
   "metadata": {},
   "outputs": [],
   "source": []
  },
  {
   "cell_type": "code",
   "execution_count": null,
   "metadata": {},
   "outputs": [],
   "source": []
  },
  {
   "cell_type": "code",
   "execution_count": null,
   "metadata": {},
   "outputs": [],
   "source": []
  },
  {
   "cell_type": "code",
   "execution_count": null,
   "metadata": {},
   "outputs": [],
   "source": []
  },
  {
   "cell_type": "code",
   "execution_count": null,
   "metadata": {},
   "outputs": [],
   "source": []
  }
 ],
 "metadata": {
  "kernelspec": {
   "display_name": "Python 3",
   "language": "python",
   "name": "python3"
  },
  "language_info": {
   "codemirror_mode": {
    "name": "ipython",
    "version": 3
   },
   "file_extension": ".py",
   "mimetype": "text/x-python",
   "name": "python",
   "nbconvert_exporter": "python",
   "pygments_lexer": "ipython3",
   "version": "3.8.5"
  }
 },
 "nbformat": 4,
 "nbformat_minor": 4
}
