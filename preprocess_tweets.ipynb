{
 "cells": [
  {
   "cell_type": "code",
   "execution_count": 686,
   "metadata": {},
   "outputs": [],
   "source": [
    "import pandas as pd\n",
    "from pandas import option_context\n",
    "\n",
    "import nltk\n",
    "from nltk.tokenize import word_tokenize\n",
    "from nltk.tokenize import RegexpTokenizer\n",
    "from nltk.corpus import stopwords\n",
    "\n",
    "import re\n",
    "import string"
   ]
  },
  {
   "cell_type": "markdown",
   "metadata": {},
   "source": [
    "## Main notebook for pre-processing tweets\n",
    "\n",
    "### Prepare dataframe"
   ]
  },
  {
   "cell_type": "code",
   "execution_count": 688,
   "metadata": {
    "scrolled": true
   },
   "outputs": [
    {
     "name": "stderr",
     "output_type": "stream",
     "text": [
      "/Users/tawneykirkland/opt/anaconda3/lib/python3.8/site-packages/IPython/core/interactiveshell.py:3146: DtypeWarning: Columns (9) have mixed types.Specify dtype option on import or set low_memory=False.\n",
      "  has_raised = await self.run_ast_nodes(code_ast.body, cell_name,\n"
     ]
    }
   ],
   "source": [
    "df = pd.read_csv('custom_out2.csv')\n",
    "df.dropna(axis=1,inplace=True)"
   ]
  },
  {
   "cell_type": "code",
   "execution_count": 689,
   "metadata": {},
   "outputs": [],
   "source": [
    "df['year'] = pd.DatetimeIndex(df['date']).year\n",
    "\n",
    "## Filter down to non-Revolut tweets (intention is to understand tweets from customers)\n",
    "df_eng = df[(df['username'] != 'revolutapp') & (df['language'] == 'en') & (df['year'] == 2020)]"
   ]
  },
  {
   "cell_type": "markdown",
   "metadata": {},
   "source": [
    "### Clean tweet column"
   ]
  },
  {
   "cell_type": "code",
   "execution_count": 690,
   "metadata": {},
   "outputs": [
    {
     "name": "stderr",
     "output_type": "stream",
     "text": [
      "<ipython-input-690-2c732505049e>:12: SettingWithCopyWarning: \n",
      "A value is trying to be set on a copy of a slice from a DataFrame.\n",
      "Try using .loc[row_indexer,col_indexer] = value instead\n",
      "\n",
      "See the caveats in the documentation: https://pandas.pydata.org/pandas-docs/stable/user_guide/indexing.html#returning-a-view-versus-a-copy\n",
      "  df_eng['tweet'] = df_eng.tweet.map(clean_text)\n"
     ]
    }
   ],
   "source": [
    "def clean_text(text):\n",
    "    '''Make text lowercase, remove punctuation, remove reference to @revolutapp,remove links and mentions'''\n",
    "    text = text.lower()\n",
    "    text = re.sub(r\"(?:\\@|https?\\://)\\S+\", \"\", text)\n",
    "    text = re.sub('[0-9\\n]',' ',text)\n",
    "    text = re.sub('\\[.*?\\]', '', text)\n",
    "    text = re.sub('[%s]' % re.escape(string.punctuation), '', text)\n",
    "    text = re.sub('revolutapp', '', text)\n",
    "    \n",
    "    return text\n",
    "\n",
    "df_eng['tweet'] = df_eng.tweet.map(clean_text)"
   ]
  },
  {
   "cell_type": "code",
   "execution_count": 691,
   "metadata": {
    "scrolled": true
   },
   "outputs": [],
   "source": [
    "for tweet in df_eng['tweet']:\n",
    "    tweet.strip()"
   ]
  },
  {
   "cell_type": "code",
   "execution_count": 692,
   "metadata": {
    "scrolled": true
   },
   "outputs": [
    {
     "name": "stderr",
     "output_type": "stream",
     "text": [
      "<ipython-input-692-77c184c069e8>:2: SettingWithCopyWarning: \n",
      "A value is trying to be set on a copy of a slice from a DataFrame.\n",
      "Try using .loc[row_indexer,col_indexer] = value instead\n",
      "\n",
      "See the caveats in the documentation: https://pandas.pydata.org/pandas-docs/stable/user_guide/indexing.html#returning-a-view-versus-a-copy\n",
      "  df_eng['tweet'] = df_eng['tweet'].apply(lambda x: x.encode('ascii', 'ignore').decode('ascii'))\n"
     ]
    }
   ],
   "source": [
    "## Remove emojis\n",
    "df_eng['tweet'] = df_eng['tweet'].apply(lambda x: x.encode('ascii', 'ignore').decode('ascii'))"
   ]
  },
  {
   "cell_type": "code",
   "execution_count": 693,
   "metadata": {},
   "outputs": [
    {
     "data": {
      "text/plain": [
       "(110317, 23)"
      ]
     },
     "execution_count": 693,
     "metadata": {},
     "output_type": "execute_result"
    }
   ],
   "source": [
    "df_eng.shape"
   ]
  },
  {
   "cell_type": "code",
   "execution_count": 701,
   "metadata": {
    "scrolled": true
   },
   "outputs": [
    {
     "data": {
      "text/html": [
       "<div>\n",
       "<style scoped>\n",
       "    .dataframe tbody tr th:only-of-type {\n",
       "        vertical-align: middle;\n",
       "    }\n",
       "\n",
       "    .dataframe tbody tr th {\n",
       "        vertical-align: top;\n",
       "    }\n",
       "\n",
       "    .dataframe thead th {\n",
       "        text-align: right;\n",
       "    }\n",
       "</style>\n",
       "<table border=\"1\" class=\"dataframe\">\n",
       "  <thead>\n",
       "    <tr style=\"text-align: right;\">\n",
       "      <th></th>\n",
       "      <th>id</th>\n",
       "      <th>conversation_id</th>\n",
       "      <th>created_at</th>\n",
       "      <th>date</th>\n",
       "      <th>time</th>\n",
       "      <th>timezone</th>\n",
       "      <th>user_id</th>\n",
       "      <th>username</th>\n",
       "      <th>tweet</th>\n",
       "      <th>language</th>\n",
       "      <th>...</th>\n",
       "      <th>replies_count</th>\n",
       "      <th>retweets_count</th>\n",
       "      <th>likes_count</th>\n",
       "      <th>hashtags</th>\n",
       "      <th>cashtags</th>\n",
       "      <th>link</th>\n",
       "      <th>retweet</th>\n",
       "      <th>video</th>\n",
       "      <th>reply_to</th>\n",
       "      <th>year</th>\n",
       "    </tr>\n",
       "  </thead>\n",
       "  <tbody>\n",
       "    <tr>\n",
       "      <th>44808</th>\n",
       "      <td>1285531198694084609</td>\n",
       "      <td>1285531198694084609</td>\n",
       "      <td>2020-07-21 07:04:56 EDT</td>\n",
       "      <td>2020-07-21</td>\n",
       "      <td>07:04:56</td>\n",
       "      <td>-500</td>\n",
       "      <td>766183015</td>\n",
       "      <td>curlynux</td>\n",
       "      <td>hello i am a metal user and i dont now how and where i can contact the priority support</td>\n",
       "      <td>en</td>\n",
       "      <td>...</td>\n",
       "      <td>1</td>\n",
       "      <td>0</td>\n",
       "      <td>0</td>\n",
       "      <td>[]</td>\n",
       "      <td>[]</td>\n",
       "      <td>https://twitter.com/curlynux/status/1285531198694084609</td>\n",
       "      <td>False</td>\n",
       "      <td>0</td>\n",
       "      <td>[]</td>\n",
       "      <td>2020</td>\n",
       "    </tr>\n",
       "  </tbody>\n",
       "</table>\n",
       "<p>1 rows × 23 columns</p>\n",
       "</div>"
      ],
      "text/plain": [
       "                        id      conversation_id               created_at  \\\n",
       "44808  1285531198694084609  1285531198694084609  2020-07-21 07:04:56 EDT   \n",
       "\n",
       "             date      time  timezone    user_id  username  \\\n",
       "44808  2020-07-21  07:04:56      -500  766183015  curlynux   \n",
       "\n",
       "                                                                                          tweet  \\\n",
       "44808   hello i am a metal user and i dont now how and where i can contact the priority support   \n",
       "\n",
       "      language  ... replies_count retweets_count likes_count  hashtags  \\\n",
       "44808       en  ...             1              0           0        []   \n",
       "\n",
       "       cashtags                                                     link  \\\n",
       "44808        []  https://twitter.com/curlynux/status/1285531198694084609   \n",
       "\n",
       "      retweet video reply_to  year  \n",
       "44808   False     0       []  2020  \n",
       "\n",
       "[1 rows x 23 columns]"
      ]
     },
     "metadata": {},
     "output_type": "display_data"
    }
   ],
   "source": [
    "with option_context('display.max_colwidth', 600):\n",
    "    display(df_eng.sample(1))"
   ]
  },
  {
   "cell_type": "code",
   "execution_count": 695,
   "metadata": {},
   "outputs": [],
   "source": [
    "df_eng = df_eng[df_eng['tweet'].map(lambda x: len((x)) > 21)]"
   ]
  },
  {
   "cell_type": "code",
   "execution_count": 696,
   "metadata": {},
   "outputs": [
    {
     "data": {
      "text/plain": [
       "(99296, 23)"
      ]
     },
     "execution_count": 696,
     "metadata": {},
     "output_type": "execute_result"
    }
   ],
   "source": [
    "df_eng.shape"
   ]
  },
  {
   "cell_type": "code",
   "execution_count": 697,
   "metadata": {
    "scrolled": true
   },
   "outputs": [],
   "source": [
    "# df_eng = df_eng[(df_eng['tweet']!=' sure') & \n",
    "#                     (df_eng['tweet']!=' sure ') & \n",
    "#                     (df_eng['tweet']!=' done') &\n",
    "#                     (df_eng['tweet']!=' done ') &\n",
    "#                     (df_eng['tweet']!=' help') & \n",
    "#                     (df_eng['tweet']!=' hello') &\n",
    "#                     (df_eng['tweet']!=' hello ') &\n",
    "#                     (df_eng['tweet']!='hello ') &\n",
    "#                     (df_eng['tweet']!='help ') & \n",
    "#                     (df_eng['tweet']!=' help ') & \n",
    "#                     (df_eng['tweet']!=' thanks') & \n",
    "#                     (df_eng['tweet']!=' thanks ') & \n",
    "#                     (df_eng['tweet']!='thanks ') & \n",
    "#                     (df_eng['tweet']!=' done please help') & \n",
    "#                     (df_eng['tweet']!=' just followed you as requested') & \n",
    "#                     (df_eng['tweet']!= ' thanks yes have done') &\n",
    "#                     (df_eng['tweet']!= 'love') & \n",
    "#                     (df_eng['tweet']!= ' thanks ive done it now') &\n",
    "#                     (df_eng['tweet']!= ' great thank you') &\n",
    "#                     (df_eng['tweet']!= ' fait') &\n",
    "#                     (df_eng['tweet']!= ' no can you answer me') &\n",
    "#                     (df_eng['tweet']!= ' its not working') &\n",
    "#                     (df_eng['tweet']!= ' will do thanks') &\n",
    "#                     (df_eng['tweet']!= ' will do thanks ') &\n",
    "#                     (df_eng['tweet']!= ' yes i am now following you') &\n",
    "#                     (df_eng['tweet']!= ' yes i have twice') &\n",
    "#                     (df_eng['tweet']!= ' ive replied thank you') &\n",
    "#                     (df_eng['tweet']!= ' ive followed you now') &\n",
    "#                     (df_eng['tweet']!= ' ive followed you now ') &\n",
    "#                     (df_eng['tweet']!= ' follow sent waiting for dm') &\n",
    "#                     (df_eng['tweet']!= ' followed') &\n",
    "#                     (df_eng['tweet']!= ' followed ') &\n",
    "#                     (df_eng['tweet']!= 'followed ') &\n",
    "#                     (df_eng['tweet']!= ' what is a follow ') &\n",
    "#                     (df_eng['tweet']!= ' what is a follow') &\n",
    "#                     (df_eng['tweet']!= ' i have no private message') &\n",
    "#                     (df_eng['tweet']!= ' im not sure what dms is') &\n",
    "#                     (df_eng['tweet']!= ' ive sent you a reply') &\n",
    "#                     (df_eng['tweet']!= ' can i send by dm') &\n",
    "#                     (df_eng['tweet']!= ' i need a cool username ') &\n",
    "#                     (df_eng['tweet']!= ' trading ') &\n",
    "#                     (df_eng['tweet']!= ' trading') &\n",
    "#                     (df_eng['tweet']!= ' yea ino it was') &\n",
    "#                     (df_eng['tweet']!= ' whats going on today guys') &\n",
    "#                     (df_eng['tweet']!= ' okay thats done') &\n",
    "#                     (df_eng['tweet']!= ' i have now followed you') &\n",
    "#                     (df_eng['tweet']!= '  probably gonna have a little cry tonight') &\n",
    "#                     (df_eng['tweet']!= '  okay') &\n",
    "#                     (df_eng['tweet']!= '  okay ') &\n",
    "#                     (df_eng['tweet']!= '  i have done') &\n",
    "#                     (df_eng['tweet']!= '  hey i have followed ') &\n",
    "#                     (df_eng['tweet']!= '  cheers') &\n",
    "#                     (df_eng['tweet']!= '  cheers ') &\n",
    "#                     (df_eng['tweet']!= '  ive followed you ') &\n",
    "#                     (df_eng['tweet']!= '  ive followed you') &\n",
    "#                     (df_eng['tweet']!= '  thanks a lot') &\n",
    "#                     (df_eng['tweet']!= '  thanks a lot ') &\n",
    "#                     (df_eng['tweet']!= '  fab thank you ') &\n",
    "#                     (df_eng['tweet']!= '  thanks will do') &\n",
    "#                     (df_eng['tweet']!= '  thanks will do ') &\n",
    "#                     (df_eng['tweet']!= '  please') &\n",
    "#                     (df_eng['tweet']!= '  done let me know thanks') &\n",
    "#                     (df_eng['tweet']!= '  thank you guys') &\n",
    "#                     (df_eng['tweet']!= '  thank you guys ') &\n",
    "#                     (df_eng['tweet']!= '  i am waiting') &\n",
    "#                     (df_eng['tweet']!= '  i am waiting ') &\n",
    "#                     (df_eng['tweet']!= '    tell me more') &\n",
    "#                     (df_eng['tweet']!= '     tell me more') &\n",
    "#                     (df_eng['tweet']!= '    yes i agree') &\n",
    "#                     (df_eng['tweet']!= ' can you help me') &\n",
    "#                     (df_eng['tweet']!= ' can you help me ') &\n",
    "#                     (df_eng['tweet']!= ' hello i need help') &\n",
    "#                     (df_eng['tweet']!= ' i have no one there') &\n",
    "#                     (df_eng['tweet']!= ' given you a follow') &\n",
    "#                     (df_eng['tweet']!= ' hi im following you now') &\n",
    "#                     (df_eng['tweet']!= ' then answer me') &\n",
    "#                     (df_eng['tweet']!= ' done thank you') &\n",
    "#                     (df_eng['tweet']!= ' done thank you ') &\n",
    "#                     (df_eng['tweet']!= ' just followed you now') &\n",
    "#                     (df_eng['tweet']!= 'love ') &\n",
    "#                     (df_eng['tweet']!= '   banter') &\n",
    "#                     (df_eng['username']!= 'davidgokhshtein')]\n",
    "\n",
    "df_eng.reset_index(drop=True,inplace=True)\n",
    "df_eng.dropna(subset=['tweet'], inplace=True)"
   ]
  },
  {
   "cell_type": "code",
   "execution_count": 698,
   "metadata": {},
   "outputs": [
    {
     "data": {
      "text/plain": [
       "(99296, 23)"
      ]
     },
     "execution_count": 698,
     "metadata": {},
     "output_type": "execute_result"
    }
   ],
   "source": [
    "df_eng.shape"
   ]
  },
  {
   "cell_type": "markdown",
   "metadata": {},
   "source": [
    "#### Correct misspelled words noticed in data review process"
   ]
  },
  {
   "cell_type": "code",
   "execution_count": 699,
   "metadata": {},
   "outputs": [],
   "source": [
    "remove_misspelled = (lambda x: \n",
    "                 x.replace('seriusly', 'seriously')\n",
    "                 .replace('incomewhich', 'income which')\n",
    "                 .replace('revolutuserswantscrypto', 'revolut users want crypto')\n",
    "                 .replace('chatwhere', 'chat where')\n",
    "                 .replace('loungesthat', 'lounges that')\n",
    "                 .replace('moreexcuses', 'more excuses')\n",
    "                 .replace('relovut', 'revolut')\n",
    "                 .replace('nopromisedphonecall', 'no promised phone call')\n",
    "                 .replace('complient', 'compliant')\n",
    "                 .replace('hapenned', 'happened')\n",
    "                 .replace('problembut', 'problem but')\n",
    "                 .replace('sitesstill', 'site still')\n",
    "                 .replace('moneylaundring', 'money laundering')\n",
    "                 .replace('changeslogin', 'changes login')\n",
    "                 .replace('transactioned', 'transaction')\n",
    "                 .replace('reasonsprovided', 'reasons provided')\n",
    "                 .replace('blockingaccount', 'blocking account')\n",
    "                 .replace('whrite', 'right')\n",
    "                 .replace('againshame', 'again shame')\n",
    "                 .replace('moneygood', 'money good')\n",
    "                 .replace('premim', 'premium')\n",
    "                 .replace('pinwont', 'pin wont')\n",
    "                 .replace('resetwont', 'reset wont')\n",
    "                 .replace('resetfrustrating', 'reset frustrating')\n",
    "                 .replace('moneywithout', 'money without')\n",
    "                 .replace('conserns', 'concerns')\n",
    "                 .replace('exchanses', 'exchanges')\n",
    "                 .replace('plattform', 'platform')\n",
    "                 .replace('informaton', 'information')\n",
    "                 .replace('generatingsaving', 'generating savings')\n",
    "                 .replace('breakthesilence', 'break the silence')\n",
    "                 .replace('monthsampnosupportampnorefund', 'months and no support and no refund')\n",
    "                 .replace('customerservicemissing', 'customer service missing')\n",
    "                 .replace('verifiacationcould', 'verification could')\n",
    "                 .replace('regulatinons', 'regulations')\n",
    "                 .replace('fraudulence', 'fraudulent')\n",
    "                 .replace('imsurqnce', 'insurance')\n",
    "                 .replace('accountmoney', 'account money')\n",
    "                 .replace('resolutioncustomer', 'resolution customer')\n",
    "                 .replace('teamim', 'team im')\n",
    "                 .replace('thant', 'than')\n",
    "                 .replace('reccomand', 'recommend')\n",
    "                 .replace('billsrent', 'bills rent')\n",
    "                 .replace('badcustomerservice', 'bad customer service')\n",
    "                 .replace('idverification', 'id verification')\n",
    "                 .replace('mkwny', 'money')\n",
    "                 .replace('amp', 'and')\n",
    "                 .replace('wault', 'vault')\n",
    "                 .replace('mths', 'months')\n",
    "                 .replace('ppls', 'peoples')\n",
    "                 .replace('reaponse', 'response')\n",
    "                 .replace('thx', 'thanks')\n",
    "                 .replace('supportannounce', 'support announce')\n",
    "                 .replace('hrs', 'hours')\n",
    "                 .replace('accounti', 'account i')\n",
    "                 .replace('infos ', 'information ')\n",
    "                 .replace('info ', 'information ')\n",
    "                 .replace('weeek', 'week')\n",
    "                 .replace('ltsighgt', '')\n",
    "                 .replace('useing', 'using')\n",
    "                 .replace('revoiut', 'revolut')\n",
    "                 .replace('tchat', 'chat')\n",
    "                 .replace('coldnt', 'couldnt')\n",
    "                 .replace('buyinvest', 'buy invest')\n",
    "                 .replace('criptos', 'crypto')\n",
    "                 .replace('robindhood', 'robinhood')\n",
    "                 .replace('resetcodes', 'reset codes')\n",
    "                 .replace('incorrecthelp', 'incorrect help')\n",
    "                 .replace('againwtf', 'again wtf')\n",
    "                 .replace('phishingsms', 'phishing sms')\n",
    "                 .replace('wrongplease', 'wrong please')\n",
    "                 .replace('compromisedhelp', 'compromised help')\n",
    "                 .replace('appfrozen', 'app frozen')\n",
    "                 .replace('rainbowrevolutcard', 'rainbow revolut card')\n",
    "                 .replace('refferral', 'referral')\n",
    "                 .replace('varification', 'verification')\n",
    "                 .replace('coronai', 'corona')\n",
    "                 .replace('accouts', 'accounts')\n",
    "                 .replace('pandemicshame', 'pandemic shame')\n",
    "                 .replace('autocloses', 'auto closes')\n",
    "                 .replace('impower', 'empower')\n",
    "                 .replace('impowermovement', 'empower movement')\n",
    "                 .replace('didentityentityentityentity', '')\n",
    "                 .replace('identityentityentityentity', ''))\n",
    "\n",
    "df_eng['tweet'] = df_eng.tweet.map(remove_misspelled)"
   ]
  },
  {
   "cell_type": "code",
   "execution_count": 700,
   "metadata": {},
   "outputs": [],
   "source": [
    "df_eng.to_csv('train.csv')"
   ]
  },
  {
   "cell_type": "code",
   "execution_count": 26,
   "metadata": {},
   "outputs": [],
   "source": [
    "tweets = [tweet for tweet in df_eng['tweet']]"
   ]
  },
  {
   "cell_type": "markdown",
   "metadata": {},
   "source": [
    "### Lemmatize, Tokenize and count words\n",
    "\n",
    "Note that this is separate to tokenization above - what is correct in terms of process?"
   ]
  },
  {
   "cell_type": "code",
   "execution_count": 93,
   "metadata": {},
   "outputs": [],
   "source": [
    "from nltk.util import ngrams\n",
    "\n",
    "from collections import Counter\n",
    "\n",
    "from nltk.corpus import stopwords\n",
    "\n",
    "from textblob import TextBlob"
   ]
  },
  {
   "cell_type": "code",
   "execution_count": 94,
   "metadata": {},
   "outputs": [],
   "source": [
    "stop = stopwords.words('english')\n",
    "stop.extend(['ive', 'im', 'itd', 'youre', 'hi', 'hello', 'hey', 'eg', 'l', 'h','w','v','u'])"
   ]
  },
  {
   "cell_type": "code",
   "execution_count": 118,
   "metadata": {},
   "outputs": [],
   "source": [
    "lemma = nltk.stem.WordNetLemmatizer()\n",
    "counter = Counter()\n",
    "\n",
    "for tweet in x_tr['tweet']:\n",
    "    tweet = lemma.lemmatize(tweet)\n",
    "    tweet = TextBlob(tweet).words  # tokenize words\n",
    "    tweet = [w for w in tweet if w not in stop]   \n",
    "    counter += Counter(tweet)"
   ]
  },
  {
   "cell_type": "code",
   "execution_count": 112,
   "metadata": {},
   "outputs": [
    {
     "data": {
      "text/plain": [
       "29419"
      ]
     },
     "execution_count": 112,
     "metadata": {},
     "output_type": "execute_result"
    }
   ],
   "source": [
    "len(counter)"
   ]
  },
  {
   "cell_type": "code",
   "execution_count": 114,
   "metadata": {},
   "outputs": [
    {
     "name": "stdout",
     "output_type": "stream",
     "text": [
      "             account 24826\n",
      "             revolut 14460\n",
      "                 app 13548\n",
      "               money 12510\n",
      "              please 10976\n",
      "                help 9927\n",
      "                 get 8651\n",
      "                cant 8088\n",
      "                chat 7543\n",
      "                card 6633\n",
      "                need 6629\n",
      "               still 6547\n",
      "              thanks 5322\n",
      "                dont 5281\n",
      "                 one 5037\n",
      "             support 4954\n",
      "              access 4930\n",
      "             blocked 4629\n",
      "                bank 4546\n",
      "                days 4320\n",
      "             waiting 4153\n",
      "                back 4002\n",
      "              locked 3904\n",
      "             service 3903\n",
      "                 use 3828\n",
      "            customer 3779\n",
      "                like 3770\n",
      "               since 3731\n",
      "                 new 3688\n",
      "             contact 3680\n",
      "               agent 3635\n",
      "                time 3257\n",
      "               would 3208\n",
      "               phone 3205\n",
      "             someone 3100\n",
      "                  dm 3085\n",
      "                 got 2940\n",
      "               issue 2897\n",
      "              months 2855\n",
      "              number 2844\n",
      "               thank 2824\n",
      "              trying 2727\n",
      "             problem 2712\n",
      "               could 2647\n",
      "                even 2640\n",
      "              answer 2592\n",
      "                want 2552\n",
      "                know 2528\n",
      "               reply 2482\n",
      "                live 2428\n",
      "               weeks 2423\n",
      "            response 2420\n",
      "             message 2399\n",
      "                send 2389\n",
      "               funds 2292\n",
      "               tried 2241\n",
      "                guys 2238\n",
      "                sent 2229\n",
      "              people 2217\n",
      "               hours 2203\n",
      "identityentityentityentity 2178\n",
      "               going 2157\n",
      "               email 2118\n",
      "              really 2109\n",
      "didentityentityentityentity 2089\n",
      "             without 2085\n",
      "                 way 2063\n",
      "                 pay 2061\n",
      "                also 2035\n",
      "                 see 2018\n",
      "            accounts 2008\n",
      "                  us 1965\n",
      "             getting 1937\n",
      "            transfer 1903\n",
      "             nothing 1900\n",
      "                done 1892\n",
      "             already 1883\n",
      "                week 1868\n",
      "                work 1866\n",
      "             working 1855\n",
      "               month 1854\n",
      "                take 1844\n",
      "                good 1840\n",
      "                team 1831\n",
      "           customers 1764\n",
      "              reason 1757\n",
      "                 via 1705\n",
      "                last 1695\n",
      "              crypto 1695\n",
      "              doesnt 1676\n",
      "                make 1668\n",
      "                 try 1634\n",
      "                able 1622\n",
      "                give 1590\n",
      "                long 1572\n",
      "               today 1555\n",
      "                keep 1527\n",
      "                 ago 1525\n",
      "             fintech 1501\n",
      "                 log 1488\n"
     ]
    }
   ],
   "source": [
    "for phrase, count in counter.most_common(100):\n",
    "    print('%20s %i' % (\"\".join(phrase), count))"
   ]
  },
  {
   "cell_type": "code",
   "execution_count": null,
   "metadata": {},
   "outputs": [],
   "source": []
  }
 ],
 "metadata": {
  "kernelspec": {
   "display_name": "Python 3",
   "language": "python",
   "name": "python3"
  },
  "language_info": {
   "codemirror_mode": {
    "name": "ipython",
    "version": 3
   },
   "file_extension": ".py",
   "mimetype": "text/x-python",
   "name": "python",
   "nbconvert_exporter": "python",
   "pygments_lexer": "ipython3",
   "version": "3.8.5"
  }
 },
 "nbformat": 4,
 "nbformat_minor": 4
}
