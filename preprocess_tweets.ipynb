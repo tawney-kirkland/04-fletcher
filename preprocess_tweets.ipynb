{
 "cells": [
  {
   "cell_type": "code",
   "execution_count": 1,
   "metadata": {},
   "outputs": [],
   "source": [
    "import pandas as pd\n",
    "from pandas import option_context\n",
    "\n",
    "import nltk\n",
    "from nltk.tokenize import word_tokenize\n",
    "from nltk.tokenize import RegexpTokenizer\n",
    "from nltk.corpus import stopwords\n",
    "\n",
    "import re\n",
    "import string"
   ]
  },
  {
   "cell_type": "markdown",
   "metadata": {},
   "source": [
    "## Main notebook for pre-processing tweets\n",
    "\n",
    "### Prepare dataframe"
   ]
  },
  {
   "cell_type": "code",
   "execution_count": 48,
   "metadata": {
    "scrolled": true
   },
   "outputs": [
    {
     "name": "stderr",
     "output_type": "stream",
     "text": [
      "/Users/tawneykirkland/opt/anaconda3/lib/python3.8/site-packages/IPython/core/interactiveshell.py:3146: DtypeWarning: Columns (9) have mixed types.Specify dtype option on import or set low_memory=False.\n",
      "  has_raised = await self.run_ast_nodes(code_ast.body, cell_name,\n"
     ]
    }
   ],
   "source": [
    "df = pd.read_csv('custom_out2.csv')\n",
    "df.dropna(axis=1,inplace=True)"
   ]
  },
  {
   "cell_type": "code",
   "execution_count": 49,
   "metadata": {},
   "outputs": [
    {
     "data": {
      "text/plain": [
       "(110317, 23)"
      ]
     },
     "execution_count": 49,
     "metadata": {},
     "output_type": "execute_result"
    }
   ],
   "source": [
    "df['year'] = pd.DatetimeIndex(df['date']).year\n",
    "\n",
    "## Filter down to non-Revolut tweets (intention is to understand tweets from customers)\n",
    "df_eng = df[(df['username'] != 'revolutapp') & (df['language'] == 'en') & (df['year'] == 2020)]\n",
    "df_eng.shape"
   ]
  },
  {
   "cell_type": "markdown",
   "metadata": {},
   "source": [
    "### Clean tweet column"
   ]
  },
  {
   "cell_type": "code",
   "execution_count": 50,
   "metadata": {},
   "outputs": [
    {
     "name": "stderr",
     "output_type": "stream",
     "text": [
      "<ipython-input-50-0f67e7548dfc>:14: SettingWithCopyWarning: \n",
      "A value is trying to be set on a copy of a slice from a DataFrame.\n",
      "Try using .loc[row_indexer,col_indexer] = value instead\n",
      "\n",
      "See the caveats in the documentation: https://pandas.pydata.org/pandas-docs/stable/user_guide/indexing.html#returning-a-view-versus-a-copy\n",
      "  df_eng['tweet'] = df_eng.tweet.map(clean_text)\n"
     ]
    }
   ],
   "source": [
    "def clean_text(text):\n",
    "    '''Make text lowercase, remove punctuation, remove reference to @revolutapp,remove links and mentions'''\n",
    "    text = text.lower()\n",
    "    text = re.sub(r\"(?:\\@|https?\\://)\\S+\", \"\", text)\n",
    "    text = re.sub('[0-9\\n]',' ',text)\n",
    "    text = re.sub('\\[.*?\\]', '', text)\n",
    "    text = re.sub('[%s]' % re.escape(string.punctuation), '', text)\n",
    "    text = re.sub('revolutapp', '', text)\n",
    "    text = text.strip()\n",
    "    text = re.sub(\"\\s\\s+\", \" \", text)\n",
    "    \n",
    "    return text\n",
    "\n",
    "df_eng['tweet'] = df_eng.tweet.map(clean_text)"
   ]
  },
  {
   "cell_type": "code",
   "execution_count": 51,
   "metadata": {
    "scrolled": true
   },
   "outputs": [
    {
     "name": "stderr",
     "output_type": "stream",
     "text": [
      "<ipython-input-51-77c184c069e8>:2: SettingWithCopyWarning: \n",
      "A value is trying to be set on a copy of a slice from a DataFrame.\n",
      "Try using .loc[row_indexer,col_indexer] = value instead\n",
      "\n",
      "See the caveats in the documentation: https://pandas.pydata.org/pandas-docs/stable/user_guide/indexing.html#returning-a-view-versus-a-copy\n",
      "  df_eng['tweet'] = df_eng['tweet'].apply(lambda x: x.encode('ascii', 'ignore').decode('ascii'))\n"
     ]
    }
   ],
   "source": [
    "## Remove emojis\n",
    "df_eng['tweet'] = df_eng['tweet'].apply(lambda x: x.encode('ascii', 'ignore').decode('ascii'))"
   ]
  },
  {
   "cell_type": "code",
   "execution_count": 52,
   "metadata": {},
   "outputs": [
    {
     "data": {
      "text/plain": [
       "(110317, 23)"
      ]
     },
     "execution_count": 52,
     "metadata": {},
     "output_type": "execute_result"
    }
   ],
   "source": [
    "df_eng.shape"
   ]
  },
  {
   "cell_type": "code",
   "execution_count": 53,
   "metadata": {
    "scrolled": true
   },
   "outputs": [
    {
     "data": {
      "text/html": [
       "<div>\n",
       "<style scoped>\n",
       "    .dataframe tbody tr th:only-of-type {\n",
       "        vertical-align: middle;\n",
       "    }\n",
       "\n",
       "    .dataframe tbody tr th {\n",
       "        vertical-align: top;\n",
       "    }\n",
       "\n",
       "    .dataframe thead th {\n",
       "        text-align: right;\n",
       "    }\n",
       "</style>\n",
       "<table border=\"1\" class=\"dataframe\">\n",
       "  <thead>\n",
       "    <tr style=\"text-align: right;\">\n",
       "      <th></th>\n",
       "      <th>id</th>\n",
       "      <th>conversation_id</th>\n",
       "      <th>created_at</th>\n",
       "      <th>date</th>\n",
       "      <th>time</th>\n",
       "      <th>timezone</th>\n",
       "      <th>user_id</th>\n",
       "      <th>username</th>\n",
       "      <th>tweet</th>\n",
       "      <th>language</th>\n",
       "      <th>...</th>\n",
       "      <th>replies_count</th>\n",
       "      <th>retweets_count</th>\n",
       "      <th>likes_count</th>\n",
       "      <th>hashtags</th>\n",
       "      <th>cashtags</th>\n",
       "      <th>link</th>\n",
       "      <th>retweet</th>\n",
       "      <th>video</th>\n",
       "      <th>reply_to</th>\n",
       "      <th>year</th>\n",
       "    </tr>\n",
       "  </thead>\n",
       "  <tbody>\n",
       "    <tr>\n",
       "      <th>42519</th>\n",
       "      <td>1334208828410392578</td>\n",
       "      <td>1334208092855279619</td>\n",
       "      <td>2020-12-02 13:52:27 EST</td>\n",
       "      <td>2020-12-02</td>\n",
       "      <td>13:52:27</td>\n",
       "      <td>-500</td>\n",
       "      <td>2320814985</td>\n",
       "      <td>bollobas</td>\n",
       "      <td>thats fucked up</td>\n",
       "      <td>en</td>\n",
       "      <td>...</td>\n",
       "      <td>0</td>\n",
       "      <td>0</td>\n",
       "      <td>1</td>\n",
       "      <td>[]</td>\n",
       "      <td>[]</td>\n",
       "      <td>https://twitter.com/bollobas/status/1334208828410392578</td>\n",
       "      <td>False</td>\n",
       "      <td>0</td>\n",
       "      <td>[{'screen_name': 'LukeBarnatt', 'name': 'Bigslow 🇬🇧🇪🇸', 'id': '63150988'}, {'screen_name': 'RevolutApp', 'name': 'Revolut', 'id': '2676313880'}]</td>\n",
       "      <td>2020</td>\n",
       "    </tr>\n",
       "    <tr>\n",
       "      <th>141991</th>\n",
       "      <td>1270778668164538374</td>\n",
       "      <td>1269910534805245952</td>\n",
       "      <td>2020-06-10 14:03:39 EDT</td>\n",
       "      <td>2020-06-10</td>\n",
       "      <td>14:03:39</td>\n",
       "      <td>-500</td>\n",
       "      <td>185987751</td>\n",
       "      <td>andrea_moro</td>\n",
       "      <td>well they said and thats why im saying your transaction passed not as a purchase hence the fees im not having problem when using for instance why dont you do the same</td>\n",
       "      <td>en</td>\n",
       "      <td>...</td>\n",
       "      <td>0</td>\n",
       "      <td>0</td>\n",
       "      <td>0</td>\n",
       "      <td>[]</td>\n",
       "      <td>[]</td>\n",
       "      <td>https://twitter.com/andrea_moro/status/1270778668164538374</td>\n",
       "      <td>False</td>\n",
       "      <td>0</td>\n",
       "      <td>[{'screen_name': 'Azimo', 'name': 'Azimo', 'id': '547911880'}]</td>\n",
       "      <td>2020</td>\n",
       "    </tr>\n",
       "    <tr>\n",
       "      <th>43297</th>\n",
       "      <td>1333822352279416835</td>\n",
       "      <td>1313092824120860673</td>\n",
       "      <td>2020-12-01 12:16:44 EST</td>\n",
       "      <td>2020-12-01</td>\n",
       "      <td>12:16:44</td>\n",
       "      <td>-500</td>\n",
       "      <td>2464734142</td>\n",
       "      <td>511ailotebe</td>\n",
       "      <td>can i benefit from the application while i live in the kingdom of saudi arabia</td>\n",
       "      <td>en</td>\n",
       "      <td>...</td>\n",
       "      <td>1</td>\n",
       "      <td>0</td>\n",
       "      <td>0</td>\n",
       "      <td>[]</td>\n",
       "      <td>[]</td>\n",
       "      <td>https://twitter.com/511ailotebe/status/1333822352279416835</td>\n",
       "      <td>False</td>\n",
       "      <td>0</td>\n",
       "      <td>[{'screen_name': 'RevolutApp', 'name': 'Revolut', 'id': '2676313880'}]</td>\n",
       "      <td>2020</td>\n",
       "    </tr>\n",
       "    <tr>\n",
       "      <th>77095</th>\n",
       "      <td>1310831791582973952</td>\n",
       "      <td>1310831791582973952</td>\n",
       "      <td>2020-09-29 02:40:27 EDT</td>\n",
       "      <td>2020-09-29</td>\n",
       "      <td>02:40:27</td>\n",
       "      <td>-500</td>\n",
       "      <td>1310830931851313152</td>\n",
       "      <td>grainneeeee</td>\n",
       "      <td>hi trying to verify my identity but its not working please help</td>\n",
       "      <td>en</td>\n",
       "      <td>...</td>\n",
       "      <td>1</td>\n",
       "      <td>0</td>\n",
       "      <td>0</td>\n",
       "      <td>[]</td>\n",
       "      <td>[]</td>\n",
       "      <td>https://twitter.com/Grainneeeee/status/1310831791582973952</td>\n",
       "      <td>False</td>\n",
       "      <td>0</td>\n",
       "      <td>[]</td>\n",
       "      <td>2020</td>\n",
       "    </tr>\n",
       "    <tr>\n",
       "      <th>93772</th>\n",
       "      <td>1299072416178671616</td>\n",
       "      <td>1295711839955881987</td>\n",
       "      <td>2020-08-27 15:52:54 EDT</td>\n",
       "      <td>2020-08-27</td>\n",
       "      <td>15:52:54</td>\n",
       "      <td>-500</td>\n",
       "      <td>839608456805953536</td>\n",
       "      <td>mmchayek</td>\n",
       "      <td>hi its been more than a week long still didnt resolve the problem</td>\n",
       "      <td>en</td>\n",
       "      <td>...</td>\n",
       "      <td>1</td>\n",
       "      <td>0</td>\n",
       "      <td>0</td>\n",
       "      <td>[]</td>\n",
       "      <td>[]</td>\n",
       "      <td>https://twitter.com/mmchayek/status/1299072416178671616</td>\n",
       "      <td>False</td>\n",
       "      <td>0</td>\n",
       "      <td>[{'screen_name': 'RevolutApp', 'name': 'Revolut', 'id': '2676313880'}]</td>\n",
       "      <td>2020</td>\n",
       "    </tr>\n",
       "  </tbody>\n",
       "</table>\n",
       "<p>5 rows × 23 columns</p>\n",
       "</div>"
      ],
      "text/plain": [
       "                         id      conversation_id               created_at  \\\n",
       "42519   1334208828410392578  1334208092855279619  2020-12-02 13:52:27 EST   \n",
       "141991  1270778668164538374  1269910534805245952  2020-06-10 14:03:39 EDT   \n",
       "43297   1333822352279416835  1313092824120860673  2020-12-01 12:16:44 EST   \n",
       "77095   1310831791582973952  1310831791582973952  2020-09-29 02:40:27 EDT   \n",
       "93772   1299072416178671616  1295711839955881987  2020-08-27 15:52:54 EDT   \n",
       "\n",
       "              date      time  timezone              user_id     username  \\\n",
       "42519   2020-12-02  13:52:27      -500           2320814985     bollobas   \n",
       "141991  2020-06-10  14:03:39      -500            185987751  andrea_moro   \n",
       "43297   2020-12-01  12:16:44      -500           2464734142  511ailotebe   \n",
       "77095   2020-09-29  02:40:27      -500  1310830931851313152  grainneeeee   \n",
       "93772   2020-08-27  15:52:54      -500   839608456805953536     mmchayek   \n",
       "\n",
       "                                                                                                                                                                         tweet  \\\n",
       "42519                                                                                                                                                          thats fucked up   \n",
       "141991  well they said and thats why im saying your transaction passed not as a purchase hence the fees im not having problem when using for instance why dont you do the same   \n",
       "43297                                                                                           can i benefit from the application while i live in the kingdom of saudi arabia   \n",
       "77095                                                                                                          hi trying to verify my identity but its not working please help   \n",
       "93772                                                                                                        hi its been more than a week long still didnt resolve the problem   \n",
       "\n",
       "       language  ... replies_count retweets_count likes_count  hashtags  \\\n",
       "42519        en  ...             0              0           1        []   \n",
       "141991       en  ...             0              0           0        []   \n",
       "43297        en  ...             1              0           0        []   \n",
       "77095        en  ...             1              0           0        []   \n",
       "93772        en  ...             1              0           0        []   \n",
       "\n",
       "        cashtags                                                        link  \\\n",
       "42519         []     https://twitter.com/bollobas/status/1334208828410392578   \n",
       "141991        []  https://twitter.com/andrea_moro/status/1270778668164538374   \n",
       "43297         []  https://twitter.com/511ailotebe/status/1333822352279416835   \n",
       "77095         []  https://twitter.com/Grainneeeee/status/1310831791582973952   \n",
       "93772         []     https://twitter.com/mmchayek/status/1299072416178671616   \n",
       "\n",
       "       retweet video  \\\n",
       "42519    False     0   \n",
       "141991   False     0   \n",
       "43297    False     0   \n",
       "77095    False     0   \n",
       "93772    False     0   \n",
       "\n",
       "                                                                                                                                                reply_to  \\\n",
       "42519   [{'screen_name': 'LukeBarnatt', 'name': 'Bigslow 🇬🇧🇪🇸', 'id': '63150988'}, {'screen_name': 'RevolutApp', 'name': 'Revolut', 'id': '2676313880'}]   \n",
       "141991                                                                                    [{'screen_name': 'Azimo', 'name': 'Azimo', 'id': '547911880'}]   \n",
       "43297                                                                             [{'screen_name': 'RevolutApp', 'name': 'Revolut', 'id': '2676313880'}]   \n",
       "77095                                                                                                                                                 []   \n",
       "93772                                                                             [{'screen_name': 'RevolutApp', 'name': 'Revolut', 'id': '2676313880'}]   \n",
       "\n",
       "        year  \n",
       "42519   2020  \n",
       "141991  2020  \n",
       "43297   2020  \n",
       "77095   2020  \n",
       "93772   2020  \n",
       "\n",
       "[5 rows x 23 columns]"
      ]
     },
     "metadata": {},
     "output_type": "display_data"
    }
   ],
   "source": [
    "with option_context('display.max_colwidth', 600):\n",
    "    display(df_eng.sample(5))"
   ]
  },
  {
   "cell_type": "code",
   "execution_count": 54,
   "metadata": {},
   "outputs": [],
   "source": [
    "df_eng = df_eng[df_eng['tweet'].map(lambda x: len((x)) > 22)]"
   ]
  },
  {
   "cell_type": "code",
   "execution_count": 55,
   "metadata": {},
   "outputs": [
    {
     "data": {
      "text/plain": [
       "(97065, 23)"
      ]
     },
     "execution_count": 55,
     "metadata": {},
     "output_type": "execute_result"
    }
   ],
   "source": [
    "df_eng.shape"
   ]
  },
  {
   "cell_type": "code",
   "execution_count": 56,
   "metadata": {
    "scrolled": true
   },
   "outputs": [],
   "source": [
    "df_eng = df_eng[(df_eng['username'] != 'bunq') &\n",
    "                (df_eng['username'] != 'financialombuds') &\n",
    "                (df_eng['username'] != 'barclaysukhelp') &\n",
    "                (df_eng['username'] != 'stxfn') &\n",
    "                (df_eng['username'] != 'intokpyouseeme') &\n",
    "                (df_eng['username'] != 'imaginecurve') &\n",
    "                (df_eng['username'] != 'monzo') &\n",
    "                (df_eng['username'] != 'davymc82') &\n",
    "                (df_eng['username'] != 'revolutbusiness') &\n",
    "                (df_eng['username'] != 'hola_mide')&\n",
    "                (df_eng['username'] != 'adegbenrotoni')&\n",
    "                (df_eng['username'] != 'pensionbee')&\n",
    "                (df_eng['username'] != 'markdampier')&\n",
    "                (df_eng['username'] != 'xrpthefuture')&\n",
    "                (df_eng['username'] != 'lloydssmart')&\n",
    "                (df_eng['username'] != 'cashquestions') &\n",
    "                (df_eng['username'] != 'uniquity_co')&\n",
    "                (df_eng['username'] != 'timipapi')&\n",
    "                (df_eng['username'] != 'thegarrick_')&\n",
    "                (df_eng['username'] != 'ukay_gold')&\n",
    "                (df_eng['username'] != 'tori_okoye') &\n",
    "                (df_eng['username'] != 'snoopapp')&\n",
    "                (df_eng['username'] != 'oluwaseeto_')&\n",
    "                (df_eng['username'] != 'pboom2020')&\n",
    "                (df_eng['username'] != 'timipapi')&\n",
    "                (df_eng['username'] != 'gbemss_')&\n",
    "                (df_eng['username'] != 'syncnd')&\n",
    "                (df_eng['username'] != 'chrismaurice')&\n",
    "                (df_eng['username'] != 'adetolaov')&\n",
    "                (df_eng['username'] != '_ballofyarn')&\n",
    "                (df_eng['username'] != 'emmanuel_agbai_')&\n",
    "                (df_eng['username'] != 'cobalt_dl')&\n",
    "                (df_eng['username'] != 'ad3bay0')&\n",
    "                (df_eng['username'] != 'dadaben_')&\n",
    "                (df_eng['username'] != 'stedas')&\n",
    "                (df_eng['username'] != 'thekitoye')&\n",
    "                (df_eng['username'] != 'allofsimeon')&\n",
    "                (df_eng['username'] != 'bola_ware')&\n",
    "                (df_eng['username'] != 'bola_ware')&\n",
    "                (df_eng['username'] != 'namzo')&\n",
    "                (df_eng['username'] != 'iamayomidotun')&\n",
    "                (df_eng['username'] != 'littlespender')&\n",
    "                (df_eng['username'] != 'consistentbenny')&\n",
    "                (df_eng['username'] != 'joe_of_the_90')&\n",
    "                (df_eng['username'] != 'eltitocharlie')&\n",
    "                (df_eng['username'] != 'marklisseman')&\n",
    "                (df_eng['username'] != 'samabrika')&\n",
    "                (df_eng['username'] != 'alex_lucas18')&\n",
    "                (df_eng['username'] != 'pandelisz')&\n",
    "                (df_eng['username'] != 'applepaydude')&\n",
    "                (df_eng['username'] != 'iamthewalrus28') &\n",
    "                (df_eng['username'] != 'imrelb') &\n",
    "                (df_eng['username'] != 'tomislavcapan') &\n",
    "                (df_eng['username'] != 'cryptdigital') &\n",
    "                (df_eng['username'] != 'alexfintec') &\n",
    "                (df_eng['username'] != 'saleslocker') &\n",
    "                (df_eng['username'] != 'lexsokolin') &\n",
    "                (df_eng['username'] != 'greg_bremner') &\n",
    "                (df_eng['username'] != 'revolutexposed2') &\n",
    "                (df_eng['username'] != 'millie1703') &\n",
    "                (df_eng['username'] != 'clinton131313') &\n",
    "                (df_eng['username'] != 'profpinar') &\n",
    "                (df_eng['username'] != 'mr_twelve_12') &\n",
    "                (df_eng['username'] != 'stvnmyls') &\n",
    "                (df_eng['username'] != 'moreyogaldn') &\n",
    "                (df_eng['username'] != 'lukemckibben') &\n",
    "                (df_eng['username'] != 'jonkelly31') &\n",
    "                (df_eng['username'] != 'kirsikkalar') &\n",
    "                (df_eng['username'] != 'mr_c_mr__c') &\n",
    "                (df_eng['username'] != 'xrpkahn') &\n",
    "                (df_eng['username'] != 'karldarby20karl') &\n",
    "                (df_eng['username'] != 'digital_chris') &\n",
    "                (df_eng['username'] != 'lionel46294550') &\n",
    "                (df_eng['username'] != 'techdirect79')] "
   ]
  },
  {
   "cell_type": "code",
   "execution_count": 57,
   "metadata": {},
   "outputs": [
    {
     "data": {
      "text/plain": [
       "(96506, 23)"
      ]
     },
     "execution_count": 57,
     "metadata": {},
     "output_type": "execute_result"
    }
   ],
   "source": [
    "df_eng.shape"
   ]
  },
  {
   "cell_type": "code",
   "execution_count": 59,
   "metadata": {},
   "outputs": [],
   "source": [
    "df_eng = df_eng[(df_eng['tweet'] != 'thank you ive responded') &\n",
    "                   (df_eng['tweet'] != 'iam still waiting for u') &\n",
    "                   (df_eng['tweet'] != 'thank u well appreciated') &\n",
    "                   (df_eng['tweet'] != 'nothing on dm im waiting') &\n",
    "                   (df_eng['tweet'] != 'just wanted to let you know') &\n",
    "                   (df_eng['tweet'] != 'yo they took it down booooo') &\n",
    "                   (df_eng['tweet'] != 'they havent responded at all') &\n",
    "                   (df_eng['tweet'] != 'ok thanks just replied to dm') &\n",
    "                   (df_eng['tweet'] != 'found more including and ') &\n",
    "                   (df_eng['tweet'] != 'what does that mean exactly') &\n",
    "                   (df_eng['tweet'] != 'im not seeing a message') &\n",
    "                   (df_eng['tweet'] != 'just wanted to let you know') &\n",
    "                   (df_eng['tweet'] != 'any sign of a update yet') &\n",
    "                   (df_eng['tweet'] != 'why cant you write to me dm') &\n",
    "                   (df_eng['tweet'] != 'following when will you contact me') &\n",
    "                   (df_eng['tweet'] != 'we all deserve our tiny bit') &\n",
    "                   (df_eng['tweet'] != 'just followed thank you') &\n",
    "                   (df_eng['tweet'] != 'well well welllook what arrived') &\n",
    "                   (df_eng['tweet'] != 'ill post anything though') &\n",
    "                   (df_eng['tweet'] != 'thanks a mil following now') &\n",
    "                   (df_eng['tweet'] != 'who needs to know already knows') &\n",
    "                   (df_eng['tweet'] != 'i hope to stay informed') &\n",
    "                   (df_eng['tweet'] != 'ok thanks for the prompt reply') &\n",
    "                   (df_eng['tweet'] != 'its been two days since') &\n",
    "                   (df_eng['tweet'] != 'i ahould add or potterrichard') &\n",
    "                   (df_eng['tweet'] != 'are you prepared for it') &\n",
    "                   (df_eng['tweet'] != 'thank you now following x') &\n",
    "                   (df_eng['tweet'] != 'i use a mbits cable internet connection') &\n",
    "                   (df_eng['tweet'] != 'take lessons from these people') &\n",
    "                   (df_eng['tweet'] != 'thanks thats good to know') &\n",
    "                   (df_eng['tweet'] != 'thanks i followed you just now') &\n",
    "                   (df_eng['tweet'] != 'thank you very much just replied') &\n",
    "                   (df_eng['tweet'] != 'online research motley fool is decent') &\n",
    "                   (df_eng['tweet'] != 'not that jd nio snap square pinterest down but strong last week stitch fix') &\n",
    "                   (df_eng['tweet'] != 'best way to contact them') &\n",
    "                   (df_eng['tweet'] != 'i have replied to the dm') &\n",
    "                   (df_eng['tweet'] != 'ok done can you dm me please') &\n",
    "                   (df_eng['tweet'] != 'i have just read the dm and replied') &\n",
    "                   (df_eng['tweet'] != 'no im done tbh pain in the arse it is') &\n",
    "                   (df_eng['tweet'] != 'great thanks will do now') &\n",
    "                   (df_eng['tweet'] != 'yes i am following now what is dms please') &\n",
    "                   (df_eng['tweet'] != 'whats up gone all shy suddenly') &\n",
    "                   (df_eng['tweet'] != 'no lets do it here in the open') &\n",
    "                   (df_eng['tweet'] != 'problem solved thank you') &\n",
    "                   (df_eng['tweet'] != 'thanks for clarifying that') &\n",
    "                   (df_eng['tweet'] != 'thanks just followed you now') &\n",
    "                   (df_eng['tweet'] != 'i just got one of those too') &\n",
    "                   (df_eng['tweet'] != 'followed but i cant dm you') &\n",
    "                   (df_eng['tweet'] != 'hello any update please') &\n",
    "                   (df_eng['tweet'] != 'just tried to use them and') &\n",
    "                   (df_eng['tweet'] != 'knows about this im sure') &\n",
    "                   (df_eng['tweet'] != 'worked a treat many thanks') &\n",
    "                   (df_eng['tweet'] != 'ready im already following you') &\n",
    "                   (df_eng['tweet'] != 'ok thank you i will do that') &\n",
    "                   (df_eng['tweet'] != 'can someone dm me please') &\n",
    "                   (df_eng['tweet'] != 'just to het onboard now') &\n",
    "                   (df_eng['tweet'] != 'you can delete that tweet now') &\n",
    "                   (df_eng['tweet'] != 'time for to respond now') &\n",
    "                   (df_eng['tweet'] != 'yes hear that whats stopping you') &\n",
    "                   (df_eng['tweet'] != 'would like to know this too') &\n",
    "                   (df_eng['tweet'] != 'great thanks for the reply') &\n",
    "                   (df_eng['tweet'] != 'same aha account blocked') &\n",
    "                   (df_eng['tweet'] != 'same for me bro go to if you can') &\n",
    "                   (df_eng['tweet'] != 'pleaseresponddd')]"
   ]
  },
  {
   "cell_type": "code",
   "execution_count": 60,
   "metadata": {},
   "outputs": [
    {
     "data": {
      "text/plain": [
       "(96446, 23)"
      ]
     },
     "execution_count": 60,
     "metadata": {},
     "output_type": "execute_result"
    }
   ],
   "source": [
    "df_eng.shape"
   ]
  },
  {
   "cell_type": "markdown",
   "metadata": {},
   "source": [
    "#### Correct misspelled words noticed in data review process"
   ]
  },
  {
   "cell_type": "code",
   "execution_count": 61,
   "metadata": {},
   "outputs": [],
   "source": [
    "remove_misspelled = (lambda x: \n",
    "                 x.replace('seriusly', 'seriously')\n",
    "                 .replace('incomewhich', 'income which')\n",
    "                 .replace('revolutuserswantscrypto', 'revolut users want crypto')\n",
    "                 .replace('chatwhere', 'chat where')\n",
    "                 .replace('loungesthat', 'lounges that')\n",
    "                 .replace('relovut', 'revolut')\n",
    "                 .replace('sitesstill', 'site still')\n",
    "                 .replace('moneylaundring', 'money laundering')\n",
    "                 .replace('changeslogin', 'changes login')\n",
    "                 .replace('transactioned', 'transaction')\n",
    "                 .replace('moneygood', 'money good')\n",
    "                 .replace('premim', 'premium')\n",
    "                 .replace('resetfrustrating', 'reset frustrating')\n",
    "                 .replace('moneywithout', 'money without')\n",
    "                 .replace('exchanses', 'exchanges')\n",
    "                 .replace('plattform', 'platform')\n",
    "                 .replace('informaton', 'information')\n",
    "                 .replace('generatingsaving', 'generating savings')\n",
    "                 .replace('customerservicemissing', 'customer service missing')\n",
    "                 .replace('verifiacationcould', 'verification could')\n",
    "                 .replace('regulatinons', 'regulations')\n",
    "                 .replace('fraudulence', 'fraudulent')\n",
    "                 .replace('imsurqnce', 'insurance')\n",
    "                 .replace('accountmoney', 'account money')\n",
    "                 .replace('reccomand', 'recommend')\n",
    "                 .replace('billsrent', 'bills rent')\n",
    "                 .replace('badcustomerservice', 'bad customer service')\n",
    "                 .replace('idverification', 'id verification')\n",
    "                 .replace('wault', 'vault')\n",
    "                 .replace('infos ', 'information ')\n",
    "                 .replace('info ', 'information ')\n",
    "                 .replace('revoiut', 'revolut')\n",
    "                 .replace('buyinvest', 'buy invest')\n",
    "                 .replace('criptos', 'crypto')\n",
    "                 .replace('robindhood', 'robinhood')\n",
    "                 .replace('appfrozen', 'app frozen')\n",
    "                 .replace('rainbowrevolutcard', 'rainbow revolut card')\n",
    "                 .replace('refferral', 'referral')\n",
    "                 .replace('varification', 'verification')\n",
    "                 .replace('accouts', 'accounts')\n",
    "                 .replace('autocloses', 'auto closes'))\n",
    "\n",
    "df_eng['tweet'] = df_eng.tweet.map(remove_misspelled)"
   ]
  },
  {
   "cell_type": "code",
   "execution_count": 62,
   "metadata": {},
   "outputs": [],
   "source": [
    "def remove_space(text):\n",
    "    text = text.strip()\n",
    "    return text\n",
    "    \n",
    "df_eng['tweet'] = df_eng.tweet.map(remove_space)"
   ]
  },
  {
   "cell_type": "code",
   "execution_count": 63,
   "metadata": {},
   "outputs": [],
   "source": [
    "df_eng.to_csv('train.csv')"
   ]
  },
  {
   "cell_type": "code",
   "execution_count": 24,
   "metadata": {},
   "outputs": [],
   "source": [
    "tweets = [tweet for tweet in df_eng['tweet']]"
   ]
  },
  {
   "cell_type": "markdown",
   "metadata": {},
   "source": [
    "### Lemmatize, Tokenize and count words\n",
    "\n",
    "Note that this is separate to tokenization above - what is correct in terms of process?"
   ]
  },
  {
   "cell_type": "code",
   "execution_count": 25,
   "metadata": {},
   "outputs": [],
   "source": [
    "from nltk.util import ngrams\n",
    "\n",
    "from collections import Counter\n",
    "\n",
    "from nltk.corpus import stopwords\n",
    "\n",
    "from textblob import TextBlob"
   ]
  },
  {
   "cell_type": "code",
   "execution_count": 26,
   "metadata": {},
   "outputs": [],
   "source": [
    "stop = stopwords.words('english')\n",
    "stop.extend(['ive', 'im', 'itd', 'youre', 'hi', 'hello', 'hey', 'eg', 'l', 'h','w','v','u'])"
   ]
  },
  {
   "cell_type": "code",
   "execution_count": 28,
   "metadata": {},
   "outputs": [],
   "source": [
    "lemma = nltk.stem.WordNetLemmatizer()\n",
    "counter = Counter()\n",
    "\n",
    "for tweet in df_eng['tweet']:\n",
    "    tweet = lemma.lemmatize(tweet)\n",
    "    tweet = TextBlob(tweet).words  # tokenize words\n",
    "    tweet = [w for w in tweet if w not in stop]   \n",
    "    counter += Counter(tweet)\n",
    "    \n",
    "len(counter)"
   ]
  },
  {
   "cell_type": "code",
   "execution_count": 31,
   "metadata": {},
   "outputs": [
    {
     "name": "stdout",
     "output_type": "stream",
     "text": [
      "             account 30834\n",
      "             revolut 17982\n",
      "                 app 16720\n",
      "               money 15512\n",
      "              please 13324\n",
      "                help 12066\n",
      "                 get 10704\n",
      "                cant 10033\n",
      "                chat 9365\n",
      "                card 8423\n"
     ]
    }
   ],
   "source": [
    "for phrase, count in counter.most_common(10):\n",
    "    print('%20s %i' % (\"\".join(phrase), count))"
   ]
  },
  {
   "cell_type": "code",
   "execution_count": null,
   "metadata": {},
   "outputs": [],
   "source": []
  }
 ],
 "metadata": {
  "kernelspec": {
   "display_name": "Python 3",
   "language": "python",
   "name": "python3"
  },
  "language_info": {
   "codemirror_mode": {
    "name": "ipython",
    "version": 3
   },
   "file_extension": ".py",
   "mimetype": "text/x-python",
   "name": "python",
   "nbconvert_exporter": "python",
   "pygments_lexer": "ipython3",
   "version": "3.8.5"
  }
 },
 "nbformat": 4,
 "nbformat_minor": 4
}
