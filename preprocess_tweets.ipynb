{
 "cells": [
  {
   "cell_type": "code",
   "execution_count": 46,
   "metadata": {},
   "outputs": [],
   "source": [
    "import pandas as pd\n",
    "from pandas import option_context\n",
    "\n",
    "import nltk\n",
    "from nltk.tokenize import word_tokenize\n",
    "from nltk.tokenize import RegexpTokenizer\n",
    "from nltk.corpus import stopwords\n",
    "\n",
    "import re\n",
    "import string"
   ]
  },
  {
   "cell_type": "markdown",
   "metadata": {},
   "source": [
    "__IMPORTANT:__ Once you have sorted out the pipeline, remember to do train-test-split to remove your test set"
   ]
  },
  {
   "cell_type": "markdown",
   "metadata": {},
   "source": [
    "## Main notebook for pre-processing tweets\n",
    "\n",
    "#### Prepare dataframe"
   ]
  },
  {
   "cell_type": "code",
   "execution_count": 47,
   "metadata": {
    "scrolled": true
   },
   "outputs": [
    {
     "name": "stderr",
     "output_type": "stream",
     "text": [
      "/Users/tawneykirkland/opt/anaconda3/lib/python3.8/site-packages/IPython/core/interactiveshell.py:3146: DtypeWarning: Columns (9) have mixed types.Specify dtype option on import or set low_memory=False.\n",
      "  has_raised = await self.run_ast_nodes(code_ast.body, cell_name,\n"
     ]
    }
   ],
   "source": [
    "df = pd.read_csv('custom_out2.csv')\n",
    "df.dropna(axis=1,inplace=True)"
   ]
  },
  {
   "cell_type": "code",
   "execution_count": 48,
   "metadata": {},
   "outputs": [],
   "source": [
    "## Filter down to non-Revolut tweets (intention is to understand tweets from customers)\n",
    "df_eng = df[(df['username'] != 'revolutapp') & (df['language'] == 'en')]"
   ]
  },
  {
   "cell_type": "markdown",
   "metadata": {},
   "source": [
    "#### Clean tweet column"
   ]
  },
  {
   "cell_type": "code",
   "execution_count": 49,
   "metadata": {},
   "outputs": [
    {
     "name": "stderr",
     "output_type": "stream",
     "text": [
      "<ipython-input-49-53ab4f15f761>:9: SettingWithCopyWarning: \n",
      "A value is trying to be set on a copy of a slice from a DataFrame.\n",
      "Try using .loc[row_indexer,col_indexer] = value instead\n",
      "\n",
      "See the caveats in the documentation: https://pandas.pydata.org/pandas-docs/stable/user_guide/indexing.html#returning-a-view-versus-a-copy\n",
      "  df_eng['tweet'] = df_eng.tweet.map(clean_text)\n"
     ]
    }
   ],
   "source": [
    "def clean_text(text):\n",
    "    '''Make text lowercase, remove punctuation and remove reference to revolutapp'''\n",
    "    text = text.lower()\n",
    "    text = re.sub('\\[.*?\\]', '', text)\n",
    "    text = re.sub('[%s]' % re.escape(string.punctuation), '', text)\n",
    "    text = re.sub('revolutapp', '', text)\n",
    "    return text\n",
    "\n",
    "df_eng['tweet'] = df_eng.tweet.map(clean_text)"
   ]
  },
  {
   "cell_type": "code",
   "execution_count": 50,
   "metadata": {},
   "outputs": [
    {
     "name": "stderr",
     "output_type": "stream",
     "text": [
      "<ipython-input-50-77c184c069e8>:2: SettingWithCopyWarning: \n",
      "A value is trying to be set on a copy of a slice from a DataFrame.\n",
      "Try using .loc[row_indexer,col_indexer] = value instead\n",
      "\n",
      "See the caveats in the documentation: https://pandas.pydata.org/pandas-docs/stable/user_guide/indexing.html#returning-a-view-versus-a-copy\n",
      "  df_eng['tweet'] = df_eng['tweet'].apply(lambda x: x.encode('ascii', 'ignore').decode('ascii'))\n"
     ]
    }
   ],
   "source": [
    "## Remove emojis\n",
    "df_eng['tweet'] = df_eng['tweet'].apply(lambda x: x.encode('ascii', 'ignore').decode('ascii'))"
   ]
  },
  {
   "cell_type": "code",
   "execution_count": 51,
   "metadata": {},
   "outputs": [
    {
     "data": {
      "text/html": [
       "<div>\n",
       "<style scoped>\n",
       "    .dataframe tbody tr th:only-of-type {\n",
       "        vertical-align: middle;\n",
       "    }\n",
       "\n",
       "    .dataframe tbody tr th {\n",
       "        vertical-align: top;\n",
       "    }\n",
       "\n",
       "    .dataframe thead th {\n",
       "        text-align: right;\n",
       "    }\n",
       "</style>\n",
       "<table border=\"1\" class=\"dataframe\">\n",
       "  <thead>\n",
       "    <tr style=\"text-align: right;\">\n",
       "      <th></th>\n",
       "      <th>id</th>\n",
       "      <th>conversation_id</th>\n",
       "      <th>created_at</th>\n",
       "      <th>date</th>\n",
       "      <th>time</th>\n",
       "      <th>timezone</th>\n",
       "      <th>user_id</th>\n",
       "      <th>username</th>\n",
       "      <th>tweet</th>\n",
       "      <th>language</th>\n",
       "      <th>...</th>\n",
       "      <th>photos</th>\n",
       "      <th>replies_count</th>\n",
       "      <th>retweets_count</th>\n",
       "      <th>likes_count</th>\n",
       "      <th>hashtags</th>\n",
       "      <th>cashtags</th>\n",
       "      <th>link</th>\n",
       "      <th>retweet</th>\n",
       "      <th>video</th>\n",
       "      <th>reply_to</th>\n",
       "    </tr>\n",
       "  </thead>\n",
       "  <tbody>\n",
       "    <tr>\n",
       "      <th>173060</th>\n",
       "      <td>1251824240506085378</td>\n",
       "      <td>1251824240506085378</td>\n",
       "      <td>2020-04-19 06:45:31 EDT</td>\n",
       "      <td>2020-04-19</td>\n",
       "      <td>06:45:31</td>\n",
       "      <td>-500</td>\n",
       "      <td>388972545</td>\n",
       "      <td>vitobuttafarro</td>\n",
       "      <td>any idea of when u are gonna fix your systemive been trying to top up my card since the 9th of apriltalked to 3 agentsit still doesnt work kind regards</td>\n",
       "      <td>en</td>\n",
       "      <td>...</td>\n",
       "      <td>[]</td>\n",
       "      <td>1</td>\n",
       "      <td>0</td>\n",
       "      <td>0</td>\n",
       "      <td>[]</td>\n",
       "      <td>[]</td>\n",
       "      <td>https://twitter.com/vitobuttafarro/status/1251824240506085378</td>\n",
       "      <td>False</td>\n",
       "      <td>0</td>\n",
       "      <td>[]</td>\n",
       "    </tr>\n",
       "    <tr>\n",
       "      <th>94057</th>\n",
       "      <td>1298956015132643329</td>\n",
       "      <td>1298942465030922240</td>\n",
       "      <td>2020-08-27 08:10:22 EDT</td>\n",
       "      <td>2020-08-27</td>\n",
       "      <td>08:10:22</td>\n",
       "      <td>-500</td>\n",
       "      <td>564105670</td>\n",
       "      <td>mirinquads</td>\n",
       "      <td>i tried for a full 24 hours sadly no response is there something else to do</td>\n",
       "      <td>en</td>\n",
       "      <td>...</td>\n",
       "      <td>[]</td>\n",
       "      <td>0</td>\n",
       "      <td>0</td>\n",
       "      <td>0</td>\n",
       "      <td>[]</td>\n",
       "      <td>[]</td>\n",
       "      <td>https://twitter.com/mirinquads/status/1298956015132643329</td>\n",
       "      <td>False</td>\n",
       "      <td>0</td>\n",
       "      <td>[{'screen_name': 'RevolutApp', 'name': 'Revolut', 'id': '2676313880'}]</td>\n",
       "    </tr>\n",
       "  </tbody>\n",
       "</table>\n",
       "<p>2 rows × 22 columns</p>\n",
       "</div>"
      ],
      "text/plain": [
       "                         id      conversation_id               created_at  \\\n",
       "173060  1251824240506085378  1251824240506085378  2020-04-19 06:45:31 EDT   \n",
       "94057   1298956015132643329  1298942465030922240  2020-08-27 08:10:22 EDT   \n",
       "\n",
       "              date      time  timezone    user_id        username  \\\n",
       "173060  2020-04-19  06:45:31      -500  388972545  vitobuttafarro   \n",
       "94057   2020-08-27  08:10:22      -500  564105670      mirinquads   \n",
       "\n",
       "                                                                                                                                                           tweet  \\\n",
       "173060   any idea of when u are gonna fix your systemive been trying to top up my card since the 9th of apriltalked to 3 agentsit still doesnt work kind regards   \n",
       "94057                                                                                i tried for a full 24 hours sadly no response is there something else to do   \n",
       "\n",
       "       language  ... photos replies_count retweets_count  likes_count  \\\n",
       "173060       en  ...     []             1              0            0   \n",
       "94057        en  ...     []             0              0            0   \n",
       "\n",
       "        hashtags  cashtags  \\\n",
       "173060        []        []   \n",
       "94057         []        []   \n",
       "\n",
       "                                                                 link retweet  \\\n",
       "173060  https://twitter.com/vitobuttafarro/status/1251824240506085378   False   \n",
       "94057       https://twitter.com/mirinquads/status/1298956015132643329   False   \n",
       "\n",
       "       video  \\\n",
       "173060     0   \n",
       "94057      0   \n",
       "\n",
       "                                                                      reply_to  \n",
       "173060                                                                      []  \n",
       "94057   [{'screen_name': 'RevolutApp', 'name': 'Revolut', 'id': '2676313880'}]  \n",
       "\n",
       "[2 rows x 22 columns]"
      ]
     },
     "metadata": {},
     "output_type": "display_data"
    }
   ],
   "source": [
    "with option_context('display.max_colwidth', 600):\n",
    "    display(df_eng.sample(2))"
   ]
  },
  {
   "cell_type": "code",
   "execution_count": 52,
   "metadata": {},
   "outputs": [],
   "source": [
    "## Remove known observations that will not add value\n",
    "df_eng = df_eng[(df_eng['tweet'] != ' followed') & (df_eng['tweet'] != 'followed ')]"
   ]
  },
  {
   "cell_type": "markdown",
   "metadata": {},
   "source": [
    "#### Word tokenization"
   ]
  },
  {
   "cell_type": "code",
   "execution_count": 53,
   "metadata": {},
   "outputs": [],
   "source": [
    "df_eng['tokens'] = df_eng.tweet.apply(nltk.word_tokenize)"
   ]
  },
  {
   "cell_type": "code",
   "execution_count": 54,
   "metadata": {
    "scrolled": true
   },
   "outputs": [
    {
     "data": {
      "text/html": [
       "<div>\n",
       "<style scoped>\n",
       "    .dataframe tbody tr th:only-of-type {\n",
       "        vertical-align: middle;\n",
       "    }\n",
       "\n",
       "    .dataframe tbody tr th {\n",
       "        vertical-align: top;\n",
       "    }\n",
       "\n",
       "    .dataframe thead th {\n",
       "        text-align: right;\n",
       "    }\n",
       "</style>\n",
       "<table border=\"1\" class=\"dataframe\">\n",
       "  <thead>\n",
       "    <tr style=\"text-align: right;\">\n",
       "      <th></th>\n",
       "      <th>id</th>\n",
       "      <th>conversation_id</th>\n",
       "      <th>created_at</th>\n",
       "      <th>date</th>\n",
       "      <th>time</th>\n",
       "      <th>timezone</th>\n",
       "      <th>user_id</th>\n",
       "      <th>username</th>\n",
       "      <th>tweet</th>\n",
       "      <th>language</th>\n",
       "      <th>...</th>\n",
       "      <th>replies_count</th>\n",
       "      <th>retweets_count</th>\n",
       "      <th>likes_count</th>\n",
       "      <th>hashtags</th>\n",
       "      <th>cashtags</th>\n",
       "      <th>link</th>\n",
       "      <th>retweet</th>\n",
       "      <th>video</th>\n",
       "      <th>reply_to</th>\n",
       "      <th>tokens</th>\n",
       "    </tr>\n",
       "  </thead>\n",
       "  <tbody>\n",
       "    <tr>\n",
       "      <th>148216</th>\n",
       "      <td>1268166900225359880</td>\n",
       "      <td>1268159922014912512</td>\n",
       "      <td>2020-06-03 09:05:25 EDT</td>\n",
       "      <td>2020-06-03</td>\n",
       "      <td>09:05:25</td>\n",
       "      <td>-500</td>\n",
       "      <td>2768107323</td>\n",
       "      <td>harold_moreels</td>\n",
       "      <td>i dont have any response on the app</td>\n",
       "      <td>en</td>\n",
       "      <td>...</td>\n",
       "      <td>0</td>\n",
       "      <td>0</td>\n",
       "      <td>0</td>\n",
       "      <td>[]</td>\n",
       "      <td>[]</td>\n",
       "      <td>https://twitter.com/harold_moreels/status/1268166900225359880</td>\n",
       "      <td>False</td>\n",
       "      <td>0</td>\n",
       "      <td>[{'screen_name': 'RevolutApp', 'name': 'Revolut', 'id': '2676313880'}]</td>\n",
       "      <td>[i, dont, have, any, response, on, the, app]</td>\n",
       "    </tr>\n",
       "    <tr>\n",
       "      <th>131791</th>\n",
       "      <td>1276169089740931073</td>\n",
       "      <td>1276168637997551617</td>\n",
       "      <td>2020-06-25 11:03:15 EDT</td>\n",
       "      <td>2020-06-25</td>\n",
       "      <td>11:03:15</td>\n",
       "      <td>-500</td>\n",
       "      <td>978519553293672448</td>\n",
       "      <td>adijovschi</td>\n",
       "      <td>americanexpress what about cyprus</td>\n",
       "      <td>en</td>\n",
       "      <td>...</td>\n",
       "      <td>0</td>\n",
       "      <td>0</td>\n",
       "      <td>0</td>\n",
       "      <td>[]</td>\n",
       "      <td>[]</td>\n",
       "      <td>https://twitter.com/adijovschi/status/1276169089740931073</td>\n",
       "      <td>False</td>\n",
       "      <td>0</td>\n",
       "      <td>[{'screen_name': 'RevolutApp', 'name': 'Revolut', 'id': '2676313880'}, {'screen_name': 'AmericanExpress', 'name': 'American Express', 'id': '42712551'}]</td>\n",
       "      <td>[americanexpress, what, about, cyprus]</td>\n",
       "    </tr>\n",
       "    <tr>\n",
       "      <th>211370</th>\n",
       "      <td>1227686842415353857</td>\n",
       "      <td>1227686842415353857</td>\n",
       "      <td>2020-02-12 15:12:07 EST</td>\n",
       "      <td>2020-02-12</td>\n",
       "      <td>15:12:07</td>\n",
       "      <td>-500</td>\n",
       "      <td>1030530344</td>\n",
       "      <td>pisanibugeja</td>\n",
       "      <td>can you reopen my revolut account amd reactivate my app its been over 2 months horrible service</td>\n",
       "      <td>en</td>\n",
       "      <td>...</td>\n",
       "      <td>0</td>\n",
       "      <td>0</td>\n",
       "      <td>0</td>\n",
       "      <td>[]</td>\n",
       "      <td>[]</td>\n",
       "      <td>https://twitter.com/pisanibugeja/status/1227686842415353857</td>\n",
       "      <td>False</td>\n",
       "      <td>0</td>\n",
       "      <td>[]</td>\n",
       "      <td>[can, you, reopen, my, revolut, account, amd, reactivate, my, app, its, been, over, 2, months, horrible, service]</td>\n",
       "    </tr>\n",
       "    <tr>\n",
       "      <th>76261</th>\n",
       "      <td>1311381272971948032</td>\n",
       "      <td>1311381272971948032</td>\n",
       "      <td>2020-09-30 15:03:54 EDT</td>\n",
       "      <td>2020-09-30</td>\n",
       "      <td>15:03:54</td>\n",
       "      <td>-500</td>\n",
       "      <td>184478648</td>\n",
       "      <td>yankeez78</td>\n",
       "      <td>2 exceptions occurred whats going on i cant log in i was being assisted by an agent on live chat when suddenly the app crashed now i cant log in please help theres no revolut update available right now</td>\n",
       "      <td>en</td>\n",
       "      <td>...</td>\n",
       "      <td>1</td>\n",
       "      <td>0</td>\n",
       "      <td>0</td>\n",
       "      <td>[]</td>\n",
       "      <td>[]</td>\n",
       "      <td>https://twitter.com/Yankeez78/status/1311381272971948032</td>\n",
       "      <td>False</td>\n",
       "      <td>0</td>\n",
       "      <td>[]</td>\n",
       "      <td>[2, exceptions, occurred, whats, going, on, i, cant, log, in, i, was, being, assisted, by, an, agent, on, live, chat, when, suddenly, the, app, crashed, now, i, cant, log, in, please, help, theres, no, revolut, update, available, right, now]</td>\n",
       "    </tr>\n",
       "    <tr>\n",
       "      <th>141569</th>\n",
       "      <td>1270990059089485824</td>\n",
       "      <td>1270990059089485824</td>\n",
       "      <td>2020-06-11 04:03:38 EDT</td>\n",
       "      <td>2020-06-11</td>\n",
       "      <td>04:03:38</td>\n",
       "      <td>-500</td>\n",
       "      <td>302441542</td>\n",
       "      <td>meme12555</td>\n",
       "      <td>since when exactly is 1250 czk equal to 1k eurgbp 1250 czk 50 eur limit per month since august is a joke or hopefully a mistake 12500 would be still 12 but a little bit better could you clarify this please thanks</td>\n",
       "      <td>en</td>\n",
       "      <td>...</td>\n",
       "      <td>1</td>\n",
       "      <td>0</td>\n",
       "      <td>1</td>\n",
       "      <td>[]</td>\n",
       "      <td>[]</td>\n",
       "      <td>https://twitter.com/meme12555/status/1270990059089485824</td>\n",
       "      <td>False</td>\n",
       "      <td>0</td>\n",
       "      <td>[]</td>\n",
       "      <td>[since, when, exactly, is, 1250, czk, equal, to, 1k, eurgbp, 1250, czk, 50, eur, limit, per, month, since, august, is, a, joke, or, hopefully, a, mistake, 12500, would, be, still, 12, but, a, little, bit, better, could, you, clarify, this, please, thanks]</td>\n",
       "    </tr>\n",
       "  </tbody>\n",
       "</table>\n",
       "<p>5 rows × 23 columns</p>\n",
       "</div>"
      ],
      "text/plain": [
       "                         id      conversation_id               created_at  \\\n",
       "148216  1268166900225359880  1268159922014912512  2020-06-03 09:05:25 EDT   \n",
       "131791  1276169089740931073  1276168637997551617  2020-06-25 11:03:15 EDT   \n",
       "211370  1227686842415353857  1227686842415353857  2020-02-12 15:12:07 EST   \n",
       "76261   1311381272971948032  1311381272971948032  2020-09-30 15:03:54 EDT   \n",
       "141569  1270990059089485824  1270990059089485824  2020-06-11 04:03:38 EDT   \n",
       "\n",
       "              date      time  timezone             user_id        username  \\\n",
       "148216  2020-06-03  09:05:25      -500          2768107323  harold_moreels   \n",
       "131791  2020-06-25  11:03:15      -500  978519553293672448      adijovschi   \n",
       "211370  2020-02-12  15:12:07      -500          1030530344    pisanibugeja   \n",
       "76261   2020-09-30  15:03:54      -500           184478648       yankeez78   \n",
       "141569  2020-06-11  04:03:38      -500           302441542       meme12555   \n",
       "\n",
       "                                                                                                                                                                                                                        tweet  \\\n",
       "148216                                                                                                                                                                                   i dont have any response on the app    \n",
       "131791                                                                                                                                                                                      americanexpress what about cyprus   \n",
       "211370                                                                                                                        can you reopen my revolut account amd reactivate my app its been over 2 months horrible service   \n",
       "76261               2 exceptions occurred whats going on i cant log in i was being assisted by an agent on live chat when suddenly the app crashed now i cant log in please help theres no revolut update available right now   \n",
       "141569   since when exactly is 1250 czk equal to 1k eurgbp 1250 czk 50 eur limit per month since august is a joke or hopefully a mistake 12500 would be still 12 but a little bit better could you clarify this please thanks   \n",
       "\n",
       "       language  ... replies_count retweets_count likes_count  hashtags  \\\n",
       "148216       en  ...             0              0           0        []   \n",
       "131791       en  ...             0              0           0        []   \n",
       "211370       en  ...             0              0           0        []   \n",
       "76261        en  ...             1              0           0        []   \n",
       "141569       en  ...             1              0           1        []   \n",
       "\n",
       "        cashtags  \\\n",
       "148216        []   \n",
       "131791        []   \n",
       "211370        []   \n",
       "76261         []   \n",
       "141569        []   \n",
       "\n",
       "                                                                 link retweet  \\\n",
       "148216  https://twitter.com/harold_moreels/status/1268166900225359880   False   \n",
       "131791      https://twitter.com/adijovschi/status/1276169089740931073   False   \n",
       "211370    https://twitter.com/pisanibugeja/status/1227686842415353857   False   \n",
       "76261        https://twitter.com/Yankeez78/status/1311381272971948032   False   \n",
       "141569       https://twitter.com/meme12555/status/1270990059089485824   False   \n",
       "\n",
       "       video  \\\n",
       "148216     0   \n",
       "131791     0   \n",
       "211370     0   \n",
       "76261      0   \n",
       "141569     0   \n",
       "\n",
       "                                                                                                                                                        reply_to  \\\n",
       "148216                                                                                    [{'screen_name': 'RevolutApp', 'name': 'Revolut', 'id': '2676313880'}]   \n",
       "131791  [{'screen_name': 'RevolutApp', 'name': 'Revolut', 'id': '2676313880'}, {'screen_name': 'AmericanExpress', 'name': 'American Express', 'id': '42712551'}]   \n",
       "211370                                                                                                                                                        []   \n",
       "76261                                                                                                                                                         []   \n",
       "141569                                                                                                                                                        []   \n",
       "\n",
       "                                                                                                                                                                                                                                                                 tokens  \n",
       "148216                                                                                                                                                                                                                     [i, dont, have, any, response, on, the, app]  \n",
       "131791                                                                                                                                                                                                                           [americanexpress, what, about, cyprus]  \n",
       "211370                                                                                                                                                [can, you, reopen, my, revolut, account, amd, reactivate, my, app, its, been, over, 2, months, horrible, service]  \n",
       "76261                 [2, exceptions, occurred, whats, going, on, i, cant, log, in, i, was, being, assisted, by, an, agent, on, live, chat, when, suddenly, the, app, crashed, now, i, cant, log, in, please, help, theres, no, revolut, update, available, right, now]  \n",
       "141569  [since, when, exactly, is, 1250, czk, equal, to, 1k, eurgbp, 1250, czk, 50, eur, limit, per, month, since, august, is, a, joke, or, hopefully, a, mistake, 12500, would, be, still, 12, but, a, little, bit, better, could, you, clarify, this, please, thanks]  \n",
       "\n",
       "[5 rows x 23 columns]"
      ]
     },
     "metadata": {},
     "output_type": "display_data"
    }
   ],
   "source": [
    "with option_context('display.max_colwidth', 600):\n",
    "    display(df_eng.sample(5))"
   ]
  },
  {
   "cell_type": "markdown",
   "metadata": {},
   "source": [
    "#### Note: How to find and correct mispelled words?\n",
    "Where in the pipeline is best place to do this?"
   ]
  },
  {
   "cell_type": "code",
   "execution_count": 34,
   "metadata": {},
   "outputs": [
    {
     "ename": "TypeError",
     "evalue": "float() argument must be a string or a number, not 'list'",
     "output_type": "error",
     "traceback": [
      "\u001b[0;31m---------------------------------------------------------------------------\u001b[0m",
      "\u001b[0;31mTypeError\u001b[0m                                 Traceback (most recent call last)",
      "\u001b[0;32m<ipython-input-34-974de1db36df>\u001b[0m in \u001b[0;36m<module>\u001b[0;34m\u001b[0m\n\u001b[1;32m      3\u001b[0m \u001b[0mspell\u001b[0m \u001b[0;34m=\u001b[0m \u001b[0mSpellChecker\u001b[0m\u001b[0;34m(\u001b[0m\u001b[0;34m)\u001b[0m\u001b[0;34m\u001b[0m\u001b[0;34m\u001b[0m\u001b[0m\n\u001b[1;32m      4\u001b[0m \u001b[0;34m\u001b[0m\u001b[0m\n\u001b[0;32m----> 5\u001b[0;31m \u001b[0mmisspelled\u001b[0m \u001b[0;34m=\u001b[0m \u001b[0mspell\u001b[0m\u001b[0;34m.\u001b[0m\u001b[0munknown\u001b[0m\u001b[0;34m(\u001b[0m\u001b[0mdf_eng\u001b[0m\u001b[0;34m[\u001b[0m\u001b[0;34m'tokens'\u001b[0m\u001b[0;34m]\u001b[0m\u001b[0;34m)\u001b[0m\u001b[0;34m\u001b[0m\u001b[0;34m\u001b[0m\u001b[0m\n\u001b[0m",
      "\u001b[0;32m~/opt/anaconda3/lib/python3.8/site-packages/spellchecker/spellchecker.py\u001b[0m in \u001b[0;36munknown\u001b[0;34m(self, words)\u001b[0m\n\u001b[1;32m    200\u001b[0m                 the corpus \"\"\"\n\u001b[1;32m    201\u001b[0m         \u001b[0mwords\u001b[0m \u001b[0;34m=\u001b[0m \u001b[0;34m[\u001b[0m\u001b[0mENSURE_UNICODE\u001b[0m\u001b[0;34m(\u001b[0m\u001b[0mw\u001b[0m\u001b[0;34m)\u001b[0m \u001b[0;32mfor\u001b[0m \u001b[0mw\u001b[0m \u001b[0;32min\u001b[0m \u001b[0mwords\u001b[0m\u001b[0;34m]\u001b[0m\u001b[0;34m\u001b[0m\u001b[0;34m\u001b[0m\u001b[0m\n\u001b[0;32m--> 202\u001b[0;31m         tmp = [\n\u001b[0m\u001b[1;32m    203\u001b[0m             \u001b[0mw\u001b[0m \u001b[0;32mif\u001b[0m \u001b[0mself\u001b[0m\u001b[0;34m.\u001b[0m\u001b[0m_case_sensitive\u001b[0m \u001b[0;32melse\u001b[0m \u001b[0mw\u001b[0m\u001b[0;34m.\u001b[0m\u001b[0mlower\u001b[0m\u001b[0;34m(\u001b[0m\u001b[0;34m)\u001b[0m\u001b[0;34m\u001b[0m\u001b[0;34m\u001b[0m\u001b[0m\n\u001b[1;32m    204\u001b[0m             \u001b[0;32mfor\u001b[0m \u001b[0mw\u001b[0m \u001b[0;32min\u001b[0m \u001b[0mwords\u001b[0m\u001b[0;34m\u001b[0m\u001b[0;34m\u001b[0m\u001b[0m\n",
      "\u001b[0;32m~/opt/anaconda3/lib/python3.8/site-packages/spellchecker/spellchecker.py\u001b[0m in \u001b[0;36m<listcomp>\u001b[0;34m(.0)\u001b[0m\n\u001b[1;32m    203\u001b[0m             \u001b[0mw\u001b[0m \u001b[0;32mif\u001b[0m \u001b[0mself\u001b[0m\u001b[0;34m.\u001b[0m\u001b[0m_case_sensitive\u001b[0m \u001b[0;32melse\u001b[0m \u001b[0mw\u001b[0m\u001b[0;34m.\u001b[0m\u001b[0mlower\u001b[0m\u001b[0;34m(\u001b[0m\u001b[0;34m)\u001b[0m\u001b[0;34m\u001b[0m\u001b[0;34m\u001b[0m\u001b[0m\n\u001b[1;32m    204\u001b[0m             \u001b[0;32mfor\u001b[0m \u001b[0mw\u001b[0m \u001b[0;32min\u001b[0m \u001b[0mwords\u001b[0m\u001b[0;34m\u001b[0m\u001b[0;34m\u001b[0m\u001b[0m\n\u001b[0;32m--> 205\u001b[0;31m             \u001b[0;32mif\u001b[0m \u001b[0mself\u001b[0m\u001b[0;34m.\u001b[0m\u001b[0m_check_if_should_check\u001b[0m\u001b[0;34m(\u001b[0m\u001b[0mw\u001b[0m\u001b[0;34m)\u001b[0m\u001b[0;34m\u001b[0m\u001b[0;34m\u001b[0m\u001b[0m\n\u001b[0m\u001b[1;32m    206\u001b[0m         ]\n\u001b[1;32m    207\u001b[0m         \u001b[0;32mreturn\u001b[0m \u001b[0mset\u001b[0m\u001b[0;34m(\u001b[0m\u001b[0mw\u001b[0m \u001b[0;32mfor\u001b[0m \u001b[0mw\u001b[0m \u001b[0;32min\u001b[0m \u001b[0mtmp\u001b[0m \u001b[0;32mif\u001b[0m \u001b[0mw\u001b[0m \u001b[0;32mnot\u001b[0m \u001b[0;32min\u001b[0m \u001b[0mself\u001b[0m\u001b[0;34m.\u001b[0m\u001b[0m_word_frequency\u001b[0m\u001b[0;34m.\u001b[0m\u001b[0mdictionary\u001b[0m\u001b[0;34m)\u001b[0m\u001b[0;34m\u001b[0m\u001b[0;34m\u001b[0m\u001b[0m\n",
      "\u001b[0;32m~/opt/anaconda3/lib/python3.8/site-packages/spellchecker/spellchecker.py\u001b[0m in \u001b[0;36m_check_if_should_check\u001b[0;34m(word)\u001b[0m\n\u001b[1;32m    263\u001b[0m             \u001b[0;32mreturn\u001b[0m \u001b[0;32mFalse\u001b[0m\u001b[0;34m\u001b[0m\u001b[0;34m\u001b[0m\u001b[0m\n\u001b[1;32m    264\u001b[0m         \u001b[0;32mtry\u001b[0m\u001b[0;34m:\u001b[0m  \u001b[0;31m# check if it is a number (int, float, etc)\u001b[0m\u001b[0;34m\u001b[0m\u001b[0;34m\u001b[0m\u001b[0m\n\u001b[0;32m--> 265\u001b[0;31m             \u001b[0mfloat\u001b[0m\u001b[0;34m(\u001b[0m\u001b[0mword\u001b[0m\u001b[0;34m)\u001b[0m\u001b[0;34m\u001b[0m\u001b[0;34m\u001b[0m\u001b[0m\n\u001b[0m\u001b[1;32m    266\u001b[0m             \u001b[0;32mreturn\u001b[0m \u001b[0;32mFalse\u001b[0m\u001b[0;34m\u001b[0m\u001b[0;34m\u001b[0m\u001b[0m\n\u001b[1;32m    267\u001b[0m         \u001b[0;32mexcept\u001b[0m \u001b[0mValueError\u001b[0m\u001b[0;34m:\u001b[0m\u001b[0;34m\u001b[0m\u001b[0;34m\u001b[0m\u001b[0m\n",
      "\u001b[0;31mTypeError\u001b[0m: float() argument must be a string or a number, not 'list'"
     ]
    }
   ],
   "source": [
    "from spellchecker import SpellChecker\n",
    "\n",
    "spell = SpellChecker()\n",
    "\n",
    "misspelled = spell.unknown(df_eng['tokens'])"
   ]
  },
  {
   "cell_type": "markdown",
   "metadata": {},
   "source": [
    "Note you will incorporate stop words when making the count vectoriser"
   ]
  },
  {
   "cell_type": "code",
   "execution_count": null,
   "metadata": {},
   "outputs": [],
   "source": []
  }
 ],
 "metadata": {
  "kernelspec": {
   "display_name": "Python 3",
   "language": "python",
   "name": "python3"
  },
  "language_info": {
   "codemirror_mode": {
    "name": "ipython",
    "version": 3
   },
   "file_extension": ".py",
   "mimetype": "text/x-python",
   "name": "python",
   "nbconvert_exporter": "python",
   "pygments_lexer": "ipython3",
   "version": "3.8.5"
  }
 },
 "nbformat": 4,
 "nbformat_minor": 4
}
