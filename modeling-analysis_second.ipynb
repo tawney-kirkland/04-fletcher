{
 "cells": [
  {
   "cell_type": "code",
   "execution_count": 78,
   "metadata": {},
   "outputs": [],
   "source": [
    "import pandas as pd\n",
    "from pandas import option_context\n",
    "import numpy as np\n",
    "import re\n",
    "\n",
    "from sklearn.model_selection import train_test_split\n",
    "from sklearn.feature_extraction.text import CountVectorizer, TfidfVectorizer\n",
    "from sklearn.decomposition import NMF\n",
    "\n",
    "import nltk\n",
    "from nltk.corpus import stopwords\n",
    "from nltk.tokenize import MWETokenizer\n",
    "from nltk.tokenize import word_tokenize\n",
    "from nltk.tag import pos_tag\n",
    "from nltk.stem import WordNetLemmatizer \n",
    "\n",
    "from vaderSentiment.vaderSentiment import SentimentIntensityAnalyzer \n",
    "\n",
    "from collections import Counter\n",
    "\n",
    "from textblob import TextBlob"
   ]
  },
  {
   "cell_type": "markdown",
   "metadata": {},
   "source": [
    "## This is the main notebook for topic modeling and sentiment analysis (version 2)"
   ]
  },
  {
   "cell_type": "code",
   "execution_count": 79,
   "metadata": {
    "scrolled": true
   },
   "outputs": [
    {
     "data": {
      "text/plain": [
       "(96446, 24)"
      ]
     },
     "execution_count": 79,
     "metadata": {},
     "output_type": "execute_result"
    }
   ],
   "source": [
    "df = pd.read_csv('train.csv')\n",
    "df.dropna(inplace=True)\n",
    "df.reset_index(drop=True,inplace=True)\n",
    "df.shape"
   ]
  },
  {
   "cell_type": "code",
   "execution_count": 80,
   "metadata": {},
   "outputs": [],
   "source": [
    "df_analysis = df[['username','tweet']].copy()\n",
    "df_analysis.dropna(inplace=True)\n",
    "df_analysis.reset_index(drop=True,inplace=True)"
   ]
  },
  {
   "cell_type": "markdown",
   "metadata": {},
   "source": [
    "### Count words"
   ]
  },
  {
   "cell_type": "code",
   "execution_count": 81,
   "metadata": {},
   "outputs": [],
   "source": [
    "stop = stopwords.words('english')\n",
    "stop.extend(['hi', 'hey', 'hello','ha', 'followed','wa','dm','dont','cant','wont','get','still','like','need',\n",
    "            'someone','people','im','ive','month','week','day','could','give','want','please','pls','since','one',\n",
    "             'back','thanks','thank','take','doesnt','does', 'might', 'must','lock','access','sent','closed','use',\n",
    "            'u','contact','new','email','time','message','tried','answer','waiting','issue','reason','going',\n",
    "            'work','agent','bank','card','trying','even','every','problem','via','chat','support','log',\n",
    "            'getting','anyone','reply','transfer','nothing'])"
   ]
  },
  {
   "cell_type": "code",
   "execution_count": 82,
   "metadata": {},
   "outputs": [],
   "source": [
    "# # Extend for most common English adverbs\n",
    "\n",
    "stop.extend(['up','so','out','just','now','how','then','more','also','here',\n",
    "            'well','only','very','even','back','there','down','still','in',\n",
    "            'as','to','when','never','really','most','on','why','about','over',\n",
    "            'again','where','right','off','always','today','all','far','long',\n",
    "            'away','yet','often','ever','however','almost','later','much',\n",
    "            'once','least','ago','together','around','already','enough','both',\n",
    "            'maybe','actually','probably','home','of course','perhaps','little',\n",
    "            'else','sometimes','finally','less','better','early','especially',\n",
    "            'either','quite','simply','nearly','soon','certainly','quickly',\n",
    "            'no','recently','before','usually','thus','exactly','hard',\n",
    "            'particularly','pretty','forward','ok','okay','clearly','indeed',\n",
    "            'rather','that','tonight','close','suddenly','best','instead',\n",
    "            'ahead','fast','alone','eventually','directly'])\n",
    "\n",
    "# # Extend for most common irregular verbs (except pay,lose,send,buy,spend)\n",
    "\n",
    "stop.extend(['say','make','go','take','come','see','know','get','got','give',\n",
    "            'find','think','tell','become','show','leave','feel','put','bring',\n",
    "            'begin','keep','hold','write','stand','hear','let','mean','set','meet',\n",
    "            'run','sit','speak','lie','lead','read','grow','fall',\n",
    "            'build','understand','draw','break','cut','rise','drive','wear',\n",
    "            'choose'])\n",
    "\n",
    "# ## Extend for prepositions\n",
    "stop.extend(['without','among'])"
   ]
  },
  {
   "cell_type": "markdown",
   "metadata": {},
   "source": [
    "#### Compounds"
   ]
  },
  {
   "cell_type": "code",
   "execution_count": 83,
   "metadata": {},
   "outputs": [],
   "source": [
    "create_compounds = (lambda x: \n",
    "                 x.replace('debit card', 'debitcard')\n",
    "                 .replace('rainbow card', 'debitcard')\n",
    "                 .replace('bank card', 'debitcard')\n",
    "                 .replace('revolut card', 'debitcard')\n",
    "                 .replace('revcards', 'debitcard')\n",
    "                 .replace('debitcardcrypto', 'debitcard crypto')\n",
    "                 .replace('credit card', 'creditcard')\n",
    "                 .replace('junior card', 'juniorcard')\n",
    "                 .replace('revolut junior', 'juniorcard')\n",
    "                 .replace('revolut youth', 'juniorcard')\n",
    "                 .replace('junior accounts', 'juniorcard')\n",
    "                 .replace('junior account', 'juniorcard')\n",
    "                 .replace('business account', 'budinessaccount')\n",
    "                 .replace('savings account', 'savingsaccount')\n",
    "                 .replace('bank account', 'bankaccount')\n",
    "                 .replace('premium account', 'premiumaccount')\n",
    "                 .replace('revolut premium', 'premiumaccount')\n",
    "                 .replace('premium user', 'premiumaccount')\n",
    "                 .replace('premium plan', 'premiumaccount')\n",
    "                 .replace('premium membership', 'premiumaccount')\n",
    "                 .replace('premium member', 'premiumaccount')\n",
    "                 .replace('premium paid', 'premiumaccount')\n",
    "                 .replace('premium payment', 'premiumaccount')\n",
    "                 .replace('mypremiumaccountworthnothing', 'my premiumaccount worth nothing')\n",
    "                 .replace('premium service', 'premiumaccount service')\n",
    "                 .replace('metal account', 'metalaccount')\n",
    "                 .replace('metal plan', 'metalaccount')\n",
    "                 .replace('metal customer', 'metalaccount')\n",
    "                 .replace('metal card', 'metalaccount')\n",
    "                 .replace('metal customers', 'metalaccount')\n",
    "                 .replace('metal user', 'metalaccount')\n",
    "                 .replace('business bank', 'businessbank')\n",
    "                 .replace('virtual card', 'virtualcard')\n",
    "                 .replace('revolut business', 'revolutbusiness')\n",
    "                 .replace('google pay', 'googlepay')\n",
    "                 .replace('apple pay', 'applepay')\n",
    "                 .replace('apple wallet', 'applepay')\n",
    "                 .replace('applepayment', 'applepay')\n",
    "                 .replace('samsung pay', 'samsungpay')\n",
    "                 .replace('cryptocurrency', 'crypto')\n",
    "                 .replace('cryptorelated', 'crypto related')\n",
    "                 .replace('cryptofriendly', 'crypto friendly')\n",
    "                 .replace('criptos', 'crypto')\n",
    "                 .replace('cripto', 'crypto')\n",
    "                 .replace('cryptos', 'crypto')\n",
    "                 .replace('cryptoasset', 'crypto')\n",
    "                 .replace('doge coin', 'crypto')\n",
    "                 .replace(' doge ', ' crypto ')\n",
    "                 .replace('customer service', 'customerservice')\n",
    "                 .replace('supoort', 'support')\n",
    "                 .replace('customer support', 'customerservice')\n",
    "                 .replace(' cs ', ' customerservice ')\n",
    "                 .replace('phone number', 'phonenumber')\n",
    "                 .replace('social media', 'socialmedia')\n",
    "                 .replace('app chat', 'appchat')\n",
    "                 .replace('challenger bank', 'fintech')\n",
    "                 .replace('challengerbank', 'fintech')\n",
    "                 .replace('neobanking', 'fintech')\n",
    "                 .replace('neobanks', 'fintech')\n",
    "                 .replace('neobank', 'fintech')\n",
    "                 .replace('transferthis', 'transfer')\n",
    "                 .replace('application', 'app')\n",
    "                 .replace('locked', 'lock')\n",
    "                 .replace('unlock', 'lock')\n",
    "                 .replace('block', 'lock')\n",
    "                 .replace('dark mode', 'darkmode')\n",
    "                 .replace('dark theme', 'darkmode')\n",
    "                 .replace('xfers', 'transfer')\n",
    "                 .replace('xfer', 'transfer'))\n",
    "\n",
    "\n",
    "df_analysis['tweet_compound'] = df_analysis.tweet.map(create_compounds)"
   ]
  },
  {
   "cell_type": "markdown",
   "metadata": {},
   "source": [
    "#### Count"
   ]
  },
  {
   "cell_type": "code",
   "execution_count": 84,
   "metadata": {},
   "outputs": [],
   "source": [
    "counter = Counter()\n",
    "lemma = nltk.stem.WordNetLemmatizer()\n",
    "\n",
    "for tweet in df_analysis['tweet_compound']:\n",
    "    tweet = lemma.lemmatize(tweet)\n",
    "    tweet = TextBlob(tweet).words  # tokenize words\n",
    "    tweet = [w for w in tweet if w not in stop]\n",
    "\n",
    "    counter += Counter(tweet)"
   ]
  },
  {
   "cell_type": "code",
   "execution_count": 85,
   "metadata": {},
   "outputs": [
    {
     "data": {
      "text/plain": [
       "32555"
      ]
     },
     "execution_count": 85,
     "metadata": {},
     "output_type": "execute_result"
    }
   ],
   "source": [
    "len(counter)"
   ]
  },
  {
   "cell_type": "code",
   "execution_count": 86,
   "metadata": {
    "scrolled": true
   },
   "outputs": [
    {
     "name": "stdout",
     "output_type": "stream",
     "text": [
      "             account 28770\n",
      "             revolut 16841\n",
      "                 app 16158\n",
      "               money 15495\n",
      "                help 12044\n",
      "                days 5350\n",
      "               would 3982\n",
      "              months 3511\n",
      "     customerservice 3296\n",
      "               weeks 2995\n"
     ]
    }
   ],
   "source": [
    "for phrase, count in counter.most_common(10):\n",
    "    print('%20s %i' % (\"\".join(phrase), count))"
   ]
  },
  {
   "cell_type": "markdown",
   "metadata": {},
   "source": [
    "### Topic modeling"
   ]
  },
  {
   "cell_type": "code",
   "execution_count": 87,
   "metadata": {},
   "outputs": [
    {
     "name": "stderr",
     "output_type": "stream",
     "text": [
      "/Users/tawneykirkland/opt/anaconda3/lib/python3.8/site-packages/sklearn/feature_extraction/text.py:383: UserWarning: Your stop_words may be inconsistent with your preprocessing. Tokenizing the stop words generated tokens [\"'d\", \"'ll\", \"'re\", \"'s\", \"'ve\", 'course', 'doe', 'le', \"n't\", 'sha', 'wo', 'would'] not in stop_words.\n",
      "  warnings.warn('Your stop_words may be inconsistent with '\n"
     ]
    },
    {
     "data": {
      "text/plain": [
       "(96446, 13051)"
      ]
     },
     "execution_count": 87,
     "metadata": {},
     "output_type": "execute_result"
    }
   ],
   "source": [
    "class LemmaTokenizer(object):\n",
    "    def __init__(self):\n",
    "        self.wnl = WordNetLemmatizer()\n",
    "    def __call__(self, articles):\n",
    "        return [self.wnl.lemmatize(t) for t in word_tokenize(articles)]\n",
    "    \n",
    "vectorizer = CountVectorizer(tokenizer = LemmaTokenizer(),\n",
    "                              stop_words = stop,\n",
    "                              min_df=2,\n",
    "                              max_df = 0.9)\n",
    "\n",
    "doc_word = vectorizer.fit_transform(df_analysis.tweet_compound)\n",
    "doc_word.shape"
   ]
  },
  {
   "cell_type": "code",
   "execution_count": 88,
   "metadata": {},
   "outputs": [
    {
     "data": {
      "text/plain": [
       "(96446, 5)"
      ]
     },
     "execution_count": 88,
     "metadata": {},
     "output_type": "execute_result"
    }
   ],
   "source": [
    "nmf_model = NMF(5)\n",
    "doc_topic = nmf_model.fit_transform(doc_word)\n",
    "doc_topic.shape"
   ]
  },
  {
   "cell_type": "code",
   "execution_count": 89,
   "metadata": {},
   "outputs": [
    {
     "data": {
      "text/plain": [
       "(5, 13051)"
      ]
     },
     "execution_count": 89,
     "metadata": {},
     "output_type": "execute_result"
    }
   ],
   "source": [
    "topic_word = nmf_model.components_\n",
    "topic_word.shape"
   ]
  },
  {
   "cell_type": "code",
   "execution_count": 90,
   "metadata": {},
   "outputs": [
    {
     "data": {
      "text/plain": [
       "[['account', 'fund', 'document', 'open', 'customerservice', 'information'],\n",
       " ['app', 'phone', 'update', 'id', 'working', 'login'],\n",
       " ['revolut', 'crypto', 'customer', 'child', 'fintech', 'payment'],\n",
       " ['money', 'send', 'pay', 'bankaccount', 'lost', 'transferred'],\n",
       " ['help', 'live', 'phone', 'hour', 'number', 'verify']]"
      ]
     },
     "execution_count": 90,
     "metadata": {},
     "output_type": "execute_result"
    }
   ],
   "source": [
    "words = vectorizer.get_feature_names()\n",
    "t = nmf_model.components_.argsort(axis=1)[:,-1:-7:-1]\n",
    "topic_words = [[words[e] for e in l] for l in t]\n",
    "topic_words"
   ]
  },
  {
   "cell_type": "markdown",
   "metadata": {},
   "source": [
    "- Component 0 (topic 1) seems to be about account queries\n",
    "- Component 1 (topic 2) seems to be about app-related queries\n",
    "- Component 2 (topic 3) seems to be about fintech innovations\n",
    "- Component 3 (topic 4) is about transfers and not being able to access accounts / money\n",
    "- Component 4 (topic 5) is about general requests for support"
   ]
  },
  {
   "cell_type": "code",
   "execution_count": 91,
   "metadata": {},
   "outputs": [],
   "source": [
    "df_analysis['topic'] = doc_topic.argmax(axis=1)"
   ]
  },
  {
   "cell_type": "code",
   "execution_count": 92,
   "metadata": {
    "scrolled": false
   },
   "outputs": [
    {
     "data": {
      "text/html": [
       "<div>\n",
       "<style scoped>\n",
       "    .dataframe tbody tr th:only-of-type {\n",
       "        vertical-align: middle;\n",
       "    }\n",
       "\n",
       "    .dataframe tbody tr th {\n",
       "        vertical-align: top;\n",
       "    }\n",
       "\n",
       "    .dataframe thead th {\n",
       "        text-align: right;\n",
       "    }\n",
       "</style>\n",
       "<table border=\"1\" class=\"dataframe\">\n",
       "  <thead>\n",
       "    <tr style=\"text-align: right;\">\n",
       "      <th></th>\n",
       "      <th>username</th>\n",
       "      <th>tweet</th>\n",
       "      <th>tweet_compound</th>\n",
       "      <th>topic</th>\n",
       "    </tr>\n",
       "  </thead>\n",
       "  <tbody>\n",
       "    <tr>\n",
       "      <th>4662</th>\n",
       "      <td>laugucci</td>\n",
       "      <td>make a crypto wallet i want to make paystransfers</td>\n",
       "      <td>make a crypto wallet i want to make paystransfers</td>\n",
       "      <td>2</td>\n",
       "    </tr>\n",
       "    <tr>\n",
       "      <th>94567</th>\n",
       "      <td>triona_c</td>\n",
       "      <td>actually isnt the above false advertising while you dont charge a monthly atm fee you do charge at source no</td>\n",
       "      <td>actually isnt the above false advertising while you dont charge a monthly atm fee you do charge at source no</td>\n",
       "      <td>3</td>\n",
       "    </tr>\n",
       "    <tr>\n",
       "      <th>91100</th>\n",
       "      <td>farrellcoin</td>\n",
       "      <td>i was already following</td>\n",
       "      <td>i was already following</td>\n",
       "      <td>4</td>\n",
       "    </tr>\n",
       "    <tr>\n",
       "      <th>78632</th>\n",
       "      <td>hopla21368453</td>\n",
       "      <td>thank you with a little help everything is possible i chated with customer support thank you very much</td>\n",
       "      <td>thank you with a little help everything is possible i chated with customerservice thank you very much</td>\n",
       "      <td>4</td>\n",
       "    </tr>\n",
       "    <tr>\n",
       "      <th>83734</th>\n",
       "      <td>francoistango</td>\n",
       "      <td>little bugs in my code little bugs in my code found one fixed one little bugs in my code little bugs in my code</td>\n",
       "      <td>little bugs in my code little bugs in my code found one fixed one little bugs in my code little bugs in my code</td>\n",
       "      <td>1</td>\n",
       "    </tr>\n",
       "  </tbody>\n",
       "</table>\n",
       "</div>"
      ],
      "text/plain": [
       "            username  \\\n",
       "4662        laugucci   \n",
       "94567       triona_c   \n",
       "91100    farrellcoin   \n",
       "78632  hopla21368453   \n",
       "83734  francoistango   \n",
       "\n",
       "                                                                                                                 tweet  \\\n",
       "4662                                                                 make a crypto wallet i want to make paystransfers   \n",
       "94567     actually isnt the above false advertising while you dont charge a monthly atm fee you do charge at source no   \n",
       "91100                                                                                          i was already following   \n",
       "78632           thank you with a little help everything is possible i chated with customer support thank you very much   \n",
       "83734  little bugs in my code little bugs in my code found one fixed one little bugs in my code little bugs in my code   \n",
       "\n",
       "                                                                                                        tweet_compound  \\\n",
       "4662                                                                 make a crypto wallet i want to make paystransfers   \n",
       "94567     actually isnt the above false advertising while you dont charge a monthly atm fee you do charge at source no   \n",
       "91100                                                                                          i was already following   \n",
       "78632            thank you with a little help everything is possible i chated with customerservice thank you very much   \n",
       "83734  little bugs in my code little bugs in my code found one fixed one little bugs in my code little bugs in my code   \n",
       "\n",
       "       topic  \n",
       "4662       2  \n",
       "94567      3  \n",
       "91100      4  \n",
       "78632      4  \n",
       "83734      1  "
      ]
     },
     "metadata": {},
     "output_type": "display_data"
    }
   ],
   "source": [
    "with option_context('display.max_colwidth', 600):\n",
    "    display(df_analysis.sample(5))"
   ]
  },
  {
   "cell_type": "code",
   "execution_count": 93,
   "metadata": {},
   "outputs": [],
   "source": [
    "topic_names = {0: 'Account queries', 1: 'App queries', 2:'Fintech innovation',\n",
    "              3: 'Unable to access funds / transfers', 4: 'Contact support'}"
   ]
  },
  {
   "cell_type": "code",
   "execution_count": 94,
   "metadata": {},
   "outputs": [],
   "source": [
    "components_df = pd.DataFrame(nmf_model.components_, \n",
    "                             columns = vectorizer.get_feature_names()).T.rename(\n",
    "                             columns=topic_names).reset_index()"
   ]
  },
  {
   "cell_type": "code",
   "execution_count": 95,
   "metadata": {},
   "outputs": [
    {
     "data": {
      "text/html": [
       "<div>\n",
       "<style scoped>\n",
       "    .dataframe tbody tr th:only-of-type {\n",
       "        vertical-align: middle;\n",
       "    }\n",
       "\n",
       "    .dataframe tbody tr th {\n",
       "        vertical-align: top;\n",
       "    }\n",
       "\n",
       "    .dataframe thead th {\n",
       "        text-align: right;\n",
       "    }\n",
       "</style>\n",
       "<table border=\"1\" class=\"dataframe\">\n",
       "  <thead>\n",
       "    <tr style=\"text-align: right;\">\n",
       "      <th></th>\n",
       "      <th>index</th>\n",
       "      <th>Account queries</th>\n",
       "      <th>App queries</th>\n",
       "      <th>Fintech innovation</th>\n",
       "      <th>Unable to access funds / transfers</th>\n",
       "      <th>Contact support</th>\n",
       "    </tr>\n",
       "  </thead>\n",
       "  <tbody>\n",
       "    <tr>\n",
       "      <th>0</th>\n",
       "      <td>aa</td>\n",
       "      <td>0.000085</td>\n",
       "      <td>0.001092</td>\n",
       "      <td>0.000408</td>\n",
       "      <td>0.000000</td>\n",
       "      <td>0.000000</td>\n",
       "    </tr>\n",
       "    <tr>\n",
       "      <th>1</th>\n",
       "      <td>aaaaaand</td>\n",
       "      <td>0.000000</td>\n",
       "      <td>0.000588</td>\n",
       "      <td>0.000000</td>\n",
       "      <td>0.000000</td>\n",
       "      <td>0.000000</td>\n",
       "    </tr>\n",
       "    <tr>\n",
       "      <th>2</th>\n",
       "      <td>aaaand</td>\n",
       "      <td>0.000000</td>\n",
       "      <td>0.000000</td>\n",
       "      <td>0.000568</td>\n",
       "      <td>0.000000</td>\n",
       "      <td>0.000000</td>\n",
       "    </tr>\n",
       "    <tr>\n",
       "      <th>3</th>\n",
       "      <td>aaccess</td>\n",
       "      <td>0.000024</td>\n",
       "      <td>0.000000</td>\n",
       "      <td>0.000000</td>\n",
       "      <td>0.000000</td>\n",
       "      <td>0.003029</td>\n",
       "    </tr>\n",
       "    <tr>\n",
       "      <th>4</th>\n",
       "      <td>aacount</td>\n",
       "      <td>0.000322</td>\n",
       "      <td>0.000000</td>\n",
       "      <td>0.000134</td>\n",
       "      <td>0.000914</td>\n",
       "      <td>0.000517</td>\n",
       "    </tr>\n",
       "    <tr>\n",
       "      <th>...</th>\n",
       "      <td>...</td>\n",
       "      <td>...</td>\n",
       "      <td>...</td>\n",
       "      <td>...</td>\n",
       "      <td>...</td>\n",
       "      <td>...</td>\n",
       "    </tr>\n",
       "    <tr>\n",
       "      <th>13046</th>\n",
       "      <td>zloty</td>\n",
       "      <td>0.000378</td>\n",
       "      <td>0.000410</td>\n",
       "      <td>0.000179</td>\n",
       "      <td>0.000992</td>\n",
       "      <td>0.000000</td>\n",
       "    </tr>\n",
       "    <tr>\n",
       "      <th>13047</th>\n",
       "      <td>zone</td>\n",
       "      <td>0.001715</td>\n",
       "      <td>0.000317</td>\n",
       "      <td>0.000000</td>\n",
       "      <td>0.000661</td>\n",
       "      <td>0.000000</td>\n",
       "    </tr>\n",
       "    <tr>\n",
       "      <th>13048</th>\n",
       "      <td>zoom</td>\n",
       "      <td>0.000000</td>\n",
       "      <td>0.001235</td>\n",
       "      <td>0.000445</td>\n",
       "      <td>0.000487</td>\n",
       "      <td>0.000000</td>\n",
       "    </tr>\n",
       "    <tr>\n",
       "      <th>13049</th>\n",
       "      <td>zrx</td>\n",
       "      <td>0.000000</td>\n",
       "      <td>0.000995</td>\n",
       "      <td>0.001924</td>\n",
       "      <td>0.000000</td>\n",
       "      <td>0.000000</td>\n",
       "    </tr>\n",
       "    <tr>\n",
       "      <th>13050</th>\n",
       "      <td>zzzz</td>\n",
       "      <td>0.000396</td>\n",
       "      <td>0.000000</td>\n",
       "      <td>0.000000</td>\n",
       "      <td>0.000000</td>\n",
       "      <td>0.000000</td>\n",
       "    </tr>\n",
       "  </tbody>\n",
       "</table>\n",
       "<p>13051 rows × 6 columns</p>\n",
       "</div>"
      ],
      "text/plain": [
       "          index  Account queries  App queries  Fintech innovation  \\\n",
       "0            aa         0.000085     0.001092            0.000408   \n",
       "1      aaaaaand         0.000000     0.000588            0.000000   \n",
       "2        aaaand         0.000000     0.000000            0.000568   \n",
       "3       aaccess         0.000024     0.000000            0.000000   \n",
       "4       aacount         0.000322     0.000000            0.000134   \n",
       "...         ...              ...          ...                 ...   \n",
       "13046     zloty         0.000378     0.000410            0.000179   \n",
       "13047      zone         0.001715     0.000317            0.000000   \n",
       "13048      zoom         0.000000     0.001235            0.000445   \n",
       "13049       zrx         0.000000     0.000995            0.001924   \n",
       "13050      zzzz         0.000396     0.000000            0.000000   \n",
       "\n",
       "       Unable to access funds / transfers  Contact support  \n",
       "0                                0.000000         0.000000  \n",
       "1                                0.000000         0.000000  \n",
       "2                                0.000000         0.000000  \n",
       "3                                0.000000         0.003029  \n",
       "4                                0.000914         0.000517  \n",
       "...                                   ...              ...  \n",
       "13046                            0.000992         0.000000  \n",
       "13047                            0.000661         0.000000  \n",
       "13048                            0.000487         0.000000  \n",
       "13049                            0.000000         0.000000  \n",
       "13050                            0.000000         0.000000  \n",
       "\n",
       "[13051 rows x 6 columns]"
      ]
     },
     "execution_count": 95,
     "metadata": {},
     "output_type": "execute_result"
    }
   ],
   "source": [
    "components_df"
   ]
  },
  {
   "cell_type": "code",
   "execution_count": 114,
   "metadata": {},
   "outputs": [
    {
     "data": {
      "text/html": [
       "<div>\n",
       "<style scoped>\n",
       "    .dataframe tbody tr th:only-of-type {\n",
       "        vertical-align: middle;\n",
       "    }\n",
       "\n",
       "    .dataframe tbody tr th {\n",
       "        vertical-align: top;\n",
       "    }\n",
       "\n",
       "    .dataframe thead th {\n",
       "        text-align: right;\n",
       "    }\n",
       "</style>\n",
       "<table border=\"1\" class=\"dataframe\">\n",
       "  <thead>\n",
       "    <tr style=\"text-align: right;\">\n",
       "      <th></th>\n",
       "      <th>word(s)</th>\n",
       "      <th>topic</th>\n",
       "      <th>value</th>\n",
       "    </tr>\n",
       "  </thead>\n",
       "  <tbody>\n",
       "    <tr>\n",
       "      <th>0</th>\n",
       "      <td>aa</td>\n",
       "      <td>Account queries</td>\n",
       "      <td>0.000085</td>\n",
       "    </tr>\n",
       "    <tr>\n",
       "      <th>1</th>\n",
       "      <td>aaaaaand</td>\n",
       "      <td>Account queries</td>\n",
       "      <td>0.000000</td>\n",
       "    </tr>\n",
       "    <tr>\n",
       "      <th>2</th>\n",
       "      <td>aaaand</td>\n",
       "      <td>Account queries</td>\n",
       "      <td>0.000000</td>\n",
       "    </tr>\n",
       "    <tr>\n",
       "      <th>3</th>\n",
       "      <td>aaccess</td>\n",
       "      <td>Account queries</td>\n",
       "      <td>0.000024</td>\n",
       "    </tr>\n",
       "    <tr>\n",
       "      <th>4</th>\n",
       "      <td>aacount</td>\n",
       "      <td>Account queries</td>\n",
       "      <td>0.000322</td>\n",
       "    </tr>\n",
       "    <tr>\n",
       "      <th>...</th>\n",
       "      <td>...</td>\n",
       "      <td>...</td>\n",
       "      <td>...</td>\n",
       "    </tr>\n",
       "    <tr>\n",
       "      <th>65250</th>\n",
       "      <td>zloty</td>\n",
       "      <td>Contact support</td>\n",
       "      <td>0.000000</td>\n",
       "    </tr>\n",
       "    <tr>\n",
       "      <th>65251</th>\n",
       "      <td>zone</td>\n",
       "      <td>Contact support</td>\n",
       "      <td>0.000000</td>\n",
       "    </tr>\n",
       "    <tr>\n",
       "      <th>65252</th>\n",
       "      <td>zoom</td>\n",
       "      <td>Contact support</td>\n",
       "      <td>0.000000</td>\n",
       "    </tr>\n",
       "    <tr>\n",
       "      <th>65253</th>\n",
       "      <td>zrx</td>\n",
       "      <td>Contact support</td>\n",
       "      <td>0.000000</td>\n",
       "    </tr>\n",
       "    <tr>\n",
       "      <th>65254</th>\n",
       "      <td>zzzz</td>\n",
       "      <td>Contact support</td>\n",
       "      <td>0.000000</td>\n",
       "    </tr>\n",
       "  </tbody>\n",
       "</table>\n",
       "<p>65255 rows × 3 columns</p>\n",
       "</div>"
      ],
      "text/plain": [
       "        word(s)            topic     value\n",
       "0            aa  Account queries  0.000085\n",
       "1      aaaaaand  Account queries  0.000000\n",
       "2        aaaand  Account queries  0.000000\n",
       "3       aaccess  Account queries  0.000024\n",
       "4       aacount  Account queries  0.000322\n",
       "...         ...              ...       ...\n",
       "65250     zloty  Contact support  0.000000\n",
       "65251      zone  Contact support  0.000000\n",
       "65252      zoom  Contact support  0.000000\n",
       "65253       zrx  Contact support  0.000000\n",
       "65254      zzzz  Contact support  0.000000\n",
       "\n",
       "[65255 rows x 3 columns]"
      ]
     },
     "execution_count": 114,
     "metadata": {},
     "output_type": "execute_result"
    }
   ],
   "source": [
    "components_melt = components_df.melt(id_vars = 'index').rename(columns={'index': 'word(s)','variable':'topic'})\n",
    "components_melt"
   ]
  },
  {
   "cell_type": "code",
   "execution_count": 98,
   "metadata": {},
   "outputs": [],
   "source": [
    "components_melt.to_csv('components_melt.csv')"
   ]
  },
  {
   "cell_type": "markdown",
   "metadata": {},
   "source": [
    "### Sentiment analysis"
   ]
  },
  {
   "cell_type": "code",
   "execution_count": 99,
   "metadata": {},
   "outputs": [],
   "source": [
    "sid_obj = SentimentIntensityAnalyzer()\n",
    "sentiment = []\n",
    "for tweet in df_analysis.tweet:\n",
    "    sentiment.append(sid_obj.polarity_scores(tweet))"
   ]
  },
  {
   "cell_type": "code",
   "execution_count": 100,
   "metadata": {},
   "outputs": [
    {
     "data": {
      "text/html": [
       "<div>\n",
       "<style scoped>\n",
       "    .dataframe tbody tr th:only-of-type {\n",
       "        vertical-align: middle;\n",
       "    }\n",
       "\n",
       "    .dataframe tbody tr th {\n",
       "        vertical-align: top;\n",
       "    }\n",
       "\n",
       "    .dataframe thead th {\n",
       "        text-align: right;\n",
       "    }\n",
       "</style>\n",
       "<table border=\"1\" class=\"dataframe\">\n",
       "  <thead>\n",
       "    <tr style=\"text-align: right;\">\n",
       "      <th></th>\n",
       "      <th>neg</th>\n",
       "      <th>neu</th>\n",
       "      <th>pos</th>\n",
       "      <th>compound</th>\n",
       "    </tr>\n",
       "  </thead>\n",
       "  <tbody>\n",
       "    <tr>\n",
       "      <th>0</th>\n",
       "      <td>0.000</td>\n",
       "      <td>0.722</td>\n",
       "      <td>0.278</td>\n",
       "      <td>0.4019</td>\n",
       "    </tr>\n",
       "    <tr>\n",
       "      <th>1</th>\n",
       "      <td>0.329</td>\n",
       "      <td>0.671</td>\n",
       "      <td>0.000</td>\n",
       "      <td>-0.9136</td>\n",
       "    </tr>\n",
       "    <tr>\n",
       "      <th>2</th>\n",
       "      <td>0.138</td>\n",
       "      <td>0.862</td>\n",
       "      <td>0.000</td>\n",
       "      <td>-0.7269</td>\n",
       "    </tr>\n",
       "    <tr>\n",
       "      <th>3</th>\n",
       "      <td>0.000</td>\n",
       "      <td>0.952</td>\n",
       "      <td>0.048</td>\n",
       "      <td>0.2023</td>\n",
       "    </tr>\n",
       "    <tr>\n",
       "      <th>4</th>\n",
       "      <td>0.139</td>\n",
       "      <td>0.696</td>\n",
       "      <td>0.165</td>\n",
       "      <td>-0.1531</td>\n",
       "    </tr>\n",
       "  </tbody>\n",
       "</table>\n",
       "</div>"
      ],
      "text/plain": [
       "     neg    neu    pos  compound\n",
       "0  0.000  0.722  0.278    0.4019\n",
       "1  0.329  0.671  0.000   -0.9136\n",
       "2  0.138  0.862  0.000   -0.7269\n",
       "3  0.000  0.952  0.048    0.2023\n",
       "4  0.139  0.696  0.165   -0.1531"
      ]
     },
     "execution_count": 100,
     "metadata": {},
     "output_type": "execute_result"
    }
   ],
   "source": [
    "sentiment_df = pd.DataFrame(sentiment)\n",
    "sentiment_df.head()"
   ]
  },
  {
   "cell_type": "code",
   "execution_count": 101,
   "metadata": {},
   "outputs": [],
   "source": [
    "merged_df = pd.concat([df_analysis, sentiment_df], axis=1)"
   ]
  },
  {
   "cell_type": "code",
   "execution_count": 102,
   "metadata": {},
   "outputs": [],
   "source": [
    "full_df = pd.concat([df,merged_df],axis=1)"
   ]
  },
  {
   "cell_type": "markdown",
   "metadata": {},
   "source": [
    "### Analysis - high level topics"
   ]
  },
  {
   "cell_type": "code",
   "execution_count": 103,
   "metadata": {},
   "outputs": [],
   "source": [
    "## Add month feature to enable analysis over time\n",
    "full_df['month'] = pd.DatetimeIndex(full_df['date']).month\n",
    "full_df['day'] = pd.DatetimeIndex(full_df['date']).day"
   ]
  },
  {
   "cell_type": "code",
   "execution_count": 104,
   "metadata": {},
   "outputs": [
    {
     "data": {
      "text/html": [
       "<div>\n",
       "<style scoped>\n",
       "    .dataframe tbody tr th:only-of-type {\n",
       "        vertical-align: middle;\n",
       "    }\n",
       "\n",
       "    .dataframe tbody tr th {\n",
       "        vertical-align: top;\n",
       "    }\n",
       "\n",
       "    .dataframe thead th {\n",
       "        text-align: right;\n",
       "    }\n",
       "</style>\n",
       "<table border=\"1\" class=\"dataframe\">\n",
       "  <thead>\n",
       "    <tr style=\"text-align: right;\">\n",
       "      <th></th>\n",
       "      <th>Unnamed: 0</th>\n",
       "      <th>id</th>\n",
       "      <th>conversation_id</th>\n",
       "      <th>created_at</th>\n",
       "      <th>date</th>\n",
       "      <th>time</th>\n",
       "      <th>timezone</th>\n",
       "      <th>user_id</th>\n",
       "      <th>username</th>\n",
       "      <th>tweet</th>\n",
       "      <th>...</th>\n",
       "      <th>username</th>\n",
       "      <th>tweet</th>\n",
       "      <th>tweet_compound</th>\n",
       "      <th>topic</th>\n",
       "      <th>neg</th>\n",
       "      <th>neu</th>\n",
       "      <th>pos</th>\n",
       "      <th>compound</th>\n",
       "      <th>month</th>\n",
       "      <th>day</th>\n",
       "    </tr>\n",
       "  </thead>\n",
       "  <tbody>\n",
       "    <tr>\n",
       "      <th>77918</th>\n",
       "      <td>187302</td>\n",
       "      <td>1243121772674912256</td>\n",
       "      <td>1243121772674912256</td>\n",
       "      <td>2020-03-26 06:25:01 EDT</td>\n",
       "      <td>2020-03-26</td>\n",
       "      <td>06:25:01</td>\n",
       "      <td>-500</td>\n",
       "      <td>351257711</td>\n",
       "      <td>timhc22</td>\n",
       "      <td>not really many perks available to be used at the moment might just make it if covid finishes in months</td>\n",
       "      <td>...</td>\n",
       "      <td>timhc22</td>\n",
       "      <td>not really many perks available to be used at the moment might just make it if covid finishes in months</td>\n",
       "      <td>not really many perks available to be used at the moment might just make it if covid finishes in months</td>\n",
       "      <td>2</td>\n",
       "      <td>0.0</td>\n",
       "      <td>1.0</td>\n",
       "      <td>0.0</td>\n",
       "      <td>0.0</td>\n",
       "      <td>3</td>\n",
       "      <td>26</td>\n",
       "    </tr>\n",
       "    <tr>\n",
       "      <th>16994</th>\n",
       "      <td>62811</td>\n",
       "      <td>1321429150314516483</td>\n",
       "      <td>1321397770939412481</td>\n",
       "      <td>2020-10-28 08:30:35 EDT</td>\n",
       "      <td>2020-10-28</td>\n",
       "      <td>08:30:35</td>\n",
       "      <td>-500</td>\n",
       "      <td>725041628948381697</td>\n",
       "      <td>hedihans</td>\n",
       "      <td>a way to transfer crypto out</td>\n",
       "      <td>...</td>\n",
       "      <td>hedihans</td>\n",
       "      <td>a way to transfer crypto out</td>\n",
       "      <td>a way to transfer crypto out</td>\n",
       "      <td>2</td>\n",
       "      <td>0.0</td>\n",
       "      <td>1.0</td>\n",
       "      <td>0.0</td>\n",
       "      <td>0.0</td>\n",
       "      <td>10</td>\n",
       "      <td>28</td>\n",
       "    </tr>\n",
       "  </tbody>\n",
       "</table>\n",
       "<p>2 rows × 34 columns</p>\n",
       "</div>"
      ],
      "text/plain": [
       "       Unnamed: 0                   id      conversation_id  \\\n",
       "77918      187302  1243121772674912256  1243121772674912256   \n",
       "16994       62811  1321429150314516483  1321397770939412481   \n",
       "\n",
       "                    created_at        date      time  timezone  \\\n",
       "77918  2020-03-26 06:25:01 EDT  2020-03-26  06:25:01      -500   \n",
       "16994  2020-10-28 08:30:35 EDT  2020-10-28  08:30:35      -500   \n",
       "\n",
       "                  user_id  username  \\\n",
       "77918           351257711   timhc22   \n",
       "16994  725041628948381697  hedihans   \n",
       "\n",
       "                                                                                                         tweet  \\\n",
       "77918  not really many perks available to be used at the moment might just make it if covid finishes in months   \n",
       "16994                                                                             a way to transfer crypto out   \n",
       "\n",
       "       ...  username  \\\n",
       "77918  ...   timhc22   \n",
       "16994  ...  hedihans   \n",
       "\n",
       "                                                                                                         tweet  \\\n",
       "77918  not really many perks available to be used at the moment might just make it if covid finishes in months   \n",
       "16994                                                                             a way to transfer crypto out   \n",
       "\n",
       "                                                                                                tweet_compound  \\\n",
       "77918  not really many perks available to be used at the moment might just make it if covid finishes in months   \n",
       "16994                                                                             a way to transfer crypto out   \n",
       "\n",
       "      topic  neg  neu  pos compound month day  \n",
       "77918     2  0.0  1.0  0.0      0.0     3  26  \n",
       "16994     2  0.0  1.0  0.0      0.0    10  28  \n",
       "\n",
       "[2 rows x 34 columns]"
      ]
     },
     "metadata": {},
     "output_type": "display_data"
    }
   ],
   "source": [
    "with option_context('display.max_colwidth', 600):\n",
    "    display(full_df[(full_df['topic']==2)].sample(2))"
   ]
  },
  {
   "cell_type": "code",
   "execution_count": 105,
   "metadata": {
    "scrolled": true
   },
   "outputs": [
    {
     "data": {
      "text/plain": [
       "topic  month\n",
       "0      1       -0.013253\n",
       "       2       -0.013951\n",
       "       3       -0.010863\n",
       "       4       -0.012134\n",
       "       5        0.007910\n",
       "       6       -0.045602\n",
       "       7       -0.021706\n",
       "       8       -0.025227\n",
       "       9       -0.005690\n",
       "       10       0.015154\n",
       "       11       0.000724\n",
       "       12       0.018909\n",
       "1      1        0.057885\n",
       "       2        0.063390\n",
       "       3        0.079860\n",
       "       4        0.027052\n",
       "       5        0.054660\n",
       "       6        0.036043\n",
       "       7        0.058974\n",
       "       8        0.071886\n",
       "       9        0.041276\n",
       "       10       0.069149\n",
       "       11       0.040215\n",
       "       12       0.055014\n",
       "2      1        0.124337\n",
       "       2        0.173101\n",
       "       3        0.155744\n",
       "       4        0.115257\n",
       "       5        0.112584\n",
       "       6        0.067807\n",
       "       7        0.158784\n",
       "       8        0.091477\n",
       "       9        0.122732\n",
       "       10       0.137600\n",
       "       11       0.063308\n",
       "       12       0.156095\n",
       "3      1       -0.064614\n",
       "       2       -0.059314\n",
       "       3       -0.003534\n",
       "       4       -0.072334\n",
       "       5       -0.097232\n",
       "       6       -0.093510\n",
       "       7       -0.058839\n",
       "       8       -0.075199\n",
       "       9       -0.083346\n",
       "       10      -0.025660\n",
       "       11      -0.076592\n",
       "       12      -0.049407\n",
       "4      1        0.260621\n",
       "       2        0.273253\n",
       "       3        0.286347\n",
       "       4        0.267804\n",
       "       5        0.251425\n",
       "       6        0.246363\n",
       "       7        0.274266\n",
       "       8        0.279123\n",
       "       9        0.276930\n",
       "       10       0.286814\n",
       "       11       0.286519\n",
       "       12       0.295040\n",
       "Name: compound, dtype: float64"
      ]
     },
     "execution_count": 105,
     "metadata": {},
     "output_type": "execute_result"
    }
   ],
   "source": [
    "full_df.groupby(['topic','month'])['compound'].mean()"
   ]
  },
  {
   "cell_type": "code",
   "execution_count": 106,
   "metadata": {
    "scrolled": true
   },
   "outputs": [
    {
     "data": {
      "text/plain": [
       "topic\n",
       "0    15535\n",
       "1    26052\n",
       "2    24746\n",
       "3    15487\n",
       "4    14626\n",
       "Name: topic, dtype: int64"
      ]
     },
     "execution_count": 106,
     "metadata": {},
     "output_type": "execute_result"
    }
   ],
   "source": [
    "full_df.groupby('topic')['topic'].count()"
   ]
  },
  {
   "cell_type": "code",
   "execution_count": 107,
   "metadata": {},
   "outputs": [
    {
     "data": {
      "text/plain": [
       "(96446, 34)"
      ]
     },
     "execution_count": 107,
     "metadata": {},
     "output_type": "execute_result"
    }
   ],
   "source": [
    "full_df.shape"
   ]
  },
  {
   "cell_type": "code",
   "execution_count": 108,
   "metadata": {},
   "outputs": [],
   "source": [
    "# full_df.to_csv('check.csv')"
   ]
  },
  {
   "cell_type": "code",
   "execution_count": 109,
   "metadata": {},
   "outputs": [],
   "source": [
    "## Export to csv for Tableau analysis\n",
    "full_df.to_csv('datatableau.csv')"
   ]
  },
  {
   "cell_type": "code",
   "execution_count": 110,
   "metadata": {},
   "outputs": [],
   "source": [
    "# charles94240716"
   ]
  },
  {
   "cell_type": "markdown",
   "metadata": {},
   "source": [
    "### TFI-DF"
   ]
  },
  {
   "cell_type": "code",
   "execution_count": 111,
   "metadata": {},
   "outputs": [],
   "source": [
    "# function to display top n terms associated with each topic\n",
    "\n",
    "def display_topics(model, feature_names, no_top_words, topic_names=None):\n",
    "    for ix, topic in enumerate(model.components_):\n",
    "        if not topic_names or not topic_names[ix]:\n",
    "            print(\"\\nTopic \", ix)\n",
    "        else:\n",
    "            print(\"\\nTopic: '\",topic_names[ix],\"'\")\n",
    "        print(\", \".join([feature_names[i]\n",
    "                        for i in topic.argsort()[:-no_top_words - 1:-1]]))"
   ]
  },
  {
   "cell_type": "code",
   "execution_count": 112,
   "metadata": {},
   "outputs": [
    {
     "name": "stderr",
     "output_type": "stream",
     "text": [
      "/Users/tawneykirkland/opt/anaconda3/lib/python3.8/site-packages/sklearn/feature_extraction/text.py:383: UserWarning: Your stop_words may be inconsistent with your preprocessing. Tokenizing the stop words generated tokens [\"'d\", \"'ll\", \"'re\", \"'s\", \"'ve\", 'course', \"n't\", 'sha', 'wo', 'would'] not in stop_words.\n",
      "  warnings.warn('Your stop_words may be inconsistent with '\n"
     ]
    },
    {
     "name": "stdout",
     "output_type": "stream",
     "text": [
      "(96446, 14482)\n"
     ]
    }
   ],
   "source": [
    "# tuning vectorizer params\n",
    "tf_idf = TfidfVectorizer(stop_words=stop,\n",
    "                         tokenizer=word_tokenize,\n",
    "                         min_df= 2,\n",
    "                         max_df= 0.9)\n",
    "\n",
    "# document-term matrix\n",
    "doc_word2 = tf_idf.fit_transform(df_analysis.tweet_compound)\n",
    "print(doc_word2.shape)"
   ]
  },
  {
   "cell_type": "code",
   "execution_count": 113,
   "metadata": {
    "scrolled": true
   },
   "outputs": [
    {
     "name": "stdout",
     "output_type": "stream",
     "text": [
      "\n",
      "Topic  0\n",
      "account, days, months, weeks, funds\n",
      "\n",
      "Topic  1\n",
      "help, live, verification, login, asap\n",
      "\n",
      "Topic  2\n",
      "app, phone, working, login, open\n",
      "\n",
      "Topic  3\n",
      "money, days, send, months, weeks\n",
      "\n",
      "Topic  4\n",
      "revolut, crypto, would, customerservice, team\n"
     ]
    }
   ],
   "source": [
    "n = 5 # number of topics\n",
    "\n",
    "# model selection, fit/trans, and hyperparameter tuning\n",
    "nmf_model_2 = NMF(n_components =n)\n",
    "\n",
    "# doc-topic matrix\n",
    "doc_topic2 = nmf_model_2.fit_transform(doc_word2)\n",
    "\n",
    "# creating ids for each topic\n",
    "topic_ids2 = [\"topic\"+str(val) for val in range(n)]\n",
    "\n",
    "# topic-term matrix\n",
    "topic_word2 = pd.DataFrame(nmf_model_2.components_.round(n),\n",
    "             index = topic_ids2,\n",
    "             columns = tf_idf.get_feature_names())\n",
    "\n",
    "# prints top x words in each topic\n",
    "display_topics(nmf_model_2, \n",
    "               tf_idf.get_feature_names(), \n",
    "               5) # number of top words/topic"
   ]
  },
  {
   "cell_type": "markdown",
   "metadata": {},
   "source": [
    "### Fix split of data"
   ]
  },
  {
   "cell_type": "code",
   "execution_count": 31,
   "metadata": {},
   "outputs": [],
   "source": [
    "# df_intent = pd.read_csv('training_base.csv',\n",
    "#                        usecols = ['username','tweet','intent'])\n",
    "\n",
    "# def remove_space(text):\n",
    "#     text = text.strip()\n",
    "#     text = re.sub(\"\\s\\s+\", \" \", text)\n",
    "#     return text\n",
    "    \n",
    "# df_intent['tweet'] = df_intent.tweet.map(remove_space)\n",
    "# merged_df['tweet'] = merged_df.tweet.map(remove_space)"
   ]
  },
  {
   "cell_type": "code",
   "execution_count": 32,
   "metadata": {},
   "outputs": [
    {
     "data": {
      "text/html": [
       "<div>\n",
       "<style scoped>\n",
       "    .dataframe tbody tr th:only-of-type {\n",
       "        vertical-align: middle;\n",
       "    }\n",
       "\n",
       "    .dataframe tbody tr th {\n",
       "        vertical-align: top;\n",
       "    }\n",
       "\n",
       "    .dataframe thead th {\n",
       "        text-align: right;\n",
       "    }\n",
       "</style>\n",
       "<table border=\"1\" class=\"dataframe\">\n",
       "  <thead>\n",
       "    <tr style=\"text-align: right;\">\n",
       "      <th></th>\n",
       "      <th>username</th>\n",
       "      <th>tweet</th>\n",
       "      <th>tweet_compound</th>\n",
       "      <th>topic</th>\n",
       "      <th>neg</th>\n",
       "      <th>neu</th>\n",
       "      <th>pos</th>\n",
       "      <th>compound</th>\n",
       "    </tr>\n",
       "  </thead>\n",
       "  <tbody>\n",
       "    <tr>\n",
       "      <th>0</th>\n",
       "      <td>richard64637000</td>\n",
       "      <td>i need help with account verification skaterbo...</td>\n",
       "      <td>i need help with account verification skaterbo...</td>\n",
       "      <td>4</td>\n",
       "      <td>0.000</td>\n",
       "      <td>0.722</td>\n",
       "      <td>0.278</td>\n",
       "      <td>0.4019</td>\n",
       "    </tr>\n",
       "    <tr>\n",
       "      <th>1</th>\n",
       "      <td>darley_darren</td>\n",
       "      <td>your agents are beyond useless lied to me and ...</td>\n",
       "      <td>your agents are beyond useless lied to me and ...</td>\n",
       "      <td>4</td>\n",
       "      <td>0.329</td>\n",
       "      <td>0.671</td>\n",
       "      <td>0.000</td>\n",
       "      <td>-0.9136</td>\n",
       "    </tr>\n",
       "    <tr>\n",
       "      <th>2</th>\n",
       "      <td>darley_darren</td>\n",
       "      <td>nd time revolut put me in a bad position and h...</td>\n",
       "      <td>nd time revolut put me in a bad position and h...</td>\n",
       "      <td>2</td>\n",
       "      <td>0.138</td>\n",
       "      <td>0.862</td>\n",
       "      <td>0.000</td>\n",
       "      <td>-0.7269</td>\n",
       "    </tr>\n",
       "    <tr>\n",
       "      <th>3</th>\n",
       "      <td>aoife_galvin</td>\n",
       "      <td>how can i talk to someone about currency excha...</td>\n",
       "      <td>how can i talk to someone about currency excha...</td>\n",
       "      <td>1</td>\n",
       "      <td>0.000</td>\n",
       "      <td>0.952</td>\n",
       "      <td>0.048</td>\n",
       "      <td>0.2023</td>\n",
       "    </tr>\n",
       "    <tr>\n",
       "      <th>4</th>\n",
       "      <td>cian47477384</td>\n",
       "      <td>how do i change my number if ive no access to ...</td>\n",
       "      <td>how do i change my number if ive no access to ...</td>\n",
       "      <td>1</td>\n",
       "      <td>0.139</td>\n",
       "      <td>0.696</td>\n",
       "      <td>0.165</td>\n",
       "      <td>-0.1531</td>\n",
       "    </tr>\n",
       "    <tr>\n",
       "      <th>...</th>\n",
       "      <td>...</td>\n",
       "      <td>...</td>\n",
       "      <td>...</td>\n",
       "      <td>...</td>\n",
       "      <td>...</td>\n",
       "      <td>...</td>\n",
       "      <td>...</td>\n",
       "      <td>...</td>\n",
       "    </tr>\n",
       "    <tr>\n",
       "      <th>97060</th>\n",
       "      <td>cristinayo12</td>\n",
       "      <td>omg months mine is locked for months and im tr...</td>\n",
       "      <td>omg months mine is lock for months and im tryi...</td>\n",
       "      <td>1</td>\n",
       "      <td>0.133</td>\n",
       "      <td>0.867</td>\n",
       "      <td>0.000</td>\n",
       "      <td>-0.3818</td>\n",
       "    </tr>\n",
       "    <tr>\n",
       "      <th>97061</th>\n",
       "      <td>towerspro</td>\n",
       "      <td>my account has been hacked and i cant contact ...</td>\n",
       "      <td>my account has been hacked and i cant contact ...</td>\n",
       "      <td>0</td>\n",
       "      <td>0.137</td>\n",
       "      <td>0.863</td>\n",
       "      <td>0.000</td>\n",
       "      <td>-0.4019</td>\n",
       "    </tr>\n",
       "    <tr>\n",
       "      <th>97062</th>\n",
       "      <td>zlymeda</td>\n",
       "      <td>good for you i was not even contacted via inap...</td>\n",
       "      <td>good for you i was not even contacted via inap...</td>\n",
       "      <td>0</td>\n",
       "      <td>0.085</td>\n",
       "      <td>0.855</td>\n",
       "      <td>0.060</td>\n",
       "      <td>-0.2144</td>\n",
       "    </tr>\n",
       "    <tr>\n",
       "      <th>97063</th>\n",
       "      <td>_saulmm</td>\n",
       "      <td>after sending them a bunch of documents they u...</td>\n",
       "      <td>after sending them a bunch of documents they l...</td>\n",
       "      <td>0</td>\n",
       "      <td>0.000</td>\n",
       "      <td>0.896</td>\n",
       "      <td>0.104</td>\n",
       "      <td>0.2732</td>\n",
       "    </tr>\n",
       "    <tr>\n",
       "      <th>97064</th>\n",
       "      <td>educatedk7</td>\n",
       "      <td>hey revolut you need to improve the gps tracki...</td>\n",
       "      <td>hey revolut you need to improve the gps tracki...</td>\n",
       "      <td>2</td>\n",
       "      <td>0.000</td>\n",
       "      <td>0.853</td>\n",
       "      <td>0.147</td>\n",
       "      <td>0.6908</td>\n",
       "    </tr>\n",
       "  </tbody>\n",
       "</table>\n",
       "<p>97065 rows × 8 columns</p>\n",
       "</div>"
      ],
      "text/plain": [
       "              username                                              tweet  \\\n",
       "0      richard64637000  i need help with account verification skaterbo...   \n",
       "1        darley_darren  your agents are beyond useless lied to me and ...   \n",
       "2        darley_darren  nd time revolut put me in a bad position and h...   \n",
       "3         aoife_galvin  how can i talk to someone about currency excha...   \n",
       "4         cian47477384  how do i change my number if ive no access to ...   \n",
       "...                ...                                                ...   \n",
       "97060     cristinayo12  omg months mine is locked for months and im tr...   \n",
       "97061        towerspro  my account has been hacked and i cant contact ...   \n",
       "97062          zlymeda  good for you i was not even contacted via inap...   \n",
       "97063          _saulmm  after sending them a bunch of documents they u...   \n",
       "97064       educatedk7  hey revolut you need to improve the gps tracki...   \n",
       "\n",
       "                                          tweet_compound  topic    neg    neu  \\\n",
       "0      i need help with account verification skaterbo...      4  0.000  0.722   \n",
       "1      your agents are beyond useless lied to me and ...      4  0.329  0.671   \n",
       "2      nd time revolut put me in a bad position and h...      2  0.138  0.862   \n",
       "3      how can i talk to someone about currency excha...      1  0.000  0.952   \n",
       "4      how do i change my number if ive no access to ...      1  0.139  0.696   \n",
       "...                                                  ...    ...    ...    ...   \n",
       "97060  omg months mine is lock for months and im tryi...      1  0.133  0.867   \n",
       "97061  my account has been hacked and i cant contact ...      0  0.137  0.863   \n",
       "97062  good for you i was not even contacted via inap...      0  0.085  0.855   \n",
       "97063  after sending them a bunch of documents they l...      0  0.000  0.896   \n",
       "97064  hey revolut you need to improve the gps tracki...      2  0.000  0.853   \n",
       "\n",
       "         pos  compound  \n",
       "0      0.278    0.4019  \n",
       "1      0.000   -0.9136  \n",
       "2      0.000   -0.7269  \n",
       "3      0.048    0.2023  \n",
       "4      0.165   -0.1531  \n",
       "...      ...       ...  \n",
       "97060  0.000   -0.3818  \n",
       "97061  0.000   -0.4019  \n",
       "97062  0.060   -0.2144  \n",
       "97063  0.104    0.2732  \n",
       "97064  0.147    0.6908  \n",
       "\n",
       "[97065 rows x 8 columns]"
      ]
     },
     "execution_count": 32,
     "metadata": {},
     "output_type": "execute_result"
    }
   ],
   "source": [
    "merged_df"
   ]
  },
  {
   "cell_type": "code",
   "execution_count": 33,
   "metadata": {},
   "outputs": [],
   "source": [
    "# merged_df['key'] = merged_df['username'] + merged_df['tweet']\n",
    "# d = merged_df[~merged_df['key'].isin(df_intent['username'] + df_intent['tweet'])].drop(['key'], axis=1)"
   ]
  },
  {
   "cell_type": "code",
   "execution_count": 34,
   "metadata": {},
   "outputs": [],
   "source": [
    "# tr1, test1 = train_test_split(d,train_size=200,random_state=10)"
   ]
  },
  {
   "cell_type": "code",
   "execution_count": 35,
   "metadata": {},
   "outputs": [
    {
     "data": {
      "text/html": [
       "<div>\n",
       "<style scoped>\n",
       "    .dataframe tbody tr th:only-of-type {\n",
       "        vertical-align: middle;\n",
       "    }\n",
       "\n",
       "    .dataframe tbody tr th {\n",
       "        vertical-align: top;\n",
       "    }\n",
       "\n",
       "    .dataframe thead th {\n",
       "        text-align: right;\n",
       "    }\n",
       "</style>\n",
       "<table border=\"1\" class=\"dataframe\">\n",
       "  <thead>\n",
       "    <tr style=\"text-align: right;\">\n",
       "      <th></th>\n",
       "      <th>username</th>\n",
       "      <th>tweet</th>\n",
       "      <th>tweet_compound</th>\n",
       "      <th>topic</th>\n",
       "      <th>neg</th>\n",
       "      <th>neu</th>\n",
       "      <th>pos</th>\n",
       "      <th>compound</th>\n",
       "    </tr>\n",
       "  </thead>\n",
       "  <tbody>\n",
       "    <tr>\n",
       "      <th>623</th>\n",
       "      <td>riaz65257734</td>\n",
       "      <td>can you help me get my money from revolut</td>\n",
       "      <td>can you help me get my money from revolut</td>\n",
       "      <td>4</td>\n",
       "      <td>0.000</td>\n",
       "      <td>0.748</td>\n",
       "      <td>0.252</td>\n",
       "      <td>0.4019</td>\n",
       "    </tr>\n",
       "    <tr>\n",
       "      <th>39752</th>\n",
       "      <td>denieseday</td>\n",
       "      <td>i cant log in either i can put my phone number...</td>\n",
       "      <td>i cant log in either i can put my phonenumber ...</td>\n",
       "      <td>1</td>\n",
       "      <td>0.000</td>\n",
       "      <td>0.905</td>\n",
       "      <td>0.095</td>\n",
       "      <td>0.2144</td>\n",
       "    </tr>\n",
       "    <tr>\n",
       "      <th>24780</th>\n",
       "      <td>manshuag</td>\n",
       "      <td>ive had the same issue i have k stuck in a bus...</td>\n",
       "      <td>ive had the same issue i have k stuck in a bud...</td>\n",
       "      <td>3</td>\n",
       "      <td>0.125</td>\n",
       "      <td>0.839</td>\n",
       "      <td>0.035</td>\n",
       "      <td>-0.5152</td>\n",
       "    </tr>\n",
       "    <tr>\n",
       "      <th>72773</th>\n",
       "      <td>princetubby01</td>\n",
       "      <td>and it goes quiet terrible support everywhere</td>\n",
       "      <td>and it goes quiet terrible support everywhere</td>\n",
       "      <td>1</td>\n",
       "      <td>0.287</td>\n",
       "      <td>0.463</td>\n",
       "      <td>0.250</td>\n",
       "      <td>-0.1027</td>\n",
       "    </tr>\n",
       "    <tr>\n",
       "      <th>76482</th>\n",
       "      <td>abbygreen3</td>\n",
       "      <td>id advise following for advice on good banksac...</td>\n",
       "      <td>id advise following for advice on good banksac...</td>\n",
       "      <td>1</td>\n",
       "      <td>0.000</td>\n",
       "      <td>0.811</td>\n",
       "      <td>0.189</td>\n",
       "      <td>0.4939</td>\n",
       "    </tr>\n",
       "    <tr>\n",
       "      <th>...</th>\n",
       "      <td>...</td>\n",
       "      <td>...</td>\n",
       "      <td>...</td>\n",
       "      <td>...</td>\n",
       "      <td>...</td>\n",
       "      <td>...</td>\n",
       "      <td>...</td>\n",
       "      <td>...</td>\n",
       "    </tr>\n",
       "    <tr>\n",
       "      <th>73101</th>\n",
       "      <td>elenidamis</td>\n",
       "      <td>i just did and of course no reply whatsoever i...</td>\n",
       "      <td>i just did and of course no reply whatsoever i...</td>\n",
       "      <td>4</td>\n",
       "      <td>0.136</td>\n",
       "      <td>0.864</td>\n",
       "      <td>0.000</td>\n",
       "      <td>-0.2960</td>\n",
       "    </tr>\n",
       "    <tr>\n",
       "      <th>35993</th>\n",
       "      <td>carlestt</td>\n",
       "      <td>how can i change my phone if i get an sms in m...</td>\n",
       "      <td>how can i change my phone if i get an sms in m...</td>\n",
       "      <td>1</td>\n",
       "      <td>0.102</td>\n",
       "      <td>0.837</td>\n",
       "      <td>0.060</td>\n",
       "      <td>-0.2263</td>\n",
       "    </tr>\n",
       "    <tr>\n",
       "      <th>32176</th>\n",
       "      <td>z3kron_</td>\n",
       "      <td>nah it was when i actually had an office</td>\n",
       "      <td>nah it was when i actually had an office</td>\n",
       "      <td>2</td>\n",
       "      <td>0.149</td>\n",
       "      <td>0.851</td>\n",
       "      <td>0.000</td>\n",
       "      <td>-0.1027</td>\n",
       "    </tr>\n",
       "    <tr>\n",
       "      <th>12965</th>\n",
       "      <td>aaronmccarthy33</td>\n",
       "      <td>any idea why i tried to take out euro from my ...</td>\n",
       "      <td>any idea why i tried to take out euro from my ...</td>\n",
       "      <td>3</td>\n",
       "      <td>0.064</td>\n",
       "      <td>0.936</td>\n",
       "      <td>0.000</td>\n",
       "      <td>-0.4215</td>\n",
       "    </tr>\n",
       "    <tr>\n",
       "      <th>19202</th>\n",
       "      <td>marcogsyhk</td>\n",
       "      <td>if you dont give users their private keys do t...</td>\n",
       "      <td>if you dont give users their private keys do t...</td>\n",
       "      <td>1</td>\n",
       "      <td>0.000</td>\n",
       "      <td>1.000</td>\n",
       "      <td>0.000</td>\n",
       "      <td>0.0000</td>\n",
       "    </tr>\n",
       "  </tbody>\n",
       "</table>\n",
       "<p>92751 rows × 8 columns</p>\n",
       "</div>"
      ],
      "text/plain": [
       "              username                                              tweet  \\\n",
       "623       riaz65257734          can you help me get my money from revolut   \n",
       "39752       denieseday  i cant log in either i can put my phone number...   \n",
       "24780         manshuag  ive had the same issue i have k stuck in a bus...   \n",
       "72773    princetubby01      and it goes quiet terrible support everywhere   \n",
       "76482       abbygreen3  id advise following for advice on good banksac...   \n",
       "...                ...                                                ...   \n",
       "73101       elenidamis  i just did and of course no reply whatsoever i...   \n",
       "35993         carlestt  how can i change my phone if i get an sms in m...   \n",
       "32176          z3kron_           nah it was when i actually had an office   \n",
       "12965  aaronmccarthy33  any idea why i tried to take out euro from my ...   \n",
       "19202       marcogsyhk  if you dont give users their private keys do t...   \n",
       "\n",
       "                                          tweet_compound  topic    neg    neu  \\\n",
       "623            can you help me get my money from revolut      4  0.000  0.748   \n",
       "39752  i cant log in either i can put my phonenumber ...      1  0.000  0.905   \n",
       "24780  ive had the same issue i have k stuck in a bud...      3  0.125  0.839   \n",
       "72773      and it goes quiet terrible support everywhere      1  0.287  0.463   \n",
       "76482  id advise following for advice on good banksac...      1  0.000  0.811   \n",
       "...                                                  ...    ...    ...    ...   \n",
       "73101  i just did and of course no reply whatsoever i...      4  0.136  0.864   \n",
       "35993  how can i change my phone if i get an sms in m...      1  0.102  0.837   \n",
       "32176           nah it was when i actually had an office      2  0.149  0.851   \n",
       "12965  any idea why i tried to take out euro from my ...      3  0.064  0.936   \n",
       "19202  if you dont give users their private keys do t...      1  0.000  1.000   \n",
       "\n",
       "         pos  compound  \n",
       "623    0.252    0.4019  \n",
       "39752  0.095    0.2144  \n",
       "24780  0.035   -0.5152  \n",
       "72773  0.250   -0.1027  \n",
       "76482  0.189    0.4939  \n",
       "...      ...       ...  \n",
       "73101  0.000   -0.2960  \n",
       "35993  0.060   -0.2263  \n",
       "32176  0.000   -0.1027  \n",
       "12965  0.000   -0.4215  \n",
       "19202  0.000    0.0000  \n",
       "\n",
       "[92751 rows x 8 columns]"
      ]
     },
     "execution_count": 35,
     "metadata": {},
     "output_type": "execute_result"
    }
   ],
   "source": [
    "#test1"
   ]
  },
  {
   "cell_type": "code",
   "execution_count": 36,
   "metadata": {},
   "outputs": [],
   "source": [
    "# tr1.to_csv('training_8.csv')"
   ]
  },
  {
   "cell_type": "code",
   "execution_count": 37,
   "metadata": {},
   "outputs": [],
   "source": [
    "# test1.to_csv('testing_base.csv')"
   ]
  },
  {
   "cell_type": "code",
   "execution_count": 38,
   "metadata": {},
   "outputs": [],
   "source": [
    "#tr2, test2 = train_test_split(test1,train_size=300,random_state=10)"
   ]
  },
  {
   "cell_type": "code",
   "execution_count": 39,
   "metadata": {},
   "outputs": [],
   "source": [
    "# tr2.to_csv('training_9.csv')"
   ]
  },
  {
   "cell_type": "code",
   "execution_count": null,
   "metadata": {},
   "outputs": [],
   "source": []
  }
 ],
 "metadata": {
  "kernelspec": {
   "display_name": "Python 3",
   "language": "python",
   "name": "python3"
  },
  "language_info": {
   "codemirror_mode": {
    "name": "ipython",
    "version": 3
   },
   "file_extension": ".py",
   "mimetype": "text/x-python",
   "name": "python",
   "nbconvert_exporter": "python",
   "pygments_lexer": "ipython3",
   "version": "3.8.5"
  }
 },
 "nbformat": 4,
 "nbformat_minor": 4
}
