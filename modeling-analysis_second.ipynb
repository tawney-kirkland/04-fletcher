{
 "cells": [
  {
   "cell_type": "code",
   "execution_count": 85,
   "metadata": {},
   "outputs": [],
   "source": [
    "import pandas as pd\n",
    "from pandas import option_context\n",
    "import numpy as np\n",
    "import re\n",
    "\n",
    "from sklearn.model_selection import train_test_split\n",
    "from sklearn.feature_extraction.text import CountVectorizer, TfidfVectorizer\n",
    "from sklearn.decomposition import NMF\n",
    "\n",
    "import nltk\n",
    "from nltk.corpus import stopwords\n",
    "from nltk.tokenize import MWETokenizer\n",
    "from nltk.tokenize import word_tokenize\n",
    "from nltk.tag import pos_tag\n",
    "from nltk.stem import WordNetLemmatizer \n",
    "\n",
    "from vaderSentiment.vaderSentiment import SentimentIntensityAnalyzer \n",
    "\n",
    "from collections import Counter\n",
    "\n",
    "from textblob import TextBlob"
   ]
  },
  {
   "cell_type": "markdown",
   "metadata": {},
   "source": [
    "## This is the main notebook for topic modeling and sentiment analysis (version 2)"
   ]
  },
  {
   "cell_type": "code",
   "execution_count": 2,
   "metadata": {
    "scrolled": true
   },
   "outputs": [
    {
     "data": {
      "text/plain": [
       "(97065, 24)"
      ]
     },
     "execution_count": 2,
     "metadata": {},
     "output_type": "execute_result"
    }
   ],
   "source": [
    "df = pd.read_csv('train.csv')\n",
    "df.dropna(inplace=True)\n",
    "df.reset_index(drop=True,inplace=True)\n",
    "df.shape"
   ]
  },
  {
   "cell_type": "code",
   "execution_count": 3,
   "metadata": {},
   "outputs": [],
   "source": [
    "df_analysis = df[['username','tweet']].copy()\n",
    "df_analysis.dropna(inplace=True)\n",
    "df_analysis.reset_index(drop=True,inplace=True)"
   ]
  },
  {
   "cell_type": "markdown",
   "metadata": {},
   "source": [
    "### Count words"
   ]
  },
  {
   "cell_type": "code",
   "execution_count": 118,
   "metadata": {},
   "outputs": [],
   "source": [
    "stop = stopwords.words('english')\n",
    "stop.extend(['hi', 'hey', 'hello','ha', 'followed','wa','dm','dont','cant','wont','get','still','like','need',\n",
    "            'someone','people','im','ive','month','week','day','could','give','want','please','pls','since','one',\n",
    "             'back','thanks','thank','take','doesnt','does', 'might', 'must','lock','access','sent','closed','use',\n",
    "            'u','contact','new','email','time','message','tried','answer','waiting','issue','reason','going',\n",
    "            'work','agent','bank','card','trying','even','every','problem','via','chat','support','log',\n",
    "            'getting','anyone','reply','transfer','nothing'])"
   ]
  },
  {
   "cell_type": "code",
   "execution_count": 119,
   "metadata": {},
   "outputs": [],
   "source": [
    "# # Extend for most common English adverbs\n",
    "\n",
    "stop.extend(['up','so','out','just','now','how','then','more','also','here',\n",
    "            'well','only','very','even','back','there','down','still','in',\n",
    "            'as','to','when','never','really','most','on','why','about','over',\n",
    "            'again','where','right','off','always','today','all','far','long',\n",
    "            'away','yet','often','ever','however','almost','later','much',\n",
    "            'once','least','ago','together','around','already','enough','both',\n",
    "            'maybe','actually','probably','home','of course','perhaps','little',\n",
    "            'else','sometimes','finally','less','better','early','especially',\n",
    "            'either','quite','simply','nearly','soon','certainly','quickly',\n",
    "            'no','recently','before','usually','thus','exactly','hard',\n",
    "            'particularly','pretty','forward','ok','okay','clearly','indeed',\n",
    "            'rather','that','tonight','close','suddenly','best','instead',\n",
    "            'ahead','fast','alone','eventually','directly'])\n",
    "\n",
    "# # Extend for most common irregular verbs (except pay,lose,send,buy,spend)\n",
    "\n",
    "stop.extend(['say','make','go','take','come','see','know','get','got','give',\n",
    "            'find','think','tell','become','show','leave','feel','put','bring',\n",
    "            'begin','keep','hold','write','stand','hear','let','mean','set','meet',\n",
    "            'run','sit','speak','lie','lead','read','grow','fall',\n",
    "            'build','understand','draw','break','cut','rise','drive','wear',\n",
    "            'choose'])\n",
    "\n",
    "# ## Extend for prepositions\n",
    "stop.extend(['without','among'])"
   ]
  },
  {
   "cell_type": "markdown",
   "metadata": {},
   "source": [
    "#### Compounds"
   ]
  },
  {
   "cell_type": "code",
   "execution_count": 6,
   "metadata": {},
   "outputs": [],
   "source": [
    "create_compounds = (lambda x: \n",
    "                 x.replace('debit card', 'debitcard')\n",
    "                 .replace('rainbow card', 'debitcard')\n",
    "                 .replace('bank card', 'debitcard')\n",
    "                 .replace('revolut card', 'debitcard')\n",
    "                 .replace('revcards', 'debitcard')\n",
    "                 .replace('debitcardcrypto', 'debitcard crypto')\n",
    "                 .replace('credit card', 'creditcard')\n",
    "                 .replace('junior card', 'juniorcard')\n",
    "                 .replace('revolut junior', 'juniorcard')\n",
    "                 .replace('revolut youth', 'juniorcard')\n",
    "                 .replace('junior accounts', 'juniorcard')\n",
    "                 .replace('junior account', 'juniorcard')\n",
    "                 .replace('business account', 'budinessaccount')\n",
    "                 .replace('savings account', 'savingsaccount')\n",
    "                 .replace('bank account', 'bankaccount')\n",
    "                 .replace('premium account', 'premiumaccount')\n",
    "                 .replace('revolut premium', 'premiumaccount')\n",
    "                 .replace('premium user', 'premiumaccount')\n",
    "                 .replace('premium plan', 'premiumaccount')\n",
    "                 .replace('premium membership', 'premiumaccount')\n",
    "                 .replace('premium member', 'premiumaccount')\n",
    "                 .replace('premium paid', 'premiumaccount')\n",
    "                 .replace('premium payment', 'premiumaccount')\n",
    "                 .replace('mypremiumaccountworthnothing', 'my premiumaccount worth nothing')\n",
    "                 .replace('premium service', 'premiumaccount service')\n",
    "                 .replace('metal account', 'metalaccount')\n",
    "                 .replace('metal plan', 'metalaccount')\n",
    "                 .replace('metal customer', 'metalaccount')\n",
    "                 .replace('metal card', 'metalaccount')\n",
    "                 .replace('metal customers', 'metalaccount')\n",
    "                 .replace('metal user', 'metalaccount')\n",
    "                 .replace('business bank', 'businessbank')\n",
    "                 .replace('virtual card', 'virtualcard')\n",
    "                 .replace('revolut business', 'revolutbusiness')\n",
    "                 .replace('google pay', 'googlepay')\n",
    "                 .replace('apple pay', 'applepay')\n",
    "                 .replace('apple wallet', 'applepay')\n",
    "                 .replace('applepayment', 'applepay')\n",
    "                 .replace('samsung pay', 'samsungpay')\n",
    "                 .replace('cryptocurrency', 'crypto')\n",
    "                 .replace('cryptorelated', 'crypto related')\n",
    "                 .replace('cryptofriendly', 'crypto friendly')\n",
    "                 .replace('criptos', 'crypto')\n",
    "                 .replace('cripto', 'crypto')\n",
    "                 .replace('cryptos', 'crypto')\n",
    "                 .replace('cryptoasset', 'crypto')\n",
    "                 .replace('doge coin', 'crypto')\n",
    "                 .replace(' doge ', ' crypto ')\n",
    "                 .replace('customer service', 'customerservice')\n",
    "                 .replace('supoort', 'support')\n",
    "                 .replace('customer support', 'customerservice')\n",
    "                 .replace(' cs ', ' customerservice ')\n",
    "                 .replace('phone number', 'phonenumber')\n",
    "                 .replace('social media', 'socialmedia')\n",
    "                 .replace('app chat', 'appchat')\n",
    "                 .replace('challenger bank', 'fintech')\n",
    "                 .replace('challengerbank', 'fintech')\n",
    "                 .replace('neobanking', 'fintech')\n",
    "                 .replace('neobanks', 'fintech')\n",
    "                 .replace('neobank', 'fintech')\n",
    "                 .replace('transferthis', 'transfer')\n",
    "                 .replace('application', 'app')\n",
    "                 .replace('locked', 'lock')\n",
    "                 .replace('unlock', 'lock')\n",
    "                 .replace('block', 'lock')\n",
    "                 .replace('dark mode', 'darkmode')\n",
    "                 .replace('dark theme', 'darkmode')\n",
    "                 .replace('xfers', 'transfer')\n",
    "                 .replace('xfer', 'transfer'))\n",
    "\n",
    "\n",
    "df_analysis['tweet_compound'] = df_analysis.tweet.map(create_compounds)"
   ]
  },
  {
   "cell_type": "markdown",
   "metadata": {},
   "source": [
    "#### Count"
   ]
  },
  {
   "cell_type": "code",
   "execution_count": 7,
   "metadata": {},
   "outputs": [],
   "source": [
    "counter = Counter()\n",
    "lemma = nltk.stem.WordNetLemmatizer()\n",
    "\n",
    "for tweet in df_analysis['tweet_compound']:\n",
    "    tweet = lemma.lemmatize(tweet)\n",
    "    tweet = TextBlob(tweet).words  # tokenize words\n",
    "    tweet = [w for w in tweet if w not in stop]\n",
    "\n",
    "    counter += Counter(tweet)"
   ]
  },
  {
   "cell_type": "code",
   "execution_count": 8,
   "metadata": {},
   "outputs": [
    {
     "data": {
      "text/plain": [
       "32671"
      ]
     },
     "execution_count": 8,
     "metadata": {},
     "output_type": "execute_result"
    }
   ],
   "source": [
    "len(counter)"
   ]
  },
  {
   "cell_type": "code",
   "execution_count": 9,
   "metadata": {
    "scrolled": true
   },
   "outputs": [
    {
     "name": "stdout",
     "output_type": "stream",
     "text": [
      "             account 28816\n",
      "             revolut 16940\n",
      "                 app 16176\n",
      "               money 15512\n",
      "                help 12066\n",
      "                chat 7708\n",
      "             support 5474\n",
      "                days 5365\n",
      "               would 4011\n",
      "              months 3512\n"
     ]
    }
   ],
   "source": [
    "for phrase, count in counter.most_common(10):\n",
    "    print('%20s %i' % (\"\".join(phrase), count))"
   ]
  },
  {
   "cell_type": "markdown",
   "metadata": {},
   "source": [
    "### Topic modeling"
   ]
  },
  {
   "cell_type": "code",
   "execution_count": 120,
   "metadata": {},
   "outputs": [
    {
     "name": "stderr",
     "output_type": "stream",
     "text": [
      "/Users/tawneykirkland/opt/anaconda3/lib/python3.8/site-packages/sklearn/feature_extraction/text.py:383: UserWarning: Your stop_words may be inconsistent with your preprocessing. Tokenizing the stop words generated tokens [\"'d\", \"'ll\", \"'re\", \"'s\", \"'ve\", 'course', 'doe', 'le', \"n't\", 'sha', 'wo', 'would'] not in stop_words.\n",
      "  warnings.warn('Your stop_words may be inconsistent with '\n"
     ]
    },
    {
     "data": {
      "text/plain": [
       "(97065, 13088)"
      ]
     },
     "execution_count": 120,
     "metadata": {},
     "output_type": "execute_result"
    }
   ],
   "source": [
    "class LemmaTokenizer(object):\n",
    "    def __init__(self):\n",
    "        self.wnl = WordNetLemmatizer()\n",
    "    def __call__(self, articles):\n",
    "        return [self.wnl.lemmatize(t) for t in word_tokenize(articles)]\n",
    "    \n",
    "vectorizer = CountVectorizer(tokenizer = LemmaTokenizer(),\n",
    "                              stop_words = stop,\n",
    "                              min_df=2,\n",
    "                              max_df = 0.9)\n",
    "\n",
    "doc_word = vectorizer.fit_transform(df_analysis.tweet_compound)\n",
    "doc_word.shape"
   ]
  },
  {
   "cell_type": "code",
   "execution_count": 121,
   "metadata": {},
   "outputs": [
    {
     "data": {
      "text/plain": [
       "(97065, 5)"
      ]
     },
     "execution_count": 121,
     "metadata": {},
     "output_type": "execute_result"
    }
   ],
   "source": [
    "nmf_model = NMF(5)\n",
    "doc_topic = nmf_model.fit_transform(doc_word)\n",
    "doc_topic.shape"
   ]
  },
  {
   "cell_type": "code",
   "execution_count": 122,
   "metadata": {},
   "outputs": [
    {
     "data": {
      "text/plain": [
       "(5, 13088)"
      ]
     },
     "execution_count": 122,
     "metadata": {},
     "output_type": "execute_result"
    }
   ],
   "source": [
    "topic_word = nmf_model.components_\n",
    "topic_word.shape"
   ]
  },
  {
   "cell_type": "code",
   "execution_count": 123,
   "metadata": {},
   "outputs": [
    {
     "data": {
      "text/plain": [
       "[['account', 'fund', 'document', 'open', 'customerservice', 'information'],\n",
       " ['app', 'phone', 'update', 'id', 'working', 'login'],\n",
       " ['revolut', 'crypto', 'customer', 'child', 'fintech', 'payment'],\n",
       " ['money', 'send', 'pay', 'bankaccount', 'lost', 'transferred'],\n",
       " ['help', 'live', 'phone', 'hour', 'number', 'verify']]"
      ]
     },
     "execution_count": 123,
     "metadata": {},
     "output_type": "execute_result"
    }
   ],
   "source": [
    "words = vectorizer.get_feature_names()\n",
    "t = nmf_model.components_.argsort(axis=1)[:,-1:-7:-1]\n",
    "topic_words = [[words[e] for e in l] for l in t]\n",
    "topic_words"
   ]
  },
  {
   "cell_type": "markdown",
   "metadata": {},
   "source": [
    "- Component 0 (topic 1) seems to be about account queries\n",
    "- Component 1 (topic 2) seems to be about app-related queries\n",
    "- Component 2 (topic 3) seems to be about fintech innovations\n",
    "- Component 3 (topic 4) is about transfers and not being able to access accounts / money\n",
    "- Component 4 (topic 5) is about general requests for support"
   ]
  },
  {
   "cell_type": "code",
   "execution_count": 124,
   "metadata": {},
   "outputs": [],
   "source": [
    "df_analysis['topic'] = doc_topic.argmax(axis=1)"
   ]
  },
  {
   "cell_type": "code",
   "execution_count": 125,
   "metadata": {
    "scrolled": true
   },
   "outputs": [
    {
     "data": {
      "text/html": [
       "<div>\n",
       "<style scoped>\n",
       "    .dataframe tbody tr th:only-of-type {\n",
       "        vertical-align: middle;\n",
       "    }\n",
       "\n",
       "    .dataframe tbody tr th {\n",
       "        vertical-align: top;\n",
       "    }\n",
       "\n",
       "    .dataframe thead th {\n",
       "        text-align: right;\n",
       "    }\n",
       "</style>\n",
       "<table border=\"1\" class=\"dataframe\">\n",
       "  <thead>\n",
       "    <tr style=\"text-align: right;\">\n",
       "      <th></th>\n",
       "      <th>username</th>\n",
       "      <th>tweet</th>\n",
       "      <th>tweet_compound</th>\n",
       "      <th>topic</th>\n",
       "    </tr>\n",
       "  </thead>\n",
       "  <tbody>\n",
       "    <tr>\n",
       "      <th>89581</th>\n",
       "      <td>s3ran0</td>\n",
       "      <td>i was requested to verify my funds i submitted all the necessary information and there is no reponse</td>\n",
       "      <td>i was requested to verify my funds i submitted all the necessary information and there is no reponse</td>\n",
       "      <td>0</td>\n",
       "    </tr>\n",
       "    <tr>\n",
       "      <th>92225</th>\n",
       "      <td>nizamaniasfand</td>\n",
       "      <td>kindly dm me i am facing issues since last days and support chat didnt reply</td>\n",
       "      <td>kindly dm me i am facing issues since last days and support chat didnt reply</td>\n",
       "      <td>1</td>\n",
       "    </tr>\n",
       "    <tr>\n",
       "      <th>16412</th>\n",
       "      <td>saraahowens</td>\n",
       "      <td>hi ive been trying to get through to an agent on the chat for over a day now really need some help with my account</td>\n",
       "      <td>hi ive been trying to get through to an agent on the chat for over a day now really need some help with my account</td>\n",
       "      <td>4</td>\n",
       "    </tr>\n",
       "    <tr>\n",
       "      <th>78237</th>\n",
       "      <td>oblon_fitz_ob</td>\n",
       "      <td>cashdeposits via very important for german market</td>\n",
       "      <td>cashdeposits via very important for german market</td>\n",
       "      <td>2</td>\n",
       "    </tr>\n",
       "    <tr>\n",
       "      <th>12671</th>\n",
       "      <td>phil08game</td>\n",
       "      <td>is everything ok with the app cant use my account for anything</td>\n",
       "      <td>is everything ok with the app cant use my account for anything</td>\n",
       "      <td>1</td>\n",
       "    </tr>\n",
       "  </tbody>\n",
       "</table>\n",
       "</div>"
      ],
      "text/plain": [
       "             username  \\\n",
       "89581          s3ran0   \n",
       "92225  nizamaniasfand   \n",
       "16412     saraahowens   \n",
       "78237   oblon_fitz_ob   \n",
       "12671      phil08game   \n",
       "\n",
       "                                                                                                                    tweet  \\\n",
       "89581                i was requested to verify my funds i submitted all the necessary information and there is no reponse   \n",
       "92225                                        kindly dm me i am facing issues since last days and support chat didnt reply   \n",
       "16412  hi ive been trying to get through to an agent on the chat for over a day now really need some help with my account   \n",
       "78237                                                                   cashdeposits via very important for german market   \n",
       "12671                                                      is everything ok with the app cant use my account for anything   \n",
       "\n",
       "                                                                                                           tweet_compound  \\\n",
       "89581                i was requested to verify my funds i submitted all the necessary information and there is no reponse   \n",
       "92225                                        kindly dm me i am facing issues since last days and support chat didnt reply   \n",
       "16412  hi ive been trying to get through to an agent on the chat for over a day now really need some help with my account   \n",
       "78237                                                                   cashdeposits via very important for german market   \n",
       "12671                                                      is everything ok with the app cant use my account for anything   \n",
       "\n",
       "       topic  \n",
       "89581      0  \n",
       "92225      1  \n",
       "16412      4  \n",
       "78237      2  \n",
       "12671      1  "
      ]
     },
     "metadata": {},
     "output_type": "display_data"
    }
   ],
   "source": [
    "with option_context('display.max_colwidth', 600):\n",
    "    display(df_analysis.sample(5))"
   ]
  },
  {
   "cell_type": "markdown",
   "metadata": {},
   "source": [
    "### Sentiment analysis"
   ]
  },
  {
   "cell_type": "code",
   "execution_count": 126,
   "metadata": {},
   "outputs": [],
   "source": [
    "sid_obj = SentimentIntensityAnalyzer()\n",
    "sentiment = []\n",
    "for tweet in df_analysis.tweet:\n",
    "    sentiment.append(sid_obj.polarity_scores(tweet))"
   ]
  },
  {
   "cell_type": "code",
   "execution_count": 127,
   "metadata": {},
   "outputs": [
    {
     "data": {
      "text/html": [
       "<div>\n",
       "<style scoped>\n",
       "    .dataframe tbody tr th:only-of-type {\n",
       "        vertical-align: middle;\n",
       "    }\n",
       "\n",
       "    .dataframe tbody tr th {\n",
       "        vertical-align: top;\n",
       "    }\n",
       "\n",
       "    .dataframe thead th {\n",
       "        text-align: right;\n",
       "    }\n",
       "</style>\n",
       "<table border=\"1\" class=\"dataframe\">\n",
       "  <thead>\n",
       "    <tr style=\"text-align: right;\">\n",
       "      <th></th>\n",
       "      <th>neg</th>\n",
       "      <th>neu</th>\n",
       "      <th>pos</th>\n",
       "      <th>compound</th>\n",
       "    </tr>\n",
       "  </thead>\n",
       "  <tbody>\n",
       "    <tr>\n",
       "      <th>0</th>\n",
       "      <td>0.000</td>\n",
       "      <td>0.722</td>\n",
       "      <td>0.278</td>\n",
       "      <td>0.4019</td>\n",
       "    </tr>\n",
       "    <tr>\n",
       "      <th>1</th>\n",
       "      <td>0.329</td>\n",
       "      <td>0.671</td>\n",
       "      <td>0.000</td>\n",
       "      <td>-0.9136</td>\n",
       "    </tr>\n",
       "    <tr>\n",
       "      <th>2</th>\n",
       "      <td>0.138</td>\n",
       "      <td>0.862</td>\n",
       "      <td>0.000</td>\n",
       "      <td>-0.7269</td>\n",
       "    </tr>\n",
       "    <tr>\n",
       "      <th>3</th>\n",
       "      <td>0.000</td>\n",
       "      <td>0.952</td>\n",
       "      <td>0.048</td>\n",
       "      <td>0.2023</td>\n",
       "    </tr>\n",
       "    <tr>\n",
       "      <th>4</th>\n",
       "      <td>0.139</td>\n",
       "      <td>0.696</td>\n",
       "      <td>0.165</td>\n",
       "      <td>-0.1531</td>\n",
       "    </tr>\n",
       "  </tbody>\n",
       "</table>\n",
       "</div>"
      ],
      "text/plain": [
       "     neg    neu    pos  compound\n",
       "0  0.000  0.722  0.278    0.4019\n",
       "1  0.329  0.671  0.000   -0.9136\n",
       "2  0.138  0.862  0.000   -0.7269\n",
       "3  0.000  0.952  0.048    0.2023\n",
       "4  0.139  0.696  0.165   -0.1531"
      ]
     },
     "execution_count": 127,
     "metadata": {},
     "output_type": "execute_result"
    }
   ],
   "source": [
    "sentiment_df = pd.DataFrame(sentiment)\n",
    "sentiment_df.head()"
   ]
  },
  {
   "cell_type": "code",
   "execution_count": 128,
   "metadata": {},
   "outputs": [],
   "source": [
    "merged_df = pd.concat([df_analysis, sentiment_df], axis=1)"
   ]
  },
  {
   "cell_type": "code",
   "execution_count": 129,
   "metadata": {},
   "outputs": [],
   "source": [
    "full_df = pd.concat([df,merged_df],axis=1)"
   ]
  },
  {
   "cell_type": "markdown",
   "metadata": {},
   "source": [
    "### Analysis - high level topics"
   ]
  },
  {
   "cell_type": "code",
   "execution_count": 130,
   "metadata": {},
   "outputs": [],
   "source": [
    "## Add month feature to enable analysis over time\n",
    "full_df['month'] = pd.DatetimeIndex(full_df['date']).month\n",
    "full_df['day'] = pd.DatetimeIndex(full_df['date']).day"
   ]
  },
  {
   "cell_type": "code",
   "execution_count": 131,
   "metadata": {},
   "outputs": [
    {
     "data": {
      "text/html": [
       "<div>\n",
       "<style scoped>\n",
       "    .dataframe tbody tr th:only-of-type {\n",
       "        vertical-align: middle;\n",
       "    }\n",
       "\n",
       "    .dataframe tbody tr th {\n",
       "        vertical-align: top;\n",
       "    }\n",
       "\n",
       "    .dataframe thead th {\n",
       "        text-align: right;\n",
       "    }\n",
       "</style>\n",
       "<table border=\"1\" class=\"dataframe\">\n",
       "  <thead>\n",
       "    <tr style=\"text-align: right;\">\n",
       "      <th></th>\n",
       "      <th>Unnamed: 0</th>\n",
       "      <th>id</th>\n",
       "      <th>conversation_id</th>\n",
       "      <th>created_at</th>\n",
       "      <th>date</th>\n",
       "      <th>time</th>\n",
       "      <th>timezone</th>\n",
       "      <th>user_id</th>\n",
       "      <th>username</th>\n",
       "      <th>tweet</th>\n",
       "      <th>...</th>\n",
       "      <th>username</th>\n",
       "      <th>tweet</th>\n",
       "      <th>tweet_compound</th>\n",
       "      <th>topic</th>\n",
       "      <th>neg</th>\n",
       "      <th>neu</th>\n",
       "      <th>pos</th>\n",
       "      <th>compound</th>\n",
       "      <th>month</th>\n",
       "      <th>day</th>\n",
       "    </tr>\n",
       "  </thead>\n",
       "  <tbody>\n",
       "    <tr>\n",
       "      <th>17045</th>\n",
       "      <td>62557</td>\n",
       "      <td>1321476143804022793</td>\n",
       "      <td>1321476143804022793</td>\n",
       "      <td>2020-10-28 11:37:19 EDT</td>\n",
       "      <td>2020-10-28</td>\n",
       "      <td>11:37:19</td>\n",
       "      <td>-500</td>\n",
       "      <td>117465252</td>\n",
       "      <td>timpbreden</td>\n",
       "      <td>whats happening im a long term customer cant get in my bank or pay payees in my system your response is non existent</td>\n",
       "      <td>...</td>\n",
       "      <td>timpbreden</td>\n",
       "      <td>whats happening im a long term customer cant get in my bank or pay payees in my system your response is non existent</td>\n",
       "      <td>whats happening im a long term customer cant get in my bank or pay payees in my system your response is non existent</td>\n",
       "      <td>2</td>\n",
       "      <td>0.060</td>\n",
       "      <td>0.940</td>\n",
       "      <td>0.0</td>\n",
       "      <td>-0.1027</td>\n",
       "      <td>10</td>\n",
       "      <td>28</td>\n",
       "    </tr>\n",
       "    <tr>\n",
       "      <th>10841</th>\n",
       "      <td>49899</td>\n",
       "      <td>1329510904468287498</td>\n",
       "      <td>1329510904468287498</td>\n",
       "      <td>2020-11-19 14:44:35 EST</td>\n",
       "      <td>2020-11-19</td>\n",
       "      <td>14:44:35</td>\n",
       "      <td>-500</td>\n",
       "      <td>28559072</td>\n",
       "      <td>zippertheory</td>\n",
       "      <td>your customer service is absolute garbage stay far far away from this horrendous neobank</td>\n",
       "      <td>...</td>\n",
       "      <td>zippertheory</td>\n",
       "      <td>your customer service is absolute garbage stay far far away from this horrendous neobank</td>\n",
       "      <td>your customerservice is absolute garbage stay far far away from this horrendous fintech</td>\n",
       "      <td>2</td>\n",
       "      <td>0.257</td>\n",
       "      <td>0.743</td>\n",
       "      <td>0.0</td>\n",
       "      <td>-0.6705</td>\n",
       "      <td>11</td>\n",
       "      <td>19</td>\n",
       "    </tr>\n",
       "  </tbody>\n",
       "</table>\n",
       "<p>2 rows × 34 columns</p>\n",
       "</div>"
      ],
      "text/plain": [
       "       Unnamed: 0                   id      conversation_id  \\\n",
       "17045       62557  1321476143804022793  1321476143804022793   \n",
       "10841       49899  1329510904468287498  1329510904468287498   \n",
       "\n",
       "                    created_at        date      time  timezone    user_id  \\\n",
       "17045  2020-10-28 11:37:19 EDT  2020-10-28  11:37:19      -500  117465252   \n",
       "10841  2020-11-19 14:44:35 EST  2020-11-19  14:44:35      -500   28559072   \n",
       "\n",
       "           username  \\\n",
       "17045    timpbreden   \n",
       "10841  zippertheory   \n",
       "\n",
       "                                                                                                                      tweet  \\\n",
       "17045  whats happening im a long term customer cant get in my bank or pay payees in my system your response is non existent   \n",
       "10841                              your customer service is absolute garbage stay far far away from this horrendous neobank   \n",
       "\n",
       "       ...      username  \\\n",
       "17045  ...    timpbreden   \n",
       "10841  ...  zippertheory   \n",
       "\n",
       "                                                                                                                      tweet  \\\n",
       "17045  whats happening im a long term customer cant get in my bank or pay payees in my system your response is non existent   \n",
       "10841                              your customer service is absolute garbage stay far far away from this horrendous neobank   \n",
       "\n",
       "                                                                                                             tweet_compound  \\\n",
       "17045  whats happening im a long term customer cant get in my bank or pay payees in my system your response is non existent   \n",
       "10841                               your customerservice is absolute garbage stay far far away from this horrendous fintech   \n",
       "\n",
       "      topic    neg    neu  pos compound month day  \n",
       "17045     2  0.060  0.940  0.0  -0.1027    10  28  \n",
       "10841     2  0.257  0.743  0.0  -0.6705    11  19  \n",
       "\n",
       "[2 rows x 34 columns]"
      ]
     },
     "metadata": {},
     "output_type": "display_data"
    }
   ],
   "source": [
    "with option_context('display.max_colwidth', 600):\n",
    "    display(full_df[(full_df['topic']==2)].sample(2))"
   ]
  },
  {
   "cell_type": "code",
   "execution_count": 132,
   "metadata": {
    "scrolled": true
   },
   "outputs": [
    {
     "data": {
      "text/plain": [
       "topic  month\n",
       "0      1       -0.013182\n",
       "       2       -0.013563\n",
       "       3       -0.011696\n",
       "       4       -0.012413\n",
       "       5        0.008540\n",
       "       6       -0.046260\n",
       "       7       -0.020787\n",
       "       8       -0.024922\n",
       "       9       -0.007432\n",
       "       10       0.014977\n",
       "       11       0.001018\n",
       "       12       0.022280\n",
       "1      1        0.056801\n",
       "       2        0.063006\n",
       "       3        0.079246\n",
       "       4        0.026384\n",
       "       5        0.055621\n",
       "       6        0.034792\n",
       "       7        0.058540\n",
       "       8        0.072775\n",
       "       9        0.040242\n",
       "       10       0.070952\n",
       "       11       0.041433\n",
       "       12       0.056215\n",
       "2      1        0.125854\n",
       "       2        0.171484\n",
       "       3        0.155860\n",
       "       4        0.116767\n",
       "       5        0.114207\n",
       "       6        0.063835\n",
       "       7        0.156966\n",
       "       8        0.089978\n",
       "       9        0.124518\n",
       "       10       0.134403\n",
       "       11       0.061899\n",
       "       12       0.156189\n",
       "3      1       -0.067235\n",
       "       2       -0.057253\n",
       "       3       -0.002995\n",
       "       4       -0.073063\n",
       "       5       -0.093948\n",
       "       6       -0.089434\n",
       "       7       -0.051643\n",
       "       8       -0.075558\n",
       "       9       -0.079743\n",
       "       10      -0.020786\n",
       "       11      -0.074935\n",
       "       12      -0.049372\n",
       "4      1        0.262144\n",
       "       2        0.272856\n",
       "       3        0.284820\n",
       "       4        0.267505\n",
       "       5        0.250271\n",
       "       6        0.247310\n",
       "       7        0.272635\n",
       "       8        0.279520\n",
       "       9        0.278987\n",
       "       10       0.286813\n",
       "       11       0.287190\n",
       "       12       0.296421\n",
       "Name: compound, dtype: float64"
      ]
     },
     "execution_count": 132,
     "metadata": {},
     "output_type": "execute_result"
    }
   ],
   "source": [
    "full_df.groupby(['topic','month'])['compound'].mean()"
   ]
  },
  {
   "cell_type": "code",
   "execution_count": 133,
   "metadata": {
    "scrolled": true
   },
   "outputs": [
    {
     "data": {
      "text/plain": [
       "topic\n",
       "0    15560\n",
       "1    26169\n",
       "2    25213\n",
       "3    15423\n",
       "4    14700\n",
       "Name: topic, dtype: int64"
      ]
     },
     "execution_count": 133,
     "metadata": {},
     "output_type": "execute_result"
    }
   ],
   "source": [
    "full_df.groupby('topic')['topic'].count()"
   ]
  },
  {
   "cell_type": "code",
   "execution_count": 134,
   "metadata": {},
   "outputs": [
    {
     "data": {
      "text/plain": [
       "(97065, 34)"
      ]
     },
     "execution_count": 134,
     "metadata": {},
     "output_type": "execute_result"
    }
   ],
   "source": [
    "full_df.shape"
   ]
  },
  {
   "cell_type": "code",
   "execution_count": 25,
   "metadata": {},
   "outputs": [],
   "source": [
    "# full_df.to_csv('check.csv')"
   ]
  },
  {
   "cell_type": "code",
   "execution_count": 26,
   "metadata": {},
   "outputs": [],
   "source": [
    "## Export to csv for Tableau analysis\n",
    "#full_df.to_csv('datatableau.csv')"
   ]
  },
  {
   "cell_type": "code",
   "execution_count": 27,
   "metadata": {},
   "outputs": [],
   "source": [
    "# charles94240716"
   ]
  },
  {
   "cell_type": "markdown",
   "metadata": {},
   "source": [
    "### TFI-DF"
   ]
  },
  {
   "cell_type": "code",
   "execution_count": 28,
   "metadata": {},
   "outputs": [],
   "source": [
    "# function to display top n terms associated with each topic\n",
    "\n",
    "def display_topics(model, feature_names, no_top_words, topic_names=None):\n",
    "    for ix, topic in enumerate(model.components_):\n",
    "        if not topic_names or not topic_names[ix]:\n",
    "            print(\"\\nTopic \", ix)\n",
    "        else:\n",
    "            print(\"\\nTopic: '\",topic_names[ix],\"'\")\n",
    "        print(\", \".join([feature_names[i]\n",
    "                        for i in topic.argsort()[:-no_top_words - 1:-1]]))"
   ]
  },
  {
   "cell_type": "code",
   "execution_count": 29,
   "metadata": {},
   "outputs": [
    {
     "name": "stderr",
     "output_type": "stream",
     "text": [
      "/Users/tawneykirkland/opt/anaconda3/lib/python3.8/site-packages/sklearn/feature_extraction/text.py:383: UserWarning: Your stop_words may be inconsistent with your preprocessing. Tokenizing the stop words generated tokens [\"'d\", \"'ll\", \"'re\", \"'s\", \"'ve\", 'course', \"n't\", 'sha', 'wo', 'would'] not in stop_words.\n",
      "  warnings.warn('Your stop_words may be inconsistent with '\n"
     ]
    },
    {
     "name": "stdout",
     "output_type": "stream",
     "text": [
      "(97065, 14531)\n"
     ]
    }
   ],
   "source": [
    "# tuning vectorizer params\n",
    "tf_idf = TfidfVectorizer(stop_words=stop,\n",
    "                         tokenizer=word_tokenize,\n",
    "                         min_df= 2,\n",
    "                         max_df= 0.9)\n",
    "\n",
    "# document-term matrix\n",
    "doc_word2 = tf_idf.fit_transform(df_analysis.tweet_compound)\n",
    "print(doc_word2.shape)"
   ]
  },
  {
   "cell_type": "code",
   "execution_count": 30,
   "metadata": {
    "scrolled": true
   },
   "outputs": [
    {
     "name": "stdout",
     "output_type": "stream",
     "text": [
      "\n",
      "Topic  0\n",
      "account, months, weeks, days, funds\n",
      "\n",
      "Topic  1\n",
      "help, revolut, problem, log, anyone\n",
      "\n",
      "Topic  2\n",
      "app, log, phone, support, problem\n",
      "\n",
      "Topic  3\n",
      "money, revolut, send, transfer, months\n",
      "\n",
      "Topic  4\n",
      "chat, live, reply, days, support\n"
     ]
    }
   ],
   "source": [
    "n = 5 # number of topics\n",
    "\n",
    "# model selection, fit/trans, and hyperparameter tuning\n",
    "nmf_model_2 = NMF(n_components =n)\n",
    "\n",
    "# doc-topic matrix\n",
    "doc_topic2 = nmf_model_2.fit_transform(doc_word2)\n",
    "\n",
    "# creating ids for each topic\n",
    "topic_ids2 = [\"topic\"+str(val) for val in range(n)]\n",
    "\n",
    "# topic-term matrix\n",
    "topic_word2 = pd.DataFrame(nmf_model_2.components_.round(n),\n",
    "             index = topic_ids2,\n",
    "             columns = tf_idf.get_feature_names())\n",
    "\n",
    "# prints top x words in each topic\n",
    "display_topics(nmf_model_2, \n",
    "               tf_idf.get_feature_names(), \n",
    "               5) # number of top words/topic"
   ]
  },
  {
   "cell_type": "markdown",
   "metadata": {},
   "source": [
    "### Fix split of data"
   ]
  },
  {
   "cell_type": "code",
   "execution_count": 86,
   "metadata": {},
   "outputs": [],
   "source": [
    "df_intent = pd.read_csv('training_base.csv',\n",
    "                       usecols = ['username','tweet','intent'])\n",
    "\n",
    "def remove_space(text):\n",
    "    text = text.strip()\n",
    "    text = re.sub(\"\\s\\s+\", \" \", text)\n",
    "    return text\n",
    "    \n",
    "df_intent['tweet'] = df_intent.tweet.map(remove_space)\n",
    "merged_df['tweet'] = merged_df.tweet.map(remove_space)"
   ]
  },
  {
   "cell_type": "code",
   "execution_count": 87,
   "metadata": {},
   "outputs": [
    {
     "data": {
      "text/html": [
       "<div>\n",
       "<style scoped>\n",
       "    .dataframe tbody tr th:only-of-type {\n",
       "        vertical-align: middle;\n",
       "    }\n",
       "\n",
       "    .dataframe tbody tr th {\n",
       "        vertical-align: top;\n",
       "    }\n",
       "\n",
       "    .dataframe thead th {\n",
       "        text-align: right;\n",
       "    }\n",
       "</style>\n",
       "<table border=\"1\" class=\"dataframe\">\n",
       "  <thead>\n",
       "    <tr style=\"text-align: right;\">\n",
       "      <th></th>\n",
       "      <th>username</th>\n",
       "      <th>tweet</th>\n",
       "      <th>tweet_compound</th>\n",
       "      <th>topic</th>\n",
       "      <th>neg</th>\n",
       "      <th>neu</th>\n",
       "      <th>pos</th>\n",
       "      <th>compound</th>\n",
       "      <th>key</th>\n",
       "    </tr>\n",
       "  </thead>\n",
       "  <tbody>\n",
       "    <tr>\n",
       "      <th>0</th>\n",
       "      <td>richard64637000</td>\n",
       "      <td>i need help with account verification skaterbo...</td>\n",
       "      <td>i need help with account verification skaterbo...</td>\n",
       "      <td>4</td>\n",
       "      <td>0.000</td>\n",
       "      <td>0.722</td>\n",
       "      <td>0.278</td>\n",
       "      <td>0.4019</td>\n",
       "      <td>richard64637000i need help with account verifi...</td>\n",
       "    </tr>\n",
       "    <tr>\n",
       "      <th>1</th>\n",
       "      <td>darley_darren</td>\n",
       "      <td>your agents are beyond useless lied to me and ...</td>\n",
       "      <td>your agents are beyond useless lied to me and ...</td>\n",
       "      <td>4</td>\n",
       "      <td>0.329</td>\n",
       "      <td>0.671</td>\n",
       "      <td>0.000</td>\n",
       "      <td>-0.9136</td>\n",
       "      <td>darley_darrenyour agents are beyond useless li...</td>\n",
       "    </tr>\n",
       "    <tr>\n",
       "      <th>2</th>\n",
       "      <td>darley_darren</td>\n",
       "      <td>nd time revolut put me in a bad position and h...</td>\n",
       "      <td>nd time revolut put me in a bad position and h...</td>\n",
       "      <td>2</td>\n",
       "      <td>0.138</td>\n",
       "      <td>0.862</td>\n",
       "      <td>0.000</td>\n",
       "      <td>-0.7269</td>\n",
       "      <td>darley_darrennd time revolut put me in a bad p...</td>\n",
       "    </tr>\n",
       "    <tr>\n",
       "      <th>3</th>\n",
       "      <td>aoife_galvin</td>\n",
       "      <td>how can i talk to someone about currency excha...</td>\n",
       "      <td>how can i talk to someone about currency excha...</td>\n",
       "      <td>1</td>\n",
       "      <td>0.000</td>\n",
       "      <td>0.952</td>\n",
       "      <td>0.048</td>\n",
       "      <td>0.2023</td>\n",
       "      <td>aoife_galvinhow can i talk to someone about cu...</td>\n",
       "    </tr>\n",
       "    <tr>\n",
       "      <th>4</th>\n",
       "      <td>cian47477384</td>\n",
       "      <td>how do i change my number if ive no access to ...</td>\n",
       "      <td>how do i change my number if ive no access to ...</td>\n",
       "      <td>1</td>\n",
       "      <td>0.139</td>\n",
       "      <td>0.696</td>\n",
       "      <td>0.165</td>\n",
       "      <td>-0.1531</td>\n",
       "      <td>cian47477384how do i change my number if ive n...</td>\n",
       "    </tr>\n",
       "    <tr>\n",
       "      <th>...</th>\n",
       "      <td>...</td>\n",
       "      <td>...</td>\n",
       "      <td>...</td>\n",
       "      <td>...</td>\n",
       "      <td>...</td>\n",
       "      <td>...</td>\n",
       "      <td>...</td>\n",
       "      <td>...</td>\n",
       "      <td>...</td>\n",
       "    </tr>\n",
       "    <tr>\n",
       "      <th>97060</th>\n",
       "      <td>cristinayo12</td>\n",
       "      <td>omg months mine is locked for months and im tr...</td>\n",
       "      <td>omg months mine is lock for months and im tryi...</td>\n",
       "      <td>1</td>\n",
       "      <td>0.133</td>\n",
       "      <td>0.867</td>\n",
       "      <td>0.000</td>\n",
       "      <td>-0.3818</td>\n",
       "      <td>cristinayo12omg months mine is locked for mont...</td>\n",
       "    </tr>\n",
       "    <tr>\n",
       "      <th>97061</th>\n",
       "      <td>towerspro</td>\n",
       "      <td>my account has been hacked and i cant contact ...</td>\n",
       "      <td>my account has been hacked and i cant contact ...</td>\n",
       "      <td>0</td>\n",
       "      <td>0.137</td>\n",
       "      <td>0.863</td>\n",
       "      <td>0.000</td>\n",
       "      <td>-0.4019</td>\n",
       "      <td>towerspromy account has been hacked and i cant...</td>\n",
       "    </tr>\n",
       "    <tr>\n",
       "      <th>97062</th>\n",
       "      <td>zlymeda</td>\n",
       "      <td>good for you i was not even contacted via inap...</td>\n",
       "      <td>good for you i was not even contacted via inap...</td>\n",
       "      <td>1</td>\n",
       "      <td>0.085</td>\n",
       "      <td>0.855</td>\n",
       "      <td>0.060</td>\n",
       "      <td>-0.2144</td>\n",
       "      <td>zlymedagood for you i was not even contacted v...</td>\n",
       "    </tr>\n",
       "    <tr>\n",
       "      <th>97063</th>\n",
       "      <td>_saulmm</td>\n",
       "      <td>after sending them a bunch of documents they u...</td>\n",
       "      <td>after sending them a bunch of documents they l...</td>\n",
       "      <td>0</td>\n",
       "      <td>0.000</td>\n",
       "      <td>0.896</td>\n",
       "      <td>0.104</td>\n",
       "      <td>0.2732</td>\n",
       "      <td>_saulmmafter sending them a bunch of documents...</td>\n",
       "    </tr>\n",
       "    <tr>\n",
       "      <th>97064</th>\n",
       "      <td>educatedk7</td>\n",
       "      <td>hey revolut you need to improve the gps tracki...</td>\n",
       "      <td>hey revolut you need to improve the gps tracki...</td>\n",
       "      <td>2</td>\n",
       "      <td>0.000</td>\n",
       "      <td>0.853</td>\n",
       "      <td>0.147</td>\n",
       "      <td>0.6908</td>\n",
       "      <td>educatedk7hey revolut you need to improve the ...</td>\n",
       "    </tr>\n",
       "  </tbody>\n",
       "</table>\n",
       "<p>97065 rows × 9 columns</p>\n",
       "</div>"
      ],
      "text/plain": [
       "              username                                              tweet  \\\n",
       "0      richard64637000  i need help with account verification skaterbo...   \n",
       "1        darley_darren  your agents are beyond useless lied to me and ...   \n",
       "2        darley_darren  nd time revolut put me in a bad position and h...   \n",
       "3         aoife_galvin  how can i talk to someone about currency excha...   \n",
       "4         cian47477384  how do i change my number if ive no access to ...   \n",
       "...                ...                                                ...   \n",
       "97060     cristinayo12  omg months mine is locked for months and im tr...   \n",
       "97061        towerspro  my account has been hacked and i cant contact ...   \n",
       "97062          zlymeda  good for you i was not even contacted via inap...   \n",
       "97063          _saulmm  after sending them a bunch of documents they u...   \n",
       "97064       educatedk7  hey revolut you need to improve the gps tracki...   \n",
       "\n",
       "                                          tweet_compound  topic    neg    neu  \\\n",
       "0      i need help with account verification skaterbo...      4  0.000  0.722   \n",
       "1      your agents are beyond useless lied to me and ...      4  0.329  0.671   \n",
       "2      nd time revolut put me in a bad position and h...      2  0.138  0.862   \n",
       "3      how can i talk to someone about currency excha...      1  0.000  0.952   \n",
       "4      how do i change my number if ive no access to ...      1  0.139  0.696   \n",
       "...                                                  ...    ...    ...    ...   \n",
       "97060  omg months mine is lock for months and im tryi...      1  0.133  0.867   \n",
       "97061  my account has been hacked and i cant contact ...      0  0.137  0.863   \n",
       "97062  good for you i was not even contacted via inap...      1  0.085  0.855   \n",
       "97063  after sending them a bunch of documents they l...      0  0.000  0.896   \n",
       "97064  hey revolut you need to improve the gps tracki...      2  0.000  0.853   \n",
       "\n",
       "         pos  compound                                                key  \n",
       "0      0.278    0.4019  richard64637000i need help with account verifi...  \n",
       "1      0.000   -0.9136  darley_darrenyour agents are beyond useless li...  \n",
       "2      0.000   -0.7269  darley_darrennd time revolut put me in a bad p...  \n",
       "3      0.048    0.2023  aoife_galvinhow can i talk to someone about cu...  \n",
       "4      0.165   -0.1531  cian47477384how do i change my number if ive n...  \n",
       "...      ...       ...                                                ...  \n",
       "97060  0.000   -0.3818  cristinayo12omg months mine is locked for mont...  \n",
       "97061  0.000   -0.4019  towerspromy account has been hacked and i cant...  \n",
       "97062  0.060   -0.2144  zlymedagood for you i was not even contacted v...  \n",
       "97063  0.104    0.2732  _saulmmafter sending them a bunch of documents...  \n",
       "97064  0.147    0.6908  educatedk7hey revolut you need to improve the ...  \n",
       "\n",
       "[97065 rows x 9 columns]"
      ]
     },
     "execution_count": 87,
     "metadata": {},
     "output_type": "execute_result"
    }
   ],
   "source": [
    "merged_df"
   ]
  },
  {
   "cell_type": "code",
   "execution_count": 88,
   "metadata": {},
   "outputs": [],
   "source": [
    "merged_df['key'] = merged_df['username'] + merged_df['tweet']\n",
    "d = merged_df[~merged_df['key'].isin(df_intent['username'] + df_intent['tweet'])].drop(['key'], axis=1)"
   ]
  },
  {
   "cell_type": "code",
   "execution_count": 89,
   "metadata": {},
   "outputs": [],
   "source": [
    "tr1, test1 = train_test_split(d,train_size=200,random_state=10)"
   ]
  },
  {
   "cell_type": "code",
   "execution_count": 90,
   "metadata": {},
   "outputs": [
    {
     "data": {
      "text/html": [
       "<div>\n",
       "<style scoped>\n",
       "    .dataframe tbody tr th:only-of-type {\n",
       "        vertical-align: middle;\n",
       "    }\n",
       "\n",
       "    .dataframe tbody tr th {\n",
       "        vertical-align: top;\n",
       "    }\n",
       "\n",
       "    .dataframe thead th {\n",
       "        text-align: right;\n",
       "    }\n",
       "</style>\n",
       "<table border=\"1\" class=\"dataframe\">\n",
       "  <thead>\n",
       "    <tr style=\"text-align: right;\">\n",
       "      <th></th>\n",
       "      <th>username</th>\n",
       "      <th>tweet</th>\n",
       "      <th>tweet_compound</th>\n",
       "      <th>topic</th>\n",
       "      <th>neg</th>\n",
       "      <th>neu</th>\n",
       "      <th>pos</th>\n",
       "      <th>compound</th>\n",
       "    </tr>\n",
       "  </thead>\n",
       "  <tbody>\n",
       "    <tr>\n",
       "      <th>76694</th>\n",
       "      <td>mushroomsouffle</td>\n",
       "      <td>hi my app is refusing to top up because it say...</td>\n",
       "      <td>hi my app is refusing to top up because it say...</td>\n",
       "      <td>1</td>\n",
       "      <td>0.107</td>\n",
       "      <td>0.746</td>\n",
       "      <td>0.147</td>\n",
       "      <td>0.1551</td>\n",
       "    </tr>\n",
       "    <tr>\n",
       "      <th>92999</th>\n",
       "      <td>oliverbeirne</td>\n",
       "      <td>well that dm was no help you have my money giv...</td>\n",
       "      <td>well that dm was no help you have my money giv...</td>\n",
       "      <td>4</td>\n",
       "      <td>0.101</td>\n",
       "      <td>0.805</td>\n",
       "      <td>0.094</td>\n",
       "      <td>-0.0408</td>\n",
       "    </tr>\n",
       "    <tr>\n",
       "      <th>28918</th>\n",
       "      <td>nucleargeo</td>\n",
       "      <td>can someone direct message me please concernin...</td>\n",
       "      <td>can someone direct message me please concernin...</td>\n",
       "      <td>0</td>\n",
       "      <td>0.000</td>\n",
       "      <td>0.777</td>\n",
       "      <td>0.223</td>\n",
       "      <td>0.3182</td>\n",
       "    </tr>\n",
       "    <tr>\n",
       "      <th>84763</th>\n",
       "      <td>channerz_maiden</td>\n",
       "      <td>with the collapse if we have booked flights is...</td>\n",
       "      <td>with the collapse if we have booked flights is...</td>\n",
       "      <td>3</td>\n",
       "      <td>0.167</td>\n",
       "      <td>0.833</td>\n",
       "      <td>0.000</td>\n",
       "      <td>-0.4939</td>\n",
       "    </tr>\n",
       "    <tr>\n",
       "      <th>32115</th>\n",
       "      <td>soso13651675</td>\n",
       "      <td>she did not asked she is just assuming unbelie...</td>\n",
       "      <td>she did not asked she is just assuming unbelie...</td>\n",
       "      <td>1</td>\n",
       "      <td>0.233</td>\n",
       "      <td>0.650</td>\n",
       "      <td>0.117</td>\n",
       "      <td>-0.4201</td>\n",
       "    </tr>\n",
       "    <tr>\n",
       "      <th>...</th>\n",
       "      <td>...</td>\n",
       "      <td>...</td>\n",
       "      <td>...</td>\n",
       "      <td>...</td>\n",
       "      <td>...</td>\n",
       "      <td>...</td>\n",
       "      <td>...</td>\n",
       "      <td>...</td>\n",
       "    </tr>\n",
       "    <tr>\n",
       "      <th>35886</th>\n",
       "      <td>herr_malcom</td>\n",
       "      <td>it would request for a different card is this ...</td>\n",
       "      <td>it would request for a different card is this ...</td>\n",
       "      <td>1</td>\n",
       "      <td>0.000</td>\n",
       "      <td>0.813</td>\n",
       "      <td>0.187</td>\n",
       "      <td>0.3182</td>\n",
       "    </tr>\n",
       "    <tr>\n",
       "      <th>32077</th>\n",
       "      <td>hsearson93</td>\n",
       "      <td>i had to log out of my app and now i cant log ...</td>\n",
       "      <td>i had to log out of my app and now i cant log ...</td>\n",
       "      <td>1</td>\n",
       "      <td>0.000</td>\n",
       "      <td>0.773</td>\n",
       "      <td>0.227</td>\n",
       "      <td>0.6124</td>\n",
       "    </tr>\n",
       "    <tr>\n",
       "      <th>12944</th>\n",
       "      <td>tarsnotteboom</td>\n",
       "      <td>same for me maybe we can hire a professional p...</td>\n",
       "      <td>same for me maybe we can hire a professional p...</td>\n",
       "      <td>3</td>\n",
       "      <td>0.289</td>\n",
       "      <td>0.711</td>\n",
       "      <td>0.000</td>\n",
       "      <td>-0.6908</td>\n",
       "    </tr>\n",
       "    <tr>\n",
       "      <th>19171</th>\n",
       "      <td>sneakersnow</td>\n",
       "      <td>i had revolut until you locked me out for mont...</td>\n",
       "      <td>i had revolut until you lock me out for months...</td>\n",
       "      <td>3</td>\n",
       "      <td>0.000</td>\n",
       "      <td>1.000</td>\n",
       "      <td>0.000</td>\n",
       "      <td>0.0000</td>\n",
       "    </tr>\n",
       "    <tr>\n",
       "      <th>12827</th>\n",
       "      <td>yomi_fl</td>\n",
       "      <td>still no update from your team</td>\n",
       "      <td>still no update from your team</td>\n",
       "      <td>1</td>\n",
       "      <td>0.306</td>\n",
       "      <td>0.694</td>\n",
       "      <td>0.000</td>\n",
       "      <td>-0.2960</td>\n",
       "    </tr>\n",
       "  </tbody>\n",
       "</table>\n",
       "<p>93023 rows × 8 columns</p>\n",
       "</div>"
      ],
      "text/plain": [
       "              username                                              tweet  \\\n",
       "76694  mushroomsouffle  hi my app is refusing to top up because it say...   \n",
       "92999     oliverbeirne  well that dm was no help you have my money giv...   \n",
       "28918       nucleargeo  can someone direct message me please concernin...   \n",
       "84763  channerz_maiden  with the collapse if we have booked flights is...   \n",
       "32115     soso13651675  she did not asked she is just assuming unbelie...   \n",
       "...                ...                                                ...   \n",
       "35886      herr_malcom  it would request for a different card is this ...   \n",
       "32077       hsearson93  i had to log out of my app and now i cant log ...   \n",
       "12944    tarsnotteboom  same for me maybe we can hire a professional p...   \n",
       "19171      sneakersnow  i had revolut until you locked me out for mont...   \n",
       "12827          yomi_fl                     still no update from your team   \n",
       "\n",
       "                                          tweet_compound  topic    neg    neu  \\\n",
       "76694  hi my app is refusing to top up because it say...      1  0.107  0.746   \n",
       "92999  well that dm was no help you have my money giv...      4  0.101  0.805   \n",
       "28918  can someone direct message me please concernin...      0  0.000  0.777   \n",
       "84763  with the collapse if we have booked flights is...      3  0.167  0.833   \n",
       "32115  she did not asked she is just assuming unbelie...      1  0.233  0.650   \n",
       "...                                                  ...    ...    ...    ...   \n",
       "35886  it would request for a different card is this ...      1  0.000  0.813   \n",
       "32077  i had to log out of my app and now i cant log ...      1  0.000  0.773   \n",
       "12944  same for me maybe we can hire a professional p...      3  0.289  0.711   \n",
       "19171  i had revolut until you lock me out for months...      3  0.000  1.000   \n",
       "12827                     still no update from your team      1  0.306  0.694   \n",
       "\n",
       "         pos  compound  \n",
       "76694  0.147    0.1551  \n",
       "92999  0.094   -0.0408  \n",
       "28918  0.223    0.3182  \n",
       "84763  0.000   -0.4939  \n",
       "32115  0.117   -0.4201  \n",
       "...      ...       ...  \n",
       "35886  0.187    0.3182  \n",
       "32077  0.227    0.6124  \n",
       "12944  0.000   -0.6908  \n",
       "19171  0.000    0.0000  \n",
       "12827  0.000   -0.2960  \n",
       "\n",
       "[93023 rows x 8 columns]"
      ]
     },
     "execution_count": 90,
     "metadata": {},
     "output_type": "execute_result"
    }
   ],
   "source": [
    "test1"
   ]
  },
  {
   "cell_type": "code",
   "execution_count": 92,
   "metadata": {},
   "outputs": [],
   "source": [
    "tr1.to_csv('training_8.csv')"
   ]
  },
  {
   "cell_type": "code",
   "execution_count": 93,
   "metadata": {},
   "outputs": [],
   "source": [
    "test1.to_csv('testing_base.csv')"
   ]
  },
  {
   "cell_type": "code",
   "execution_count": 135,
   "metadata": {},
   "outputs": [],
   "source": [
    "tr2, test2 = train_test_split(test1,train_size=300,random_state=10)"
   ]
  },
  {
   "cell_type": "code",
   "execution_count": 139,
   "metadata": {},
   "outputs": [],
   "source": [
    "tr2.to_csv('training_9.csv')"
   ]
  },
  {
   "cell_type": "code",
   "execution_count": null,
   "metadata": {},
   "outputs": [],
   "source": []
  }
 ],
 "metadata": {
  "kernelspec": {
   "display_name": "Python 3",
   "language": "python",
   "name": "python3"
  },
  "language_info": {
   "codemirror_mode": {
    "name": "ipython",
    "version": 3
   },
   "file_extension": ".py",
   "mimetype": "text/x-python",
   "name": "python",
   "nbconvert_exporter": "python",
   "pygments_lexer": "ipython3",
   "version": "3.8.5"
  }
 },
 "nbformat": 4,
 "nbformat_minor": 4
}
